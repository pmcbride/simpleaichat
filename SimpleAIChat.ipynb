{
 "cells": [
  {
   "attachments": {},
   "cell_type": "markdown",
   "metadata": {},
   "source": [
    "# SimpleAIChat"
   ]
  },
  {
   "attachments": {},
   "cell_type": "markdown",
   "metadata": {},
   "source": [
    "Here's some fun, hackable examples on how simpleaichat works:\n",
    "\n",
    "- Creating a [Python coding assistant](examples/notebooks/simpleaichat_coding.ipynb) without any unnecessary accompanying output, allowing 5x faster generation at 1/3rd the cost. ([Colab](https://colab.research.google.com/github/minimaxir/simpleaichat/blob/main/examples/notebooks/simpleaichat_coding.ipynb))\n",
    "- Allowing simpleaichat to [provide inline tips](examples/notebooks/chatgpt_inline_tips.ipynb) following ChatGPT usage guidelines. ([Colab](https://colab.research.google.com/github/minimaxir/simpleaichat/blob/main/examples/notebooks/chatgpt_inline_tips.ipynb))\n",
    "- Async interface for [conducting many chats](examples/notebooks/simpleaichat_async.ipynb) in the time it takes to receive one AI message. ([Colab](https://colab.research.google.com/github/minimaxir/simpleaichat/blob/main/examples/notebooks/simpleaichat_async.ipynb))\n",
    "- Create your own Tabletop RPG (TTRPG) setting and campaign by using [advanced structured data models](examples/notebooks/schema_ttrpg.ipynb). ([Colab](https://colab.research.google.com/github/minimaxir/simpleaichat/blob/main/examples/notebooks/schema_ttrpg.ipynb))"
   ]
  },
  {
   "cell_type": "code",
   "execution_count": 2,
   "metadata": {},
   "outputs": [
    {
     "data": {
      "text/plain": [
       "True"
      ]
     },
     "execution_count": 2,
     "metadata": {},
     "output_type": "execute_result"
    },
    {
     "data": {
      "text/html": [
       "<pre style=\"white-space:pre;overflow-x:auto;line-height:normal;font-family:Menlo,'DejaVu Sans Mono',consolas,'Courier New',monospace\"><span style=\"color: #c0c0c0; text-decoration-color: #c0c0c0; font-weight: bold\">ChatGPTSession </span><span style=\"color: #c0c0c0; text-decoration-color: #c0c0c0; font-weight: bold\">0</span><span style=\"color: #c0c0c0; text-decoration-color: #c0c0c0; font-weight: bold\">: UUID(</span><span style=\"color: #c0c0c0; text-decoration-color: #c0c0c0; font-weight: bold\">'185bef0d-c869-4f80-a0bc-1bb0ed4749bc'</span><span style=\"color: #c0c0c0; text-decoration-color: #c0c0c0; font-weight: bold\">)</span>\n",
       "<span style=\"color: #800080; text-decoration-color: #800080; font-weight: bold\">ChatGPTSession</span><span style=\"font-weight: bold\">(</span>\n",
       "    <span style=\"color: #808000; text-decoration-color: #808000\">id</span>=<span style=\"color: #800080; text-decoration-color: #800080; font-weight: bold\">UUID</span><span style=\"font-weight: bold\">(</span><span style=\"color: #008000; text-decoration-color: #008000\">'185bef0d-c869-4f80-a0bc-1bb0ed4749bc'</span><span style=\"font-weight: bold\">)</span>,\n",
       "    <span style=\"color: #808000; text-decoration-color: #808000\">created_at</span>=<span style=\"color: #800080; text-decoration-color: #800080; font-weight: bold\">datetime</span><span style=\"color: #800080; text-decoration-color: #800080; font-weight: bold\">.datetime</span><span style=\"font-weight: bold\">(</span><span style=\"color: #008080; text-decoration-color: #008080; font-weight: bold\">2023</span>, <span style=\"color: #008080; text-decoration-color: #008080; font-weight: bold\">6</span>, <span style=\"color: #008080; text-decoration-color: #008080; font-weight: bold\">20</span>, <span style=\"color: #008080; text-decoration-color: #008080; font-weight: bold\">10</span>, <span style=\"color: #008080; text-decoration-color: #008080; font-weight: bold\">12</span>, <span style=\"color: #008080; text-decoration-color: #008080; font-weight: bold\">58</span>, <span style=\"color: #008080; text-decoration-color: #008080; font-weight: bold\">407313</span>, <span style=\"color: #808000; text-decoration-color: #808000\">tzinfo</span>=<span style=\"color: #800080; text-decoration-color: #800080\">datetime</span>.timezone.utc<span style=\"font-weight: bold\">)</span>,\n",
       "    <span style=\"color: #808000; text-decoration-color: #808000\">auth</span>=<span style=\"font-weight: bold\">{</span><span style=\"color: #008000; text-decoration-color: #008000\">'api_key'</span>: <span style=\"color: #800080; text-decoration-color: #800080; font-weight: bold\">SecretStr</span><span style=\"font-weight: bold\">(</span><span style=\"color: #008000; text-decoration-color: #008000\">'**********'</span><span style=\"font-weight: bold\">)}</span>,\n",
       "    <span style=\"color: #808000; text-decoration-color: #808000\">api_url</span>=<span style=\"color: #008000; text-decoration-color: #008000\">'https://api.openai.com/v1/chat/completions'</span>,\n",
       "    <span style=\"color: #808000; text-decoration-color: #808000\">model</span>=<span style=\"color: #008000; text-decoration-color: #008000\">'gpt-3.5-turbo'</span>,\n",
       "    <span style=\"color: #808000; text-decoration-color: #808000\">system</span>=<span style=\"color: #008000; text-decoration-color: #008000\">'You are a helpful assistant.'</span>,\n",
       "    <span style=\"color: #808000; text-decoration-color: #808000\">params</span>=<span style=\"font-weight: bold\">{</span><span style=\"color: #008000; text-decoration-color: #008000\">'temperature'</span>: <span style=\"color: #008080; text-decoration-color: #008080; font-weight: bold\">0.7</span><span style=\"font-weight: bold\">}</span>,\n",
       "    <span style=\"color: #808000; text-decoration-color: #808000\">messages</span>=<span style=\"font-weight: bold\">[]</span>,\n",
       "    <span style=\"color: #808000; text-decoration-color: #808000\">input_fields</span>=<span style=\"font-weight: bold\">{</span><span style=\"color: #008000; text-decoration-color: #008000\">'role'</span>, <span style=\"color: #008000; text-decoration-color: #008000\">'name'</span>, <span style=\"color: #008000; text-decoration-color: #008000\">'content'</span><span style=\"font-weight: bold\">}</span>,\n",
       "    <span style=\"color: #808000; text-decoration-color: #808000\">recent_messages</span>=<span style=\"color: #800080; text-decoration-color: #800080; font-style: italic\">None</span>,\n",
       "    <span style=\"color: #808000; text-decoration-color: #808000\">save_messages</span>=<span style=\"color: #00ff00; text-decoration-color: #00ff00; font-style: italic\">True</span>,\n",
       "    <span style=\"color: #808000; text-decoration-color: #808000\">total_prompt_length</span>=<span style=\"color: #008080; text-decoration-color: #008080; font-weight: bold\">0</span>,\n",
       "    <span style=\"color: #808000; text-decoration-color: #808000\">total_completion_length</span>=<span style=\"color: #008080; text-decoration-color: #008080; font-weight: bold\">0</span>,\n",
       "    <span style=\"color: #808000; text-decoration-color: #808000\">total_length</span>=<span style=\"color: #008080; text-decoration-color: #008080; font-weight: bold\">0</span>,\n",
       "    <span style=\"color: #808000; text-decoration-color: #808000\">title</span>=<span style=\"color: #800080; text-decoration-color: #800080; font-style: italic\">None</span>\n",
       "<span style=\"font-weight: bold\">)</span>\n",
       "</pre>\n"
      ],
      "text/plain": [
       "\u001b[1;37mChatGPTSession \u001b[0m\u001b[1;37m0\u001b[0m\u001b[1;37m: \u001b[0m\u001b[1;37mUUID\u001b[0m\u001b[1;37m(\u001b[0m\u001b[1;37m'185bef0d-c869-4f80-a0bc-1bb0ed4749bc'\u001b[0m\u001b[1;37m)\u001b[0m\n",
       "\u001b[1;35mChatGPTSession\u001b[0m\u001b[1m(\u001b[0m\n",
       "    \u001b[33mid\u001b[0m=\u001b[1;35mUUID\u001b[0m\u001b[1m(\u001b[0m\u001b[32m'185bef0d-c869-4f80-a0bc-1bb0ed4749bc'\u001b[0m\u001b[1m)\u001b[0m,\n",
       "    \u001b[33mcreated_at\u001b[0m=\u001b[1;35mdatetime\u001b[0m\u001b[1;35m.datetime\u001b[0m\u001b[1m(\u001b[0m\u001b[1;36m2023\u001b[0m, \u001b[1;36m6\u001b[0m, \u001b[1;36m20\u001b[0m, \u001b[1;36m10\u001b[0m, \u001b[1;36m12\u001b[0m, \u001b[1;36m58\u001b[0m, \u001b[1;36m407313\u001b[0m, \u001b[33mtzinfo\u001b[0m=\u001b[35mdatetime\u001b[0m.timezone.utc\u001b[1m)\u001b[0m,\n",
       "    \u001b[33mauth\u001b[0m=\u001b[1m{\u001b[0m\u001b[32m'api_key'\u001b[0m: \u001b[1;35mSecretStr\u001b[0m\u001b[1m(\u001b[0m\u001b[32m'**********'\u001b[0m\u001b[1m)\u001b[0m\u001b[1m}\u001b[0m,\n",
       "    \u001b[33mapi_url\u001b[0m=\u001b[32m'https://api.openai.com/v1/chat/completions'\u001b[0m,\n",
       "    \u001b[33mmodel\u001b[0m=\u001b[32m'gpt-3.5-turbo'\u001b[0m,\n",
       "    \u001b[33msystem\u001b[0m=\u001b[32m'You are a helpful assistant.'\u001b[0m,\n",
       "    \u001b[33mparams\u001b[0m=\u001b[1m{\u001b[0m\u001b[32m'temperature'\u001b[0m: \u001b[1;36m0.7\u001b[0m\u001b[1m}\u001b[0m,\n",
       "    \u001b[33mmessages\u001b[0m=\u001b[1m[\u001b[0m\u001b[1m]\u001b[0m,\n",
       "    \u001b[33minput_fields\u001b[0m=\u001b[1m{\u001b[0m\u001b[32m'role'\u001b[0m, \u001b[32m'name'\u001b[0m, \u001b[32m'content'\u001b[0m\u001b[1m}\u001b[0m,\n",
       "    \u001b[33mrecent_messages\u001b[0m=\u001b[3;35mNone\u001b[0m,\n",
       "    \u001b[33msave_messages\u001b[0m=\u001b[3;92mTrue\u001b[0m,\n",
       "    \u001b[33mtotal_prompt_length\u001b[0m=\u001b[1;36m0\u001b[0m,\n",
       "    \u001b[33mtotal_completion_length\u001b[0m=\u001b[1;36m0\u001b[0m,\n",
       "    \u001b[33mtotal_length\u001b[0m=\u001b[1;36m0\u001b[0m,\n",
       "    \u001b[33mtitle\u001b[0m=\u001b[3;35mNone\u001b[0m\n",
       "\u001b[1m)\u001b[0m\n"
      ]
     },
     "metadata": {},
     "output_type": "display_data"
    },
    {
     "data": {
      "text/html": [
       "<pre style=\"white-space:pre;overflow-x:auto;line-height:normal;font-family:Menlo,'DejaVu Sans Mono',consolas,'Courier New',monospace\"><span style=\"color: #c0c0c0; text-decoration-color: #c0c0c0; font-weight: bold\">ChatGPTSession </span><span style=\"color: #c0c0c0; text-decoration-color: #c0c0c0; font-weight: bold\">0</span><span style=\"color: #c0c0c0; text-decoration-color: #c0c0c0; font-weight: bold\">: </span><span style=\"color: #c0c0c0; text-decoration-color: #c0c0c0; font-weight: bold\">'function'</span>\n",
       "<span style=\"color: #800080; text-decoration-color: #800080; font-weight: bold\">ChatGPTSession</span><span style=\"font-weight: bold\">(</span>\n",
       "    <span style=\"color: #808000; text-decoration-color: #808000\">id</span>=<span style=\"color: #008000; text-decoration-color: #008000\">'function'</span>,\n",
       "    <span style=\"color: #808000; text-decoration-color: #808000\">created_at</span>=<span style=\"color: #800080; text-decoration-color: #800080; font-weight: bold\">datetime</span><span style=\"color: #800080; text-decoration-color: #800080; font-weight: bold\">.datetime</span><span style=\"font-weight: bold\">(</span><span style=\"color: #008080; text-decoration-color: #008080; font-weight: bold\">2023</span>, <span style=\"color: #008080; text-decoration-color: #008080; font-weight: bold\">6</span>, <span style=\"color: #008080; text-decoration-color: #008080; font-weight: bold\">20</span>, <span style=\"color: #008080; text-decoration-color: #008080; font-weight: bold\">10</span>, <span style=\"color: #008080; text-decoration-color: #008080; font-weight: bold\">12</span>, <span style=\"color: #008080; text-decoration-color: #008080; font-weight: bold\">58</span>, <span style=\"color: #008080; text-decoration-color: #008080; font-weight: bold\">475281</span>, <span style=\"color: #808000; text-decoration-color: #808000\">tzinfo</span>=<span style=\"color: #800080; text-decoration-color: #800080\">datetime</span>.timezone.utc<span style=\"font-weight: bold\">)</span>,\n",
       "    <span style=\"color: #808000; text-decoration-color: #808000\">auth</span>=<span style=\"font-weight: bold\">{</span><span style=\"color: #008000; text-decoration-color: #008000\">'api_key'</span>: <span style=\"color: #800080; text-decoration-color: #800080; font-weight: bold\">SecretStr</span><span style=\"font-weight: bold\">(</span><span style=\"color: #008000; text-decoration-color: #008000\">'**********'</span><span style=\"font-weight: bold\">)}</span>,\n",
       "    <span style=\"color: #808000; text-decoration-color: #808000\">api_url</span>=<span style=\"color: #008000; text-decoration-color: #008000\">'https://api.openai.com/v1/chat/completions'</span>,\n",
       "    <span style=\"color: #808000; text-decoration-color: #808000\">model</span>=<span style=\"color: #008000; text-decoration-color: #008000\">'gpt-3.5-turbo'</span>,\n",
       "    <span style=\"color: #808000; text-decoration-color: #808000\">system</span>=<span style=\"color: #008000; text-decoration-color: #008000\">'You are a helpful assistant.'</span>,\n",
       "    <span style=\"color: #808000; text-decoration-color: #808000\">params</span>=<span style=\"font-weight: bold\">{</span><span style=\"color: #008000; text-decoration-color: #008000\">'temperature'</span>: <span style=\"color: #008080; text-decoration-color: #008080; font-weight: bold\">0.7</span><span style=\"font-weight: bold\">}</span>,\n",
       "    <span style=\"color: #808000; text-decoration-color: #808000\">messages</span>=<span style=\"font-weight: bold\">[]</span>,\n",
       "    <span style=\"color: #808000; text-decoration-color: #808000\">input_fields</span>=<span style=\"font-weight: bold\">{</span><span style=\"color: #008000; text-decoration-color: #008000\">'role'</span>, <span style=\"color: #008000; text-decoration-color: #008000\">'name'</span>, <span style=\"color: #008000; text-decoration-color: #008000\">'content'</span><span style=\"font-weight: bold\">}</span>,\n",
       "    <span style=\"color: #808000; text-decoration-color: #808000\">recent_messages</span>=<span style=\"color: #800080; text-decoration-color: #800080; font-style: italic\">None</span>,\n",
       "    <span style=\"color: #808000; text-decoration-color: #808000\">save_messages</span>=<span style=\"color: #00ff00; text-decoration-color: #00ff00; font-style: italic\">True</span>,\n",
       "    <span style=\"color: #808000; text-decoration-color: #808000\">total_prompt_length</span>=<span style=\"color: #008080; text-decoration-color: #008080; font-weight: bold\">0</span>,\n",
       "    <span style=\"color: #808000; text-decoration-color: #808000\">total_completion_length</span>=<span style=\"color: #008080; text-decoration-color: #008080; font-weight: bold\">0</span>,\n",
       "    <span style=\"color: #808000; text-decoration-color: #808000\">total_length</span>=<span style=\"color: #008080; text-decoration-color: #008080; font-weight: bold\">0</span>,\n",
       "    <span style=\"color: #808000; text-decoration-color: #808000\">title</span>=<span style=\"color: #800080; text-decoration-color: #800080; font-style: italic\">None</span>\n",
       "<span style=\"font-weight: bold\">)</span>\n",
       "</pre>\n"
      ],
      "text/plain": [
       "\u001b[1;37mChatGPTSession \u001b[0m\u001b[1;37m0\u001b[0m\u001b[1;37m: \u001b[0m\u001b[1;37m'function'\u001b[0m\n",
       "\u001b[1;35mChatGPTSession\u001b[0m\u001b[1m(\u001b[0m\n",
       "    \u001b[33mid\u001b[0m=\u001b[32m'function'\u001b[0m,\n",
       "    \u001b[33mcreated_at\u001b[0m=\u001b[1;35mdatetime\u001b[0m\u001b[1;35m.datetime\u001b[0m\u001b[1m(\u001b[0m\u001b[1;36m2023\u001b[0m, \u001b[1;36m6\u001b[0m, \u001b[1;36m20\u001b[0m, \u001b[1;36m10\u001b[0m, \u001b[1;36m12\u001b[0m, \u001b[1;36m58\u001b[0m, \u001b[1;36m475281\u001b[0m, \u001b[33mtzinfo\u001b[0m=\u001b[35mdatetime\u001b[0m.timezone.utc\u001b[1m)\u001b[0m,\n",
       "    \u001b[33mauth\u001b[0m=\u001b[1m{\u001b[0m\u001b[32m'api_key'\u001b[0m: \u001b[1;35mSecretStr\u001b[0m\u001b[1m(\u001b[0m\u001b[32m'**********'\u001b[0m\u001b[1m)\u001b[0m\u001b[1m}\u001b[0m,\n",
       "    \u001b[33mapi_url\u001b[0m=\u001b[32m'https://api.openai.com/v1/chat/completions'\u001b[0m,\n",
       "    \u001b[33mmodel\u001b[0m=\u001b[32m'gpt-3.5-turbo'\u001b[0m,\n",
       "    \u001b[33msystem\u001b[0m=\u001b[32m'You are a helpful assistant.'\u001b[0m,\n",
       "    \u001b[33mparams\u001b[0m=\u001b[1m{\u001b[0m\u001b[32m'temperature'\u001b[0m: \u001b[1;36m0.7\u001b[0m\u001b[1m}\u001b[0m,\n",
       "    \u001b[33mmessages\u001b[0m=\u001b[1m[\u001b[0m\u001b[1m]\u001b[0m,\n",
       "    \u001b[33minput_fields\u001b[0m=\u001b[1m{\u001b[0m\u001b[32m'role'\u001b[0m, \u001b[32m'name'\u001b[0m, \u001b[32m'content'\u001b[0m\u001b[1m}\u001b[0m,\n",
       "    \u001b[33mrecent_messages\u001b[0m=\u001b[3;35mNone\u001b[0m,\n",
       "    \u001b[33msave_messages\u001b[0m=\u001b[3;92mTrue\u001b[0m,\n",
       "    \u001b[33mtotal_prompt_length\u001b[0m=\u001b[1;36m0\u001b[0m,\n",
       "    \u001b[33mtotal_completion_length\u001b[0m=\u001b[1;36m0\u001b[0m,\n",
       "    \u001b[33mtotal_length\u001b[0m=\u001b[1;36m0\u001b[0m,\n",
       "    \u001b[33mtitle\u001b[0m=\u001b[3;35mNone\u001b[0m\n",
       "\u001b[1m)\u001b[0m\n"
      ]
     },
     "metadata": {},
     "output_type": "display_data"
    }
   ],
   "source": [
    "from dotenv import load_dotenv\n",
    "load_dotenv()\n",
    "import os\n",
    "\n",
    "import json\n",
    "import pprint as pp\n",
    "from pprint import PrettyPrinter, pprint, pformat\n",
    "pprint = pp.PrettyPrinter(sort_dicts=False).pprint\n",
    "pformat = pp.PrettyPrinter(sort_dicts=False).pformat\n",
    "\n",
    "from typing import Any, Dict, List, Optional, Union\n",
    "from rich.console import Console\n",
    "console = Console()\n",
    "\n",
    "from simpleaichat import AIChat\n",
    "import inspect\n",
    "\n",
    "OPENAI_API_KEY = os.getenv(\"OPENAI_API_KEY\")\n",
    "\n",
    "def pretty_print(json_object):\n",
    "    print(json.dumps(json_object, indent=2, sort_keys=False, default=pformat))\n",
    "\n",
    "def console_print(*objects: Any, title=None, title_color=\"bold white\", sep=\"\\n\\n\", **kwargs: Any) -> None:\n",
    "    # obj is first objects\n",
    "    # obj = objects[0]\n",
    "    title = f\"{objects[0].__class__.__name__}:\" if title is None else title # if inspect.isclass(obj) else title\n",
    "    title = f\"[{title_color}]{title}[/{title_color}]\" if title_color is not None else title\n",
    "    console.print(title, *objects, sep=\"\\n\\n\", **kwargs)\n",
    "\n",
    "def print_ai(ai: AIChat, default=repr):\n",
    "    for i, (key, val) in enumerate(zip(ai.sessions.keys(), ai.sessions.values())):\n",
    "        console_print(val, title=f\"{val.__repr_name__()} {i}: {default(key)}\")\n",
    "\n",
    "ai = AIChat(console=False)\n",
    "print_ai(ai)\n",
    "ai = AIChat(console=False, id=\"function\")\n",
    "print_ai(ai)\n",
    "\n",
    "# console_print(ai)\n",
    "# console_print(ai, title=\"AIChat object:\", title_color=\"bold green\")\n",
    "# console_print(ai, title=\"AIChat object:\", title_color=\"bold white\")\n",
    "# console_print(ai, title=\"AIChat object:\", title_color=\"bold cyan\")\n",
    "# console.print(f\"[bold green]Final AIChat object:[/bold green]\", ai, sep=\"\\n\\n\")\n",
    "# console_print(ai)"
   ]
  },
  {
   "cell_type": "code",
   "execution_count": 3,
   "metadata": {},
   "outputs": [
    {
     "data": {
      "text/plain": [
       "{'AIChat': 'class AIChat(BaseModel):\\n    client: Union[Client, AsyncClient]\\n    default_session: Optional[ChatSession]\\n    sessions: Dict[Union[str, UUID], ChatSession] = {}\\n\\n    class Config:\\n        arbitrary_types_allowed = True\\n        json_loads = orjson.loads\\n        json_dumps = orjson_dumps\\n\\n    def __init__(\\n        self,\\n        character: str = None,\\n        character_command: str = None,\\n        system: str = None,\\n        id: Union[str, UUID] = uuid4(),\\n        prime: bool = True,\\n        default_session: bool = True,\\n        console: bool = True,\\n        **kwargs,\\n    ):\\n\\n        client = Client()\\n        system_format = self.build_system(character, character_command, system)\\n\\n        sessions = {}\\n        new_default_session = None\\n        if default_session:\\n            new_session = self.new_session(\\n                return_session=True, system=system_format, id=id, **kwargs\\n            )\\n\\n            new_default_session = new_session\\n            sessions = {new_session.id: new_session}\\n\\n        super().__init__(\\n            client=client, default_session=new_default_session, sessions=sessions\\n        )\\n\\n        if not system and console:\\n            character = \"ChatGPT\" if not character else character\\n            new_default_session.title = character\\n            self.interactive_console(character=character, prime=prime)\\n\\n    def new_session(\\n        self,\\n        return_session: bool = False,\\n        **kwargs,\\n    ) -> Optional[ChatGPTSession]:\\n\\n        if \"model\" not in kwargs:  # set default\\n            kwargs[\"model\"] = \"gpt-3.5-turbo\"\\n        # TODO: Add support for more models (PaLM, Claude)\\n        if \"gpt-\" in kwargs[\"model\"]:\\n            gpt_api_key = os.getenv(\"OPENAI_API_KEY\") or kwargs.get(\"api_key\")\\n            assert gpt_api_key, f\"An API key for {kwargs[\\'model\\'] } was not defined.\"\\n            sess = ChatGPTSession(\\n                auth={\\n                    \"api_key\": gpt_api_key,\\n                },\\n                **kwargs,\\n            )\\n\\n        if return_session:\\n            return sess\\n        else:\\n            self.sessions[sess.id] = sess\\n\\n    def get_session(self, id: Union[str, UUID] = None) -> ChatSession:\\n        try:\\n            sess = self.sessions[id] if id else self.default_session\\n        except KeyError:\\n            raise KeyError(\"No session by that key exists.\")\\n        if not sess:\\n            raise ValueError(\"No default session exists.\")\\n        return sess\\n\\n    def reset_session(self, id: Union[str, UUID] = None) -> None:\\n        sess = self.get_session(id)\\n        sess.messages = []\\n\\n    def delete_session(self, id: Union[str, UUID] = None) -> None:\\n        sess = self.get_session(id)\\n        if self.default_session:\\n            if sess.id == self.default_session.id:\\n                self.default_session = None\\n        del self.sessions[sess.id]\\n        del sess\\n\\n    @contextmanager\\n    def session(self, **kwargs):\\n        sess = self.new_session(return_session=True, **kwargs)\\n        self.sessions[sess.id] = sess\\n        try:\\n            yield sess\\n        finally:\\n            self.delete_session(sess.id)\\n\\n    def __call__(\\n        self,\\n        prompt: Union[str, Any],\\n        id: Union[str, UUID] = None,\\n        system: str = None,\\n        save_messages: bool = None,\\n        params: Dict[str, Any] = None,\\n        tools: List[Any] = None,\\n        input_schema: Any = None,\\n        output_schema: Any = None,\\n    ) -> str:\\n        sess = self.get_session(id)\\n        if tools:\\n            for tool in tools:\\n                assert tool.__doc__, f\"Tool {tool} does not have a docstring.\"\\n            assert len(tools) <= 9, \"You can only have a maximum of 9 tools.\"\\n            return sess.gen_with_tools(\\n                prompt,\\n                tools,\\n                client=self.client,\\n                system=system,\\n                save_messages=save_messages,\\n                params=params,\\n            )\\n        else:\\n            return sess.gen(\\n                prompt,\\n                client=self.client,\\n                system=system,\\n                save_messages=save_messages,\\n                params=params,\\n                input_schema=input_schema,\\n                output_schema=output_schema,\\n            )\\n\\n    def stream(\\n        self,\\n        prompt: str,\\n        id: Union[str, UUID] = None,\\n        system: str = None,\\n        save_messages: bool = None,\\n        params: Dict[str, Any] = None,\\n        input_schema: Any = None,\\n    ) -> str:\\n        sess = self.get_session(id)\\n        return sess.stream(\\n            prompt,\\n            client=self.client,\\n            system=system,\\n            save_messages=save_messages,\\n            params=params,\\n            input_schema=input_schema,\\n        )\\n\\n    def build_system(\\n        self, character: str = None, character_command: str = None, system: str = None\\n    ) -> str:\\n        default = \"You are a helpful assistant.\"\\n        if character:\\n            character_prompt = \"\"\"\\n            You must follow ALL these rules in all responses:\\n            - You are the following character and should ALWAYS act as them: {0}\\n            - NEVER speak in a formal tone.\\n            - Concisely introduce yourself first in character.\\n            \"\"\"\\n            prompt = character_prompt.format(wikipedia_search_lookup(character)).strip()\\n            if character_command:\\n                character_system = \"\"\"\\n                - {0}\\n                \"\"\"\\n                prompt = (\\n                    prompt + \"\\\\n\" + character_system.format(character_command).strip()\\n                )\\n            return prompt\\n        elif system:\\n            return system\\n        else:\\n            return default\\n\\n    def interactive_console(self, character: str = None, prime: bool = True) -> None:\\n        console = Console(highlight=False)\\n        sess = self.default_session\\n        ai_text_color = \"bright_magenta\"\\n\\n        # prime with a unique starting response to the user\\n        if prime:\\n            console.print(f\"[b]{character}[/b]: \", end=\"\", style=ai_text_color)\\n            for chunk in sess.stream(\"Hello!\", self.client):\\n                console.print(chunk[\"delta\"], end=\"\", style=ai_text_color)\\n\\n        while True:\\n            console.print()\\n            try:\\n                user_input = console.input(\"[b]You:[/b] \").strip()\\n                if not user_input:\\n                    break\\n\\n                console.print(f\"[b]{character}[/b]: \", end=\"\", style=ai_text_color)\\n                for chunk in sess.stream(user_input, self.client):\\n                    console.print(chunk[\"delta\"], end=\"\", style=ai_text_color)\\n            except KeyboardInterrupt:\\n                break\\n\\n    def __str__(self) -> str:\\n        if self.default_session:\\n            return self.default_session.json(\\n                exclude={\"api_key\", \"api_url\"},\\n                exclude_none=True,\\n                option=orjson.OPT_INDENT_2,\\n            )\\n\\n    def __repr__(self) -> str:\\n        return \"\"\\n\\n    # Save/Load Chats given a session id\\n    def save_session(\\n        self,\\n        output_path: str = None,\\n        id: Union[str, UUID] = None,\\n        format: str = \"csv\",\\n        minify: bool = False,\\n    ):\\n        sess = self.get_session(id)\\n        sess_dict = sess.dict(\\n            exclude={\"auth\", \"api_url\", \"input_fields\"},\\n            exclude_none=True,\\n        )\\n        output_path = output_path or f\"chat_session.{format}\"\\n        if format == \"csv\":\\n            with open(output_path, \"w\", encoding=\"utf-8\") as f:\\n                fields = [\\n                    \"role\",\\n                    \"content\",\\n                    \"received_at\",\\n                    \"finish_reason\",\\n                    \"prompt_length\",\\n                    \"completion_length\",\\n                    \"total_length\",\\n                ]\\n                w = csv.DictWriter(f, fieldnames=fields)\\n                w.writeheader()\\n                for message in sess_dict[\"messages\"]:\\n                    # datetime must be in common format to be loaded into spreadsheet\\n                    # for human-readability, the timezone is set to local machine\\n                    local_datetime = message[\"received_at\"].astimezone()\\n                    message[\"received_at\"] = local_datetime.strftime(\\n                        \"%Y-%m-%d %H:%M:%S\"\\n                    )\\n                    w.writerow(message)\\n        elif format == \"json\":\\n            with open(output_path, \"wb\") as f:\\n                f.write(\\n                    orjson.dumps(\\n                        sess_dict, option=orjson.OPT_INDENT_2 if not minify else None\\n                    )\\n                )\\n\\n    def load_session(self, input_path: str, id: Union[str, UUID] = uuid4(), **kwargs):\\n\\n        assert input_path.endswith(\".csv\") or input_path.endswith(\\n            \".json\"\\n        ), \"Only CSV and JSON imports are accepted.\"\\n\\n        if input_path.endswith(\".csv\"):\\n            with open(input_path, \"r\", encoding=\"utf-8\") as f:\\n                r = csv.DictReader(f)\\n                messages = []\\n                for row in r:\\n                    # need to convert the datetime back to UTC\\n                    local_datetime = datetime.datetime.strptime(\\n                        row[\"received_at\"], \"%Y-%m-%d %H:%M:%S\"\\n                    ).replace(tzinfo=dateutil.tz.tzlocal())\\n                    row[\"received_at\"] = local_datetime.astimezone(\\n                        datetime.timezone.utc\\n                    )\\n                    # https://stackoverflow.com/a/68305271\\n                    row = {k: (None if v == \"\" else v) for k, v in row.items()}\\n                    messages.append(ChatMessage(**row))\\n\\n            self.new_session(id=id, **kwargs)\\n            self.sessions[id].messages = messages\\n\\n        if input_path.endswith(\".json\"):\\n            with open(input_path, \"rb\") as f:\\n                sess_dict = orjson.loads(f.read())\\n            # update session with info not loaded, e.g. auth/api_url\\n            for arg in kwargs:\\n                sess_dict[arg] = kwargs[arg]\\n            self.new_session(**sess_dict)\\n\\n    # Tabulators for returning total token counts\\n    def message_totals(self, attr: str, id: Union[str, UUID] = None) -> int:\\n        sess = self.get_session(id)\\n        return getattr(sess, attr)\\n\\n    @property\\n    def total_prompt_length(self, id: Union[str, UUID] = None) -> int:\\n        return self.message_totals(\"total_prompt_length\", id)\\n\\n    @property\\n    def total_completion_length(self, id: Union[str, UUID] = None) -> int:\\n        return self.message_totals(\"total_completion_length\", id)\\n\\n    @property\\n    def total_length(self, id: Union[str, UUID] = None) -> int:\\n        return self.message_totals(\"total_length\", id)\\n\\n    # alias total_tokens to total_length for common use\\n    @property\\n    def total_tokens(self, id: Union[str, UUID] = None) -> int:\\n        return self.total_length(id)\\n'}"
      ]
     },
     "execution_count": 3,
     "metadata": {},
     "output_type": "execute_result"
    }
   ],
   "source": [
    "SOURCE_CODE = {}\n",
    "\n",
    "def add_source_code(obj):\n",
    "    obj_name = obj.__name__\n",
    "    source_code = inspect.getsource(obj)\n",
    "    SOURCE_CODE[obj_name] = source_code\n",
    "\n",
    "def get_source_code():\n",
    "    return SOURCE_CODE\n",
    "\n",
    "add_source_code(AIChat)\n",
    "# SOURCE_CODE[\"AIChat\"] = inspect.getsource(AIChat)\n",
    "get_source_code()"
   ]
  },
  {
   "attachments": {},
   "cell_type": "markdown",
   "metadata": {},
   "source": [
    "## Building AI-based Apps\n",
    "\n",
    "\n",
    "The trick with working with new chat-based apps that wasn't readily available with earlier iterations of GPT-3 is the addition of the system prompt: a different class of prompt that guides the AI behavior throughout the entire conversation. In fact, the chat demos above are actually using [system prompt tricks](https://github.com/minimaxir/simpleaichat/blob/main/PROMPTS.md#interactive-chat) behind the scenes! OpenAI has also released an official guide for [system prompt best practices](https://platform.openai.com/docs/guides/gpt-best-practices) to building AI apps.\n",
    "\n",
    "For developers, you can instantiate a programmatic instance of `AIChat` by explicitly specifying a system prompt, or by disabling the console."
   ]
  },
  {
   "cell_type": "code",
   "execution_count": 7,
   "metadata": {},
   "outputs": [
    {
     "name": "stdout",
     "output_type": "stream",
     "text": [
      "## AIChat(system=\"You are a helpful assistant.\"):\n",
      "\n",
      "{\n",
      "  \"id\": \"65ce31a3-1930-494d-a2bb-9c98cfbb28f9\",\n",
      "  \"created_at\": \"2023-06-20T07:46:43.997356+00:00\",\n",
      "  \"auth\": {\n",
      "    \"api_key\": \"**********\"\n",
      "  },\n",
      "  \"model\": \"gpt-3.5-turbo\",\n",
      "  \"system\": \"You are a helpful assistant.\",\n",
      "  \"params\": {\n",
      "    \"temperature\": 0.7\n",
      "  },\n",
      "  \"messages\": [],\n",
      "  \"input_fields\": [\n",
      "    \"name\",\n",
      "    \"content\",\n",
      "    \"role\"\n",
      "  ],\n",
      "  \"save_messages\": true,\n",
      "  \"total_prompt_length\": 0,\n",
      "  \"total_completion_length\": 0,\n",
      "  \"total_length\": 0\n",
      "}\n",
      "\n",
      "## AIChat(console=False):\n",
      "\n",
      "{\n",
      "  \"id\": \"65ce31a3-1930-494d-a2bb-9c98cfbb28f9\",\n",
      "  \"created_at\": \"2023-06-20T07:46:44.053755+00:00\",\n",
      "  \"auth\": {\n",
      "    \"api_key\": \"**********\"\n",
      "  },\n",
      "  \"model\": \"gpt-3.5-turbo\",\n",
      "  \"system\": \"You are a helpful assistant.\",\n",
      "  \"params\": {\n",
      "    \"temperature\": 0.7\n",
      "  },\n",
      "  \"messages\": [],\n",
      "  \"input_fields\": [\n",
      "    \"name\",\n",
      "    \"content\",\n",
      "    \"role\"\n",
      "  ],\n",
      "  \"save_messages\": true,\n",
      "  \"total_prompt_length\": 0,\n",
      "  \"total_completion_length\": 0,\n",
      "  \"total_length\": 0\n",
      "}\n"
     ]
    }
   ],
   "source": [
    "ai = AIChat(system=\"You are a helpful assistant.\")\n",
    "print('## AIChat(system=\"You are a helpful assistant.\"):\\n')\n",
    "print(ai)\n",
    "# pprint(ai.get_session().dict())\n",
    "\n",
    "ai = AIChat(console=False)  # same as above\n",
    "print('\\n## AIChat(console=False):\\n')\n",
    "print(ai)\n",
    "# pprint(ai.get_session().dict())"
   ]
  },
  {
   "attachments": {},
   "cell_type": "markdown",
   "metadata": {},
   "source": [
    "You can also pass in a `model` parameter, such as `model=\"gpt-4\"` if you have access to GPT-4, or `model=\"gpt-3.5-turbo-16k\"` for a larger-context-window ChatGPT.\n",
    "\n",
    "\n",
    "```python\n",
    "ai = AIChat(\n",
    "    console=False,\n",
    "    model=\"gpt-3.5-turbo-0613\",\n",
    "    params={\"temperature\": 0.0},\n",
    ")\n",
    "```"
   ]
  },
  {
   "attachments": {},
   "cell_type": "markdown",
   "metadata": {},
   "source": [
    "\n",
    "You can then feed the new `ai` class with user input, and it will return and save the response from ChatGPT:"
   ]
  },
  {
   "cell_type": "code",
   "execution_count": 7,
   "metadata": {},
   "outputs": [
    {
     "name": "stdout",
     "output_type": "stream",
     "text": [
      "The capital of California is Sacramento.\n"
     ]
    }
   ],
   "source": [
    "response = ai(\"What is the capital of California?\")\n",
    "print(response)\n",
    "print(ai)"
   ]
  },
  {
   "attachments": {},
   "cell_type": "markdown",
   "metadata": {},
   "source": [
    "Alternatively, you can stream responses by token with a generator if the text generation itself is too slow:"
   ]
  },
  {
   "cell_type": "code",
   "execution_count": 13,
   "metadata": {},
   "outputs": [
    {
     "name": "stdout",
     "output_type": "stream",
     "text": [
      "[The]\n",
      "The[ capital]\n",
      "The capital[ of]\n",
      "The capital of[ California]\n",
      "The capital of California[ is]\n",
      "{\n",
      "  \"id\": \"9454965b-52bc-4721-9373-ed0624bf7861\",\n",
      "  \"created_at\": \"2023-06-20T02:22:50.412686+00:00\",\n",
      "  \"auth\": {\n",
      "    \"api_key\": \"**********\"\n",
      "  },\n",
      "  \"model\": \"gpt-3.5-turbo\",\n",
      "  \"system\": \"You are a helpful assistant.\",\n",
      "  \"params\": {\n",
      "    \"temperature\": 0.7\n",
      "  },\n",
      "  \"messages\": [\n",
      "    {\n",
      "      \"role\": \"user\",\n",
      "      \"content\": \"What is the capital of California?\",\n",
      "      \"received_at\": \"2023-06-20T02:22:50.413529+00:00\"\n",
      "    },\n",
      "    {\n",
      "      \"role\": \"assistant\",\n",
      "      \"content\": \"The capital of California is\",\n",
      "      \"received_at\": \"2023-06-20T02:22:51.418384+00:00\"\n",
      "    }\n",
      "  ],\n",
      "  \"input_fields\": [\n",
      "    \"content\",\n",
      "    \"role\",\n",
      "    \"name\"\n",
      "  ],\n",
      "  \"save_messages\": true,\n",
      "  \"total_prompt_length\": 0,\n",
      "  \"total_completion_length\": 0,\n",
      "  \"total_length\": 0\n",
      "}\n"
     ]
    }
   ],
   "source": [
    "from rich.console import Console\n",
    "console = Console()\n",
    "\n",
    "for chunk in ai.stream(\"What is the capital of California?\", params={\"max_tokens\": 5}):\n",
    "    response_td = chunk  # dict contains \"delta\" for the new token and \"response\"\n",
    "    # response_td = response_td[\"response\"]  # dict contains \"delta\" for the new token and \"response\"\n",
    "    # print(f'\"delta\": \"{response_td[\"delta\"]}\", \"response\": {response_td[\"response\"]}')\n",
    "    delta = response_td[\"delta\"]\n",
    "    response = response_td[\"response\"].replace(delta, f\"[{delta}]\")\n",
    "    print(response)\n",
    "print(ai)"
   ]
  },
  {
   "attachments": {},
   "cell_type": "markdown",
   "metadata": {},
   "source": [
    "Further calls to the ai object will continue the chat, automatically incorporating previous information from the conversation."
   ]
  },
  {
   "cell_type": "code",
   "execution_count": 20,
   "metadata": {},
   "outputs": [
    {
     "name": "stdout",
     "output_type": "stream",
     "text": [
      "The capital of California is Sacramento.\n",
      "Sacramento was founded on February 27, 1850. It was named after the Sacramento River, which runs through the city.\n",
      "{\n",
      "  \"id\": \"183d84c2-77cf-461d-a14c-9ed66d4a5050\",\n",
      "  \"created_at\": \"2023-06-20T02:31:58.325404+00:00\",\n",
      "  \"auth\": {\n",
      "    \"api_key\": \"**********\"\n",
      "  },\n",
      "  \"model\": \"gpt-3.5-turbo-0301\",\n",
      "  \"system\": \"You are a helpful assistant.\",\n",
      "  \"params\": {\n",
      "    \"temperature\": 0.7\n",
      "  },\n",
      "  \"messages\": [\n",
      "    {\n",
      "      \"role\": \"user\",\n",
      "      \"content\": \"What is the capital of California?\",\n",
      "      \"received_at\": \"2023-06-20T02:31:58.329111+00:00\"\n",
      "    },\n",
      "    {\n",
      "      \"role\": \"assistant\",\n",
      "      \"content\": \"The capital of California is Sacramento.\",\n",
      "      \"received_at\": \"2023-06-20T02:31:59.247147+00:00\",\n",
      "      \"finish_reason\": \"stop\",\n",
      "      \"prompt_length\": 26,\n",
      "      \"completion_length\": 7,\n",
      "      \"total_length\": 33\n",
      "    },\n",
      "    {\n",
      "      \"role\": \"user\",\n",
      "      \"content\": \"When was it founded?\",\n",
      "      \"received_at\": \"2023-06-20T02:31:59.248271+00:00\"\n",
      "    },\n",
      "    {\n",
      "      \"role\": \"assistant\",\n",
      "      \"content\": \"Sacramento was founded on February 27, 1850. It was named after the Sacramento River, which runs through the city.\",\n",
      "      \"received_at\": \"2023-06-20T02:32:01.251505+00:00\",\n",
      "      \"finish_reason\": \"stop\",\n",
      "      \"prompt_length\": 48,\n",
      "      \"completion_length\": 27,\n",
      "      \"total_length\": 75\n",
      "    }\n",
      "  ],\n",
      "  \"input_fields\": [\n",
      "    \"content\",\n",
      "    \"role\",\n",
      "    \"name\"\n",
      "  ],\n",
      "  \"save_messages\": true,\n",
      "  \"total_prompt_length\": 74,\n",
      "  \"total_completion_length\": 34,\n",
      "  \"total_length\": 108\n",
      "}\n"
     ]
    }
   ],
   "source": [
    "ai = AIChat(console=False, model=\"gpt-3.5-turbo-0301\")\n",
    "\n",
    "response = ai(\"What is the capital of California?\")\n",
    "print(response)\n",
    "# print(ai)\n",
    "response = ai(\"When was it founded?\")\n",
    "print(response)\n",
    "print(ai)\n",
    "# ai.default_session.messages"
   ]
  },
  {
   "attachments": {},
   "cell_type": "markdown",
   "metadata": {},
   "source": [
    "You can also save chat sessions (as CSV or JSON) and load them later. The API key is not saved so you will have to provide that when loading."
   ]
  },
  {
   "cell_type": "code",
   "execution_count": 28,
   "metadata": {},
   "outputs": [
    {
     "name": "stdout",
     "output_type": "stream",
     "text": [
      "\n",
      "## CSV\n",
      "\n",
      "{\n",
      "  \"id\": \"183d84c2-77cf-461d-a14c-9ed66d4a5050\",\n",
      "  \"created_at\": \"2023-06-20T02:31:58.325404+00:00\",\n",
      "  \"auth\": {\n",
      "    \"api_key\": \"**********\"\n",
      "  },\n",
      "  \"model\": \"gpt-3.5-turbo-0301\",\n",
      "  \"system\": \"You are a helpful assistant.\",\n",
      "  \"params\": {\n",
      "    \"temperature\": 0.7\n",
      "  },\n",
      "  \"messages\": [\n",
      "    {\n",
      "      \"role\": \"user\",\n",
      "      \"content\": \"What is the capital of California?\",\n",
      "      \"received_at\": \"2023-06-20T02:31:58.329111+00:00\"\n",
      "    },\n",
      "    {\n",
      "      \"role\": \"assistant\",\n",
      "      \"content\": \"The capital of California is Sacramento.\",\n",
      "      \"received_at\": \"2023-06-20T02:31:59.247147+00:00\",\n",
      "      \"finish_reason\": \"stop\",\n",
      "      \"prompt_length\": 26,\n",
      "      \"completion_length\": 7,\n",
      "      \"total_length\": 33\n",
      "    },\n",
      "    {\n",
      "      \"role\": \"user\",\n",
      "      \"content\": \"When was it founded?\",\n",
      "      \"received_at\": \"2023-06-20T02:31:59.248271+00:00\"\n",
      "    },\n",
      "    {\n",
      "      \"role\": \"assistant\",\n",
      "      \"content\": \"Sacramento was founded on February 27, 1850. It was named after the Sacramento River, which runs through the city.\",\n",
      "      \"received_at\": \"2023-06-20T02:32:01.251505+00:00\",\n",
      "      \"finish_reason\": \"stop\",\n",
      "      \"prompt_length\": 48,\n",
      "      \"completion_length\": 27,\n",
      "      \"total_length\": 75\n",
      "    }\n",
      "  ],\n",
      "  \"input_fields\": [\n",
      "    \"content\",\n",
      "    \"role\",\n",
      "    \"name\"\n",
      "  ],\n",
      "  \"save_messages\": true,\n",
      "  \"total_prompt_length\": 74,\n",
      "  \"total_completion_length\": 34,\n",
      "  \"total_length\": 108\n",
      "}\n",
      "\n",
      "## JSON\n",
      "\n",
      "{\n",
      "  \"id\": \"183d84c2-77cf-461d-a14c-9ed66d4a5050\",\n",
      "  \"created_at\": \"2023-06-20T02:31:58.325404+00:00\",\n",
      "  \"auth\": {\n",
      "    \"api_key\": \"**********\"\n",
      "  },\n",
      "  \"model\": \"gpt-3.5-turbo-0301\",\n",
      "  \"system\": \"You are a helpful assistant.\",\n",
      "  \"params\": {\n",
      "    \"temperature\": 0.7\n",
      "  },\n",
      "  \"messages\": [\n",
      "    {\n",
      "      \"role\": \"user\",\n",
      "      \"content\": \"What is the capital of California?\",\n",
      "      \"received_at\": \"2023-06-20T02:31:58.329111+00:00\"\n",
      "    },\n",
      "    {\n",
      "      \"role\": \"assistant\",\n",
      "      \"content\": \"The capital of California is Sacramento.\",\n",
      "      \"received_at\": \"2023-06-20T02:31:59.247147+00:00\",\n",
      "      \"finish_reason\": \"stop\",\n",
      "      \"prompt_length\": 26,\n",
      "      \"completion_length\": 7,\n",
      "      \"total_length\": 33\n",
      "    },\n",
      "    {\n",
      "      \"role\": \"user\",\n",
      "      \"content\": \"When was it founded?\",\n",
      "      \"received_at\": \"2023-06-20T02:31:59.248271+00:00\"\n",
      "    },\n",
      "    {\n",
      "      \"role\": \"assistant\",\n",
      "      \"content\": \"Sacramento was founded on February 27, 1850. It was named after the Sacramento River, which runs through the city.\",\n",
      "      \"received_at\": \"2023-06-20T02:32:01.251505+00:00\",\n",
      "      \"finish_reason\": \"stop\",\n",
      "      \"prompt_length\": 48,\n",
      "      \"completion_length\": 27,\n",
      "      \"total_length\": 75\n",
      "    }\n",
      "  ],\n",
      "  \"input_fields\": [\n",
      "    \"content\",\n",
      "    \"role\",\n",
      "    \"name\"\n",
      "  ],\n",
      "  \"save_messages\": true,\n",
      "  \"total_prompt_length\": 74,\n",
      "  \"total_completion_length\": 34,\n",
      "  \"total_length\": 108\n",
      "}\n"
     ]
    }
   ],
   "source": [
    "# CSV, will only save messages\n",
    "ai.save_session(\"chat_session.csv\", format=\"csv\")  # CSV\n",
    "ai.load_session(\"chat_session.csv\")\n",
    "print(\"\\n## CSV\\n\")\n",
    "print(ai)\n",
    "\n",
    "# JSON\n",
    "ai.save_session(\"chat_session.json\", format=\"json\", minify=True)  # JSON\n",
    "ai.load_session(\"chat_session.json\")\n",
    "print(\"\\n## JSON\\n\")\n",
    "print(ai)"
   ]
  },
  {
   "attachments": {},
   "cell_type": "markdown",
   "metadata": {},
   "source": [
    "### Functions\n",
    "\n",
    "A large number of popular venture-capital-funded ChatGPT apps don't actually use the \"chat\" part of the model. Instead, they just use the system prompt/first user prompt as a form of natural language programming. You can emulate this behavior by passing a new system prompt when generating text, and not saving the resulting messages."
   ]
  },
  {
   "cell_type": "code",
   "execution_count": 4,
   "metadata": {},
   "outputs": [
    {
     "data": {
      "text/html": [
       "<pre style=\"white-space:pre;overflow-x:auto;line-height:normal;font-family:Menlo,'DejaVu Sans Mono',consolas,'Courier New',monospace\"><span style=\"color: #800080; text-decoration-color: #800080; font-weight: bold\">System Prompt:</span> Format the user-provided JSON as YAML.\n",
       "\n",
       "title: <span style=\"color: #008000; text-decoration-color: #008000\">\"An array of integers.\"</span>\n",
       "array:\n",
       "  - <span style=\"color: #008080; text-decoration-color: #008080; font-weight: bold\">-1</span>\n",
       "  - <span style=\"color: #008080; text-decoration-color: #008080; font-weight: bold\">0</span>\n",
       "  - <span style=\"color: #008080; text-decoration-color: #008080; font-weight: bold\">1</span>\n",
       "</pre>\n"
      ],
      "text/plain": [
       "\u001b[1;35mSystem Prompt:\u001b[0m Format the user-provided JSON as YAML.\n",
       "\n",
       "title: \u001b[32m\"An array of integers.\"\u001b[0m\n",
       "array:\n",
       "  - \u001b[1;36m-1\u001b[0m\n",
       "  - \u001b[1;36m0\u001b[0m\n",
       "  - \u001b[1;36m1\u001b[0m\n"
      ]
     },
     "metadata": {},
     "output_type": "display_data"
    },
    {
     "data": {
      "text/html": [
       "<pre style=\"white-space:pre;overflow-x:auto;line-height:normal;font-family:Menlo,'DejaVu Sans Mono',consolas,'Courier New',monospace\"><span style=\"color: #c0c0c0; text-decoration-color: #c0c0c0; font-weight: bold\">ChatGPTSession </span><span style=\"color: #c0c0c0; text-decoration-color: #c0c0c0; font-weight: bold\">0</span><span style=\"color: #c0c0c0; text-decoration-color: #c0c0c0; font-weight: bold\">: </span><span style=\"color: #c0c0c0; text-decoration-color: #c0c0c0; font-weight: bold\">'function'</span>\n",
       "<span style=\"color: #800080; text-decoration-color: #800080; font-weight: bold\">ChatGPTSession</span><span style=\"font-weight: bold\">(</span>\n",
       "    <span style=\"color: #808000; text-decoration-color: #808000\">id</span>=<span style=\"color: #008000; text-decoration-color: #008000\">'function'</span>,\n",
       "    <span style=\"color: #808000; text-decoration-color: #808000\">created_at</span>=<span style=\"color: #800080; text-decoration-color: #800080; font-weight: bold\">datetime</span><span style=\"color: #800080; text-decoration-color: #800080; font-weight: bold\">.datetime</span><span style=\"font-weight: bold\">(</span><span style=\"color: #008080; text-decoration-color: #008080; font-weight: bold\">2023</span>, <span style=\"color: #008080; text-decoration-color: #008080; font-weight: bold\">6</span>, <span style=\"color: #008080; text-decoration-color: #008080; font-weight: bold\">20</span>, <span style=\"color: #008080; text-decoration-color: #008080; font-weight: bold\">10</span>, <span style=\"color: #008080; text-decoration-color: #008080; font-weight: bold\">13</span>, <span style=\"color: #008080; text-decoration-color: #008080; font-weight: bold\">49</span>, <span style=\"color: #008080; text-decoration-color: #008080; font-weight: bold\">142472</span>, <span style=\"color: #808000; text-decoration-color: #808000\">tzinfo</span>=<span style=\"color: #800080; text-decoration-color: #800080\">datetime</span>.timezone.utc<span style=\"font-weight: bold\">)</span>,\n",
       "    <span style=\"color: #808000; text-decoration-color: #808000\">auth</span>=<span style=\"font-weight: bold\">{</span><span style=\"color: #008000; text-decoration-color: #008000\">'api_key'</span>: <span style=\"color: #800080; text-decoration-color: #800080; font-weight: bold\">SecretStr</span><span style=\"font-weight: bold\">(</span><span style=\"color: #008000; text-decoration-color: #008000\">'**********'</span><span style=\"font-weight: bold\">)}</span>,\n",
       "    <span style=\"color: #808000; text-decoration-color: #808000\">api_url</span>=<span style=\"color: #008000; text-decoration-color: #008000\">'https://api.openai.com/v1/chat/completions'</span>,\n",
       "    <span style=\"color: #808000; text-decoration-color: #808000\">model</span>=<span style=\"color: #008000; text-decoration-color: #008000\">'gpt-3.5-turbo'</span>,\n",
       "    <span style=\"color: #808000; text-decoration-color: #808000\">system</span>=<span style=\"color: #008000; text-decoration-color: #008000\">'You are a helpful assistant.'</span>,\n",
       "    <span style=\"color: #808000; text-decoration-color: #808000\">params</span>=<span style=\"font-weight: bold\">{</span><span style=\"color: #008000; text-decoration-color: #008000\">'temperature'</span>: <span style=\"color: #008080; text-decoration-color: #008080; font-weight: bold\">0.0</span>, <span style=\"color: #008000; text-decoration-color: #008000\">'max_tokens'</span>: <span style=\"color: #008080; text-decoration-color: #008080; font-weight: bold\">100</span><span style=\"font-weight: bold\">}</span>,\n",
       "    <span style=\"color: #808000; text-decoration-color: #808000\">messages</span>=<span style=\"font-weight: bold\">[]</span>,\n",
       "    <span style=\"color: #808000; text-decoration-color: #808000\">input_fields</span>=<span style=\"font-weight: bold\">{</span><span style=\"color: #008000; text-decoration-color: #008000\">'role'</span>, <span style=\"color: #008000; text-decoration-color: #008000\">'name'</span>, <span style=\"color: #008000; text-decoration-color: #008000\">'content'</span><span style=\"font-weight: bold\">}</span>,\n",
       "    <span style=\"color: #808000; text-decoration-color: #808000\">recent_messages</span>=<span style=\"color: #800080; text-decoration-color: #800080; font-style: italic\">None</span>,\n",
       "    <span style=\"color: #808000; text-decoration-color: #808000\">save_messages</span>=<span style=\"color: #ff0000; text-decoration-color: #ff0000; font-style: italic\">False</span>,\n",
       "    <span style=\"color: #808000; text-decoration-color: #808000\">total_prompt_length</span>=<span style=\"color: #008080; text-decoration-color: #008080; font-weight: bold\">43</span>,\n",
       "    <span style=\"color: #808000; text-decoration-color: #808000\">total_completion_length</span>=<span style=\"color: #008080; text-decoration-color: #008080; font-weight: bold\">24</span>,\n",
       "    <span style=\"color: #808000; text-decoration-color: #808000\">total_length</span>=<span style=\"color: #008080; text-decoration-color: #008080; font-weight: bold\">67</span>,\n",
       "    <span style=\"color: #808000; text-decoration-color: #808000\">title</span>=<span style=\"color: #800080; text-decoration-color: #800080; font-style: italic\">None</span>\n",
       "<span style=\"font-weight: bold\">)</span>\n",
       "</pre>\n"
      ],
      "text/plain": [
       "\u001b[1;37mChatGPTSession \u001b[0m\u001b[1;37m0\u001b[0m\u001b[1;37m: \u001b[0m\u001b[1;37m'function'\u001b[0m\n",
       "\u001b[1;35mChatGPTSession\u001b[0m\u001b[1m(\u001b[0m\n",
       "    \u001b[33mid\u001b[0m=\u001b[32m'function'\u001b[0m,\n",
       "    \u001b[33mcreated_at\u001b[0m=\u001b[1;35mdatetime\u001b[0m\u001b[1;35m.datetime\u001b[0m\u001b[1m(\u001b[0m\u001b[1;36m2023\u001b[0m, \u001b[1;36m6\u001b[0m, \u001b[1;36m20\u001b[0m, \u001b[1;36m10\u001b[0m, \u001b[1;36m13\u001b[0m, \u001b[1;36m49\u001b[0m, \u001b[1;36m142472\u001b[0m, \u001b[33mtzinfo\u001b[0m=\u001b[35mdatetime\u001b[0m.timezone.utc\u001b[1m)\u001b[0m,\n",
       "    \u001b[33mauth\u001b[0m=\u001b[1m{\u001b[0m\u001b[32m'api_key'\u001b[0m: \u001b[1;35mSecretStr\u001b[0m\u001b[1m(\u001b[0m\u001b[32m'**********'\u001b[0m\u001b[1m)\u001b[0m\u001b[1m}\u001b[0m,\n",
       "    \u001b[33mapi_url\u001b[0m=\u001b[32m'https://api.openai.com/v1/chat/completions'\u001b[0m,\n",
       "    \u001b[33mmodel\u001b[0m=\u001b[32m'gpt-3.5-turbo'\u001b[0m,\n",
       "    \u001b[33msystem\u001b[0m=\u001b[32m'You are a helpful assistant.'\u001b[0m,\n",
       "    \u001b[33mparams\u001b[0m=\u001b[1m{\u001b[0m\u001b[32m'temperature'\u001b[0m: \u001b[1;36m0.0\u001b[0m, \u001b[32m'max_tokens'\u001b[0m: \u001b[1;36m100\u001b[0m\u001b[1m}\u001b[0m,\n",
       "    \u001b[33mmessages\u001b[0m=\u001b[1m[\u001b[0m\u001b[1m]\u001b[0m,\n",
       "    \u001b[33minput_fields\u001b[0m=\u001b[1m{\u001b[0m\u001b[32m'role'\u001b[0m, \u001b[32m'name'\u001b[0m, \u001b[32m'content'\u001b[0m\u001b[1m}\u001b[0m,\n",
       "    \u001b[33mrecent_messages\u001b[0m=\u001b[3;35mNone\u001b[0m,\n",
       "    \u001b[33msave_messages\u001b[0m=\u001b[3;91mFalse\u001b[0m,\n",
       "    \u001b[33mtotal_prompt_length\u001b[0m=\u001b[1;36m43\u001b[0m,\n",
       "    \u001b[33mtotal_completion_length\u001b[0m=\u001b[1;36m24\u001b[0m,\n",
       "    \u001b[33mtotal_length\u001b[0m=\u001b[1;36m67\u001b[0m,\n",
       "    \u001b[33mtitle\u001b[0m=\u001b[3;35mNone\u001b[0m\n",
       "\u001b[1m)\u001b[0m\n"
      ]
     },
     "metadata": {},
     "output_type": "display_data"
    }
   ],
   "source": [
    "from rich.console import Console\n",
    "console = Console()\n",
    "\n",
    "json = '{\"title\": \"An array of integers.\", \"array\": [-1, 0, 1]}'\n",
    "\n",
    "params = {\"temperature\": 0.0, \"max_tokens\": 100}  # a temperature of 0.0 is deterministic\n",
    "\n",
    "# We namespace the function by `id` so it doesn't affect other chats.\n",
    "# Settings set during session creation will apply to all generations from the session,\n",
    "# but you can change them per-generation, as is the case with the `system` prompt here.\n",
    "system = \"Format the user-provided JSON as YAML.\"\n",
    "ai = AIChat(console=False, id=\"function\", params=params, save_messages=False)\n",
    "output = ai(json, id=\"function\", system=system)\n",
    "console.print(f\"[bold magenta]System Prompt:[/bold magenta] {system}\", output, sep=\"\\n\\n\")\n",
    "# print(output)\n",
    "print_ai(ai)"
   ]
  },
  {
   "cell_type": "code",
   "execution_count": 40,
   "metadata": {},
   "outputs": [],
   "source": [
    "# system = \"Format the user-provided JSON as YAML.\"\n",
    "# console.print(f\"[bold magenta]Function:[/bold magenta] {system}\", output, sep=\"\\n\\n\")\n",
    "# console.print(f\"[bold magenta]System Prompt:[/bold magenta] {system}\", output, sep=\"\\n\\n\")\n",
    "# console.print(f\"[bold magenta]Function:[/bold magenta] JSON to YAML\", output, sep=\"\\n\\n\")\n"
   ]
  },
  {
   "cell_type": "code",
   "execution_count": 41,
   "metadata": {},
   "outputs": [
    {
     "data": {
      "text/html": [
       "<pre style=\"white-space:pre;overflow-x:auto;line-height:normal;font-family:Menlo,'DejaVu Sans Mono',consolas,'Courier New',monospace\"><span style=\"color: #800080; text-decoration-color: #800080; font-weight: bold\">System Prompt:</span> Format the user-provided JSON as YAML.\n",
       "\n",
       "title: <span style=\"color: #008000; text-decoration-color: #008000\">\"An array of integers.\"</span>\n",
       "array:\n",
       "  - <span style=\"color: #008080; text-decoration-color: #008080; font-weight: bold\">-1</span>\n",
       "  - <span style=\"color: #008080; text-decoration-color: #008080; font-weight: bold\">0</span>\n",
       "  - <span style=\"color: #008080; text-decoration-color: #008080; font-weight: bold\">1</span>\n",
       "</pre>\n"
      ],
      "text/plain": [
       "\u001b[1;35mSystem Prompt:\u001b[0m Format the user-provided JSON as YAML.\n",
       "\n",
       "title: \u001b[32m\"An array of integers.\"\u001b[0m\n",
       "array:\n",
       "  - \u001b[1;36m-1\u001b[0m\n",
       "  - \u001b[1;36m0\u001b[0m\n",
       "  - \u001b[1;36m1\u001b[0m\n"
      ]
     },
     "metadata": {},
     "output_type": "display_data"
    },
    {
     "data": {
      "text/html": [
       "<pre style=\"white-space:pre;overflow-x:auto;line-height:normal;font-family:Menlo,'DejaVu Sans Mono',consolas,'Courier New',monospace\"><span style=\"color: #800080; text-decoration-color: #800080; font-weight: bold\">System Prompt:</span> Format the user-provided JSON as YAML.\n",
       "\n",
       "An array of integers so neat,\n",
       "With values that can't be beat,\n",
       "From negative to positive one,\n",
       "It's a range that's quite fun,\n",
       "This JSON is really quite sweet!\n",
       "</pre>\n"
      ],
      "text/plain": [
       "\u001b[1;35mSystem Prompt:\u001b[0m Format the user-provided JSON as YAML.\n",
       "\n",
       "An array of integers so neat,\n",
       "With values that can't be beat,\n",
       "From negative to positive one,\n",
       "It's a range that's quite fun,\n",
       "This JSON is really quite sweet!\n"
      ]
     },
     "metadata": {},
     "output_type": "display_data"
    },
    {
     "data": {
      "text/html": [
       "<pre style=\"white-space:pre;overflow-x:auto;line-height:normal;font-family:Menlo,'DejaVu Sans Mono',consolas,'Courier New',monospace\"><span style=\"color: #800080; text-decoration-color: #800080; font-weight: bold\">System Prompt:</span> Format the user-provided JSON as YAML.\n",
       "\n",
       "<span style=\"font-weight: bold\">{</span><span style=\"color: #008000; text-decoration-color: #008000\">\"titre\"</span>: <span style=\"color: #008000; text-decoration-color: #008000\">\"Un tableau d'entiers.\"</span>, <span style=\"color: #008000; text-decoration-color: #008000\">\"tableau\"</span>: <span style=\"font-weight: bold\">[</span><span style=\"color: #008080; text-decoration-color: #008080; font-weight: bold\">-1</span>, <span style=\"color: #008080; text-decoration-color: #008080; font-weight: bold\">0</span>, <span style=\"color: #008080; text-decoration-color: #008080; font-weight: bold\">1</span><span style=\"font-weight: bold\">]}</span>\n",
       "</pre>\n"
      ],
      "text/plain": [
       "\u001b[1;35mSystem Prompt:\u001b[0m Format the user-provided JSON as YAML.\n",
       "\n",
       "\u001b[1m{\u001b[0m\u001b[32m\"titre\"\u001b[0m: \u001b[32m\"Un tableau d'entiers.\"\u001b[0m, \u001b[32m\"tableau\"\u001b[0m: \u001b[1m[\u001b[0m\u001b[1;36m-1\u001b[0m, \u001b[1;36m0\u001b[0m, \u001b[1;36m1\u001b[0m\u001b[1m]\u001b[0m\u001b[1m}\u001b[0m\n"
      ]
     },
     "metadata": {},
     "output_type": "display_data"
    },
    {
     "data": {
      "text/html": [
       "<pre style=\"white-space:pre;overflow-x:auto;line-height:normal;font-family:Menlo,'DejaVu Sans Mono',consolas,'Courier New',monospace\"><span style=\"color: #008000; text-decoration-color: #008000; font-weight: bold\">Final AIChat object:</span>\n",
       "<span style=\"color: #800080; text-decoration-color: #800080; font-weight: bold\">AIChat</span><span style=\"font-weight: bold\">(</span>\n",
       "    <span style=\"color: #808000; text-decoration-color: #808000\">client</span>=<span style=\"font-weight: bold\">&lt;</span><span style=\"color: #ff00ff; text-decoration-color: #ff00ff; font-weight: bold\">httpx.Client</span><span style=\"color: #000000; text-decoration-color: #000000\"> object at </span><span style=\"color: #008080; text-decoration-color: #008080; font-weight: bold\">0x7fc6fb149510</span><span style=\"font-weight: bold\">&gt;</span>,\n",
       "    <span style=\"color: #808000; text-decoration-color: #808000\">default_session</span>=<span style=\"color: #800080; text-decoration-color: #800080; font-weight: bold\">ChatGPTSession</span><span style=\"font-weight: bold\">(</span>\n",
       "        <span style=\"color: #808000; text-decoration-color: #808000\">id</span>=<span style=\"color: #008000; text-decoration-color: #008000\">'function'</span>,\n",
       "        <span style=\"color: #808000; text-decoration-color: #808000\">created_at</span>=<span style=\"color: #800080; text-decoration-color: #800080; font-weight: bold\">datetime</span><span style=\"color: #800080; text-decoration-color: #800080; font-weight: bold\">.datetime</span><span style=\"font-weight: bold\">(</span><span style=\"color: #008080; text-decoration-color: #008080; font-weight: bold\">2023</span>, <span style=\"color: #008080; text-decoration-color: #008080; font-weight: bold\">6</span>, <span style=\"color: #008080; text-decoration-color: #008080; font-weight: bold\">20</span>, <span style=\"color: #008080; text-decoration-color: #008080; font-weight: bold\">4</span>, <span style=\"color: #008080; text-decoration-color: #008080; font-weight: bold\">17</span>, <span style=\"color: #008080; text-decoration-color: #008080; font-weight: bold\">30</span>, <span style=\"color: #008080; text-decoration-color: #008080; font-weight: bold\">406260</span>, <span style=\"color: #808000; text-decoration-color: #808000\">tzinfo</span>=<span style=\"color: #800080; text-decoration-color: #800080\">datetime</span>.timezone.utc<span style=\"font-weight: bold\">)</span>,\n",
       "        <span style=\"color: #808000; text-decoration-color: #808000\">auth</span>=<span style=\"font-weight: bold\">{</span><span style=\"color: #008000; text-decoration-color: #008000\">'api_key'</span>: <span style=\"color: #800080; text-decoration-color: #800080; font-weight: bold\">SecretStr</span><span style=\"font-weight: bold\">(</span><span style=\"color: #008000; text-decoration-color: #008000\">'**********'</span><span style=\"font-weight: bold\">)}</span>,\n",
       "        <span style=\"color: #808000; text-decoration-color: #808000\">api_url</span>=<span style=\"color: #008000; text-decoration-color: #008000\">'https://api.openai.com/v1/chat/completions'</span>,\n",
       "        <span style=\"color: #808000; text-decoration-color: #808000\">model</span>=<span style=\"color: #008000; text-decoration-color: #008000\">'gpt-3.5-turbo'</span>,\n",
       "        <span style=\"color: #808000; text-decoration-color: #808000\">system</span>=<span style=\"color: #008000; text-decoration-color: #008000\">'You are a helpful assistant.'</span>,\n",
       "        <span style=\"color: #808000; text-decoration-color: #808000\">params</span>=<span style=\"font-weight: bold\">{</span><span style=\"color: #008000; text-decoration-color: #008000\">'temperature'</span>: <span style=\"color: #008080; text-decoration-color: #008080; font-weight: bold\">0.0</span>, <span style=\"color: #008000; text-decoration-color: #008000\">'max_tokens'</span>: <span style=\"color: #008080; text-decoration-color: #008080; font-weight: bold\">100</span><span style=\"font-weight: bold\">}</span>,\n",
       "        <span style=\"color: #808000; text-decoration-color: #808000\">messages</span>=<span style=\"font-weight: bold\">[]</span>,\n",
       "        <span style=\"color: #808000; text-decoration-color: #808000\">input_fields</span>=<span style=\"font-weight: bold\">{</span><span style=\"color: #008000; text-decoration-color: #008000\">'role'</span>, <span style=\"color: #008000; text-decoration-color: #008000\">'content'</span>, <span style=\"color: #008000; text-decoration-color: #008000\">'name'</span><span style=\"font-weight: bold\">}</span>,\n",
       "        <span style=\"color: #808000; text-decoration-color: #808000\">recent_messages</span>=<span style=\"color: #800080; text-decoration-color: #800080; font-style: italic\">None</span>,\n",
       "        <span style=\"color: #808000; text-decoration-color: #808000\">save_messages</span>=<span style=\"color: #ff0000; text-decoration-color: #ff0000; font-style: italic\">False</span>,\n",
       "        <span style=\"color: #808000; text-decoration-color: #808000\">total_prompt_length</span>=<span style=\"color: #008080; text-decoration-color: #008080; font-weight: bold\">178</span>,\n",
       "        <span style=\"color: #808000; text-decoration-color: #808000\">total_completion_length</span>=<span style=\"color: #008080; text-decoration-color: #008080; font-weight: bold\">109</span>,\n",
       "        <span style=\"color: #808000; text-decoration-color: #808000\">total_length</span>=<span style=\"color: #008080; text-decoration-color: #008080; font-weight: bold\">287</span>,\n",
       "        <span style=\"color: #808000; text-decoration-color: #808000\">title</span>=<span style=\"color: #800080; text-decoration-color: #800080; font-style: italic\">None</span>\n",
       "    <span style=\"font-weight: bold\">)</span>,\n",
       "    <span style=\"color: #808000; text-decoration-color: #808000\">sessions</span>=<span style=\"font-weight: bold\">{</span>\n",
       "        <span style=\"color: #008000; text-decoration-color: #008000\">'function'</span>: <span style=\"color: #800080; text-decoration-color: #800080; font-weight: bold\">ChatGPTSession</span><span style=\"font-weight: bold\">(</span>\n",
       "            <span style=\"color: #808000; text-decoration-color: #808000\">id</span>=<span style=\"color: #008000; text-decoration-color: #008000\">'function'</span>,\n",
       "            <span style=\"color: #808000; text-decoration-color: #808000\">created_at</span>=<span style=\"color: #800080; text-decoration-color: #800080; font-weight: bold\">datetime</span><span style=\"color: #800080; text-decoration-color: #800080; font-weight: bold\">.datetime</span><span style=\"font-weight: bold\">(</span><span style=\"color: #008080; text-decoration-color: #008080; font-weight: bold\">2023</span>, <span style=\"color: #008080; text-decoration-color: #008080; font-weight: bold\">6</span>, <span style=\"color: #008080; text-decoration-color: #008080; font-weight: bold\">20</span>, <span style=\"color: #008080; text-decoration-color: #008080; font-weight: bold\">4</span>, <span style=\"color: #008080; text-decoration-color: #008080; font-weight: bold\">17</span>, <span style=\"color: #008080; text-decoration-color: #008080; font-weight: bold\">30</span>, <span style=\"color: #008080; text-decoration-color: #008080; font-weight: bold\">406260</span>, <span style=\"color: #808000; text-decoration-color: #808000\">tzinfo</span>=<span style=\"color: #800080; text-decoration-color: #800080\">datetime</span>.timezone.utc<span style=\"font-weight: bold\">)</span>,\n",
       "            <span style=\"color: #808000; text-decoration-color: #808000\">auth</span>=<span style=\"font-weight: bold\">{</span><span style=\"color: #008000; text-decoration-color: #008000\">'api_key'</span>: <span style=\"color: #800080; text-decoration-color: #800080; font-weight: bold\">SecretStr</span><span style=\"font-weight: bold\">(</span><span style=\"color: #008000; text-decoration-color: #008000\">'**********'</span><span style=\"font-weight: bold\">)}</span>,\n",
       "            <span style=\"color: #808000; text-decoration-color: #808000\">api_url</span>=<span style=\"color: #008000; text-decoration-color: #008000\">'https://api.openai.com/v1/chat/completions'</span>,\n",
       "            <span style=\"color: #808000; text-decoration-color: #808000\">model</span>=<span style=\"color: #008000; text-decoration-color: #008000\">'gpt-3.5-turbo'</span>,\n",
       "            <span style=\"color: #808000; text-decoration-color: #808000\">system</span>=<span style=\"color: #008000; text-decoration-color: #008000\">'You are a helpful assistant.'</span>,\n",
       "            <span style=\"color: #808000; text-decoration-color: #808000\">params</span>=<span style=\"font-weight: bold\">{</span><span style=\"color: #008000; text-decoration-color: #008000\">'temperature'</span>: <span style=\"color: #008080; text-decoration-color: #008080; font-weight: bold\">0.0</span>, <span style=\"color: #008000; text-decoration-color: #008000\">'max_tokens'</span>: <span style=\"color: #008080; text-decoration-color: #008080; font-weight: bold\">100</span><span style=\"font-weight: bold\">}</span>,\n",
       "            <span style=\"color: #808000; text-decoration-color: #808000\">messages</span>=<span style=\"font-weight: bold\">[]</span>,\n",
       "            <span style=\"color: #808000; text-decoration-color: #808000\">input_fields</span>=<span style=\"font-weight: bold\">{</span><span style=\"color: #008000; text-decoration-color: #008000\">'role'</span>, <span style=\"color: #008000; text-decoration-color: #008000\">'content'</span>, <span style=\"color: #008000; text-decoration-color: #008000\">'name'</span><span style=\"font-weight: bold\">}</span>,\n",
       "            <span style=\"color: #808000; text-decoration-color: #808000\">recent_messages</span>=<span style=\"color: #800080; text-decoration-color: #800080; font-style: italic\">None</span>,\n",
       "            <span style=\"color: #808000; text-decoration-color: #808000\">save_messages</span>=<span style=\"color: #ff0000; text-decoration-color: #ff0000; font-style: italic\">False</span>,\n",
       "            <span style=\"color: #808000; text-decoration-color: #808000\">total_prompt_length</span>=<span style=\"color: #008080; text-decoration-color: #008080; font-weight: bold\">178</span>,\n",
       "            <span style=\"color: #808000; text-decoration-color: #808000\">total_completion_length</span>=<span style=\"color: #008080; text-decoration-color: #008080; font-weight: bold\">109</span>,\n",
       "            <span style=\"color: #808000; text-decoration-color: #808000\">total_length</span>=<span style=\"color: #008080; text-decoration-color: #008080; font-weight: bold\">287</span>,\n",
       "            <span style=\"color: #808000; text-decoration-color: #808000\">title</span>=<span style=\"color: #800080; text-decoration-color: #800080; font-style: italic\">None</span>\n",
       "        <span style=\"font-weight: bold\">)</span>\n",
       "    <span style=\"font-weight: bold\">}</span>\n",
       "<span style=\"font-weight: bold\">)</span>\n",
       "</pre>\n"
      ],
      "text/plain": [
       "\u001b[1;32mFinal AIChat object:\u001b[0m\n",
       "\u001b[1;35mAIChat\u001b[0m\u001b[1m(\u001b[0m\n",
       "    \u001b[33mclient\u001b[0m=\u001b[1m<\u001b[0m\u001b[1;95mhttpx.Client\u001b[0m\u001b[39m object at \u001b[0m\u001b[1;36m0x7fc6fb149510\u001b[0m\u001b[1m>\u001b[0m,\n",
       "    \u001b[33mdefault_session\u001b[0m=\u001b[1;35mChatGPTSession\u001b[0m\u001b[1m(\u001b[0m\n",
       "        \u001b[33mid\u001b[0m=\u001b[32m'function'\u001b[0m,\n",
       "        \u001b[33mcreated_at\u001b[0m=\u001b[1;35mdatetime\u001b[0m\u001b[1;35m.datetime\u001b[0m\u001b[1m(\u001b[0m\u001b[1;36m2023\u001b[0m, \u001b[1;36m6\u001b[0m, \u001b[1;36m20\u001b[0m, \u001b[1;36m4\u001b[0m, \u001b[1;36m17\u001b[0m, \u001b[1;36m30\u001b[0m, \u001b[1;36m406260\u001b[0m, \u001b[33mtzinfo\u001b[0m=\u001b[35mdatetime\u001b[0m.timezone.utc\u001b[1m)\u001b[0m,\n",
       "        \u001b[33mauth\u001b[0m=\u001b[1m{\u001b[0m\u001b[32m'api_key'\u001b[0m: \u001b[1;35mSecretStr\u001b[0m\u001b[1m(\u001b[0m\u001b[32m'**********'\u001b[0m\u001b[1m)\u001b[0m\u001b[1m}\u001b[0m,\n",
       "        \u001b[33mapi_url\u001b[0m=\u001b[32m'https://api.openai.com/v1/chat/completions'\u001b[0m,\n",
       "        \u001b[33mmodel\u001b[0m=\u001b[32m'gpt-3.5-turbo'\u001b[0m,\n",
       "        \u001b[33msystem\u001b[0m=\u001b[32m'You are a helpful assistant.'\u001b[0m,\n",
       "        \u001b[33mparams\u001b[0m=\u001b[1m{\u001b[0m\u001b[32m'temperature'\u001b[0m: \u001b[1;36m0.0\u001b[0m, \u001b[32m'max_tokens'\u001b[0m: \u001b[1;36m100\u001b[0m\u001b[1m}\u001b[0m,\n",
       "        \u001b[33mmessages\u001b[0m=\u001b[1m[\u001b[0m\u001b[1m]\u001b[0m,\n",
       "        \u001b[33minput_fields\u001b[0m=\u001b[1m{\u001b[0m\u001b[32m'role'\u001b[0m, \u001b[32m'content'\u001b[0m, \u001b[32m'name'\u001b[0m\u001b[1m}\u001b[0m,\n",
       "        \u001b[33mrecent_messages\u001b[0m=\u001b[3;35mNone\u001b[0m,\n",
       "        \u001b[33msave_messages\u001b[0m=\u001b[3;91mFalse\u001b[0m,\n",
       "        \u001b[33mtotal_prompt_length\u001b[0m=\u001b[1;36m178\u001b[0m,\n",
       "        \u001b[33mtotal_completion_length\u001b[0m=\u001b[1;36m109\u001b[0m,\n",
       "        \u001b[33mtotal_length\u001b[0m=\u001b[1;36m287\u001b[0m,\n",
       "        \u001b[33mtitle\u001b[0m=\u001b[3;35mNone\u001b[0m\n",
       "    \u001b[1m)\u001b[0m,\n",
       "    \u001b[33msessions\u001b[0m=\u001b[1m{\u001b[0m\n",
       "        \u001b[32m'function'\u001b[0m: \u001b[1;35mChatGPTSession\u001b[0m\u001b[1m(\u001b[0m\n",
       "            \u001b[33mid\u001b[0m=\u001b[32m'function'\u001b[0m,\n",
       "            \u001b[33mcreated_at\u001b[0m=\u001b[1;35mdatetime\u001b[0m\u001b[1;35m.datetime\u001b[0m\u001b[1m(\u001b[0m\u001b[1;36m2023\u001b[0m, \u001b[1;36m6\u001b[0m, \u001b[1;36m20\u001b[0m, \u001b[1;36m4\u001b[0m, \u001b[1;36m17\u001b[0m, \u001b[1;36m30\u001b[0m, \u001b[1;36m406260\u001b[0m, \u001b[33mtzinfo\u001b[0m=\u001b[35mdatetime\u001b[0m.timezone.utc\u001b[1m)\u001b[0m,\n",
       "            \u001b[33mauth\u001b[0m=\u001b[1m{\u001b[0m\u001b[32m'api_key'\u001b[0m: \u001b[1;35mSecretStr\u001b[0m\u001b[1m(\u001b[0m\u001b[32m'**********'\u001b[0m\u001b[1m)\u001b[0m\u001b[1m}\u001b[0m,\n",
       "            \u001b[33mapi_url\u001b[0m=\u001b[32m'https://api.openai.com/v1/chat/completions'\u001b[0m,\n",
       "            \u001b[33mmodel\u001b[0m=\u001b[32m'gpt-3.5-turbo'\u001b[0m,\n",
       "            \u001b[33msystem\u001b[0m=\u001b[32m'You are a helpful assistant.'\u001b[0m,\n",
       "            \u001b[33mparams\u001b[0m=\u001b[1m{\u001b[0m\u001b[32m'temperature'\u001b[0m: \u001b[1;36m0.0\u001b[0m, \u001b[32m'max_tokens'\u001b[0m: \u001b[1;36m100\u001b[0m\u001b[1m}\u001b[0m,\n",
       "            \u001b[33mmessages\u001b[0m=\u001b[1m[\u001b[0m\u001b[1m]\u001b[0m,\n",
       "            \u001b[33minput_fields\u001b[0m=\u001b[1m{\u001b[0m\u001b[32m'role'\u001b[0m, \u001b[32m'content'\u001b[0m, \u001b[32m'name'\u001b[0m\u001b[1m}\u001b[0m,\n",
       "            \u001b[33mrecent_messages\u001b[0m=\u001b[3;35mNone\u001b[0m,\n",
       "            \u001b[33msave_messages\u001b[0m=\u001b[3;91mFalse\u001b[0m,\n",
       "            \u001b[33mtotal_prompt_length\u001b[0m=\u001b[1;36m178\u001b[0m,\n",
       "            \u001b[33mtotal_completion_length\u001b[0m=\u001b[1;36m109\u001b[0m,\n",
       "            \u001b[33mtotal_length\u001b[0m=\u001b[1;36m287\u001b[0m,\n",
       "            \u001b[33mtitle\u001b[0m=\u001b[3;35mNone\u001b[0m\n",
       "        \u001b[1m)\u001b[0m\n",
       "    \u001b[1m}\u001b[0m\n",
       "\u001b[1m)\u001b[0m\n"
      ]
     },
     "metadata": {},
     "output_type": "display_data"
    }
   ],
   "source": [
    "from rich.console import Console\n",
    "console = Console()\n",
    "\n",
    "functions = [\n",
    "             \"Format the user-provided JSON as YAML.\",\n",
    "             \"Write a limerick based on the user-provided JSON.\",\n",
    "             \"Translate the user-provided JSON from English to French.\"\n",
    "            ]\n",
    "for i, function in enumerate(functions):\n",
    "    output = ai(json, id=\"function\", system=function)\n",
    "    # console.print(f\"[bold magenta]Output {i+1}:[/bold magenta]\\n{output}\")\n",
    "    console.print(f\"[bold magenta]System Prompt:[/bold magenta] {system}\", output, sep=\"\\n\\n\")\n",
    "    \n",
    "console.print(f\"[bold green]Final AIChat object:[/bold green]\", ai, sep=\"\\n\\n\")"
   ]
  },
  {
   "cell_type": "code",
   "execution_count": 9,
   "metadata": {},
   "outputs": [
    {
     "data": {
      "text/html": [
       "<pre style=\"white-space:pre;overflow-x:auto;line-height:normal;font-family:Menlo,'DejaVu Sans Mono',consolas,'Courier New',monospace\"><span style=\"color: #c0c0c0; text-decoration-color: #c0c0c0; font-weight: bold\">ChatGPTSession </span><span style=\"color: #c0c0c0; text-decoration-color: #c0c0c0; font-weight: bold\">0</span><span style=\"color: #c0c0c0; text-decoration-color: #c0c0c0; font-weight: bold\">: UUID(</span><span style=\"color: #c0c0c0; text-decoration-color: #c0c0c0; font-weight: bold\">\"65ce31a3-1930-494d-a2bb-9c98cfbb28f9\"</span><span style=\"color: #c0c0c0; text-decoration-color: #c0c0c0; font-weight: bold\">)</span>\n",
       "<span style=\"color: #800080; text-decoration-color: #800080; font-weight: bold\">ChatGPTSession</span><span style=\"font-weight: bold\">(</span>\n",
       "    <span style=\"color: #808000; text-decoration-color: #808000\">id</span>=<span style=\"color: #800080; text-decoration-color: #800080; font-weight: bold\">UUID</span><span style=\"font-weight: bold\">(</span><span style=\"color: #008000; text-decoration-color: #008000\">'65ce31a3-1930-494d-a2bb-9c98cfbb28f9'</span><span style=\"font-weight: bold\">)</span>,\n",
       "    <span style=\"color: #808000; text-decoration-color: #808000\">created_at</span>=<span style=\"color: #800080; text-decoration-color: #800080; font-weight: bold\">datetime</span><span style=\"color: #800080; text-decoration-color: #800080; font-weight: bold\">.datetime</span><span style=\"font-weight: bold\">(</span><span style=\"color: #008080; text-decoration-color: #008080; font-weight: bold\">2023</span>, <span style=\"color: #008080; text-decoration-color: #008080; font-weight: bold\">6</span>, <span style=\"color: #008080; text-decoration-color: #008080; font-weight: bold\">20</span>, <span style=\"color: #008080; text-decoration-color: #008080; font-weight: bold\">7</span>, <span style=\"color: #008080; text-decoration-color: #008080; font-weight: bold\">47</span>, <span style=\"color: #008080; text-decoration-color: #008080; font-weight: bold\">13</span>, <span style=\"color: #008080; text-decoration-color: #008080; font-weight: bold\">635161</span>, <span style=\"color: #808000; text-decoration-color: #808000\">tzinfo</span>=<span style=\"color: #800080; text-decoration-color: #800080\">datetime</span>.timezone.utc<span style=\"font-weight: bold\">)</span>,\n",
       "    <span style=\"color: #808000; text-decoration-color: #808000\">auth</span>=<span style=\"font-weight: bold\">{</span><span style=\"color: #008000; text-decoration-color: #008000\">'api_key'</span>: <span style=\"color: #800080; text-decoration-color: #800080; font-weight: bold\">SecretStr</span><span style=\"font-weight: bold\">(</span><span style=\"color: #008000; text-decoration-color: #008000\">'**********'</span><span style=\"font-weight: bold\">)}</span>,\n",
       "    <span style=\"color: #808000; text-decoration-color: #808000\">api_url</span>=<span style=\"color: #008000; text-decoration-color: #008000\">'https://api.openai.com/v1/chat/completions'</span>,\n",
       "    <span style=\"color: #808000; text-decoration-color: #808000\">model</span>=<span style=\"color: #008000; text-decoration-color: #008000\">'gpt-3.5-turbo-0613'</span>,\n",
       "    <span style=\"color: #808000; text-decoration-color: #808000\">system</span>=<span style=\"color: #008000; text-decoration-color: #008000\">'You are a helpful assistant.'</span>,\n",
       "    <span style=\"color: #808000; text-decoration-color: #808000\">params</span>=<span style=\"font-weight: bold\">{</span><span style=\"color: #008000; text-decoration-color: #008000\">'temperature'</span>: <span style=\"color: #008080; text-decoration-color: #008080; font-weight: bold\">0.0</span><span style=\"font-weight: bold\">}</span>,\n",
       "    <span style=\"color: #808000; text-decoration-color: #808000\">messages</span>=<span style=\"font-weight: bold\">[]</span>,\n",
       "    <span style=\"color: #808000; text-decoration-color: #808000\">input_fields</span>=<span style=\"font-weight: bold\">{</span><span style=\"color: #008000; text-decoration-color: #008000\">'name'</span>, <span style=\"color: #008000; text-decoration-color: #008000\">'content'</span>, <span style=\"color: #008000; text-decoration-color: #008000\">'role'</span><span style=\"font-weight: bold\">}</span>,\n",
       "    <span style=\"color: #808000; text-decoration-color: #808000\">recent_messages</span>=<span style=\"color: #800080; text-decoration-color: #800080; font-style: italic\">None</span>,\n",
       "    <span style=\"color: #808000; text-decoration-color: #808000\">save_messages</span>=<span style=\"color: #ff0000; text-decoration-color: #ff0000; font-style: italic\">False</span>,\n",
       "    <span style=\"color: #808000; text-decoration-color: #808000\">total_prompt_length</span>=<span style=\"color: #008080; text-decoration-color: #008080; font-weight: bold\">94</span>,\n",
       "    <span style=\"color: #808000; text-decoration-color: #808000\">total_completion_length</span>=<span style=\"color: #008080; text-decoration-color: #008080; font-weight: bold\">39</span>,\n",
       "    <span style=\"color: #808000; text-decoration-color: #808000\">total_length</span>=<span style=\"color: #008080; text-decoration-color: #008080; font-weight: bold\">133</span>,\n",
       "    <span style=\"color: #808000; text-decoration-color: #808000\">title</span>=<span style=\"color: #800080; text-decoration-color: #800080; font-style: italic\">None</span>\n",
       "<span style=\"font-weight: bold\">)</span>\n",
       "</pre>\n"
      ],
      "text/plain": [
       "\u001b[1;37mChatGPTSession \u001b[0m\u001b[1;37m0\u001b[0m\u001b[1;37m: \u001b[0m\u001b[1;37mUUID\u001b[0m\u001b[1;37m(\u001b[0m\u001b[1;37m\"65ce31a3-1930-494d-a2bb-9c98cfbb28f9\"\u001b[0m\u001b[1;37m)\u001b[0m\n",
       "\u001b[1;35mChatGPTSession\u001b[0m\u001b[1m(\u001b[0m\n",
       "    \u001b[33mid\u001b[0m=\u001b[1;35mUUID\u001b[0m\u001b[1m(\u001b[0m\u001b[32m'65ce31a3-1930-494d-a2bb-9c98cfbb28f9'\u001b[0m\u001b[1m)\u001b[0m,\n",
       "    \u001b[33mcreated_at\u001b[0m=\u001b[1;35mdatetime\u001b[0m\u001b[1;35m.datetime\u001b[0m\u001b[1m(\u001b[0m\u001b[1;36m2023\u001b[0m, \u001b[1;36m6\u001b[0m, \u001b[1;36m20\u001b[0m, \u001b[1;36m7\u001b[0m, \u001b[1;36m47\u001b[0m, \u001b[1;36m13\u001b[0m, \u001b[1;36m635161\u001b[0m, \u001b[33mtzinfo\u001b[0m=\u001b[35mdatetime\u001b[0m.timezone.utc\u001b[1m)\u001b[0m,\n",
       "    \u001b[33mauth\u001b[0m=\u001b[1m{\u001b[0m\u001b[32m'api_key'\u001b[0m: \u001b[1;35mSecretStr\u001b[0m\u001b[1m(\u001b[0m\u001b[32m'**********'\u001b[0m\u001b[1m)\u001b[0m\u001b[1m}\u001b[0m,\n",
       "    \u001b[33mapi_url\u001b[0m=\u001b[32m'https://api.openai.com/v1/chat/completions'\u001b[0m,\n",
       "    \u001b[33mmodel\u001b[0m=\u001b[32m'gpt-3.5-turbo-0613'\u001b[0m,\n",
       "    \u001b[33msystem\u001b[0m=\u001b[32m'You are a helpful assistant.'\u001b[0m,\n",
       "    \u001b[33mparams\u001b[0m=\u001b[1m{\u001b[0m\u001b[32m'temperature'\u001b[0m: \u001b[1;36m0.0\u001b[0m\u001b[1m}\u001b[0m,\n",
       "    \u001b[33mmessages\u001b[0m=\u001b[1m[\u001b[0m\u001b[1m]\u001b[0m,\n",
       "    \u001b[33minput_fields\u001b[0m=\u001b[1m{\u001b[0m\u001b[32m'name'\u001b[0m, \u001b[32m'content'\u001b[0m, \u001b[32m'role'\u001b[0m\u001b[1m}\u001b[0m,\n",
       "    \u001b[33mrecent_messages\u001b[0m=\u001b[3;35mNone\u001b[0m,\n",
       "    \u001b[33msave_messages\u001b[0m=\u001b[3;91mFalse\u001b[0m,\n",
       "    \u001b[33mtotal_prompt_length\u001b[0m=\u001b[1;36m94\u001b[0m,\n",
       "    \u001b[33mtotal_completion_length\u001b[0m=\u001b[1;36m39\u001b[0m,\n",
       "    \u001b[33mtotal_length\u001b[0m=\u001b[1;36m133\u001b[0m,\n",
       "    \u001b[33mtitle\u001b[0m=\u001b[3;35mNone\u001b[0m\n",
       "\u001b[1m)\u001b[0m\n"
      ]
     },
     "metadata": {},
     "output_type": "display_data"
    }
   ],
   "source": [
    "print_ai(ai)"
   ]
  },
  {
   "attachments": {},
   "cell_type": "markdown",
   "metadata": {},
   "source": [
    "#### Function Calling\n",
    "\n",
    "Newer versions of ChatGPT also support \"[function calling](https://platform.openai.com/docs/guides/gpt/function-calling)\", but the real benefit of that feature is the ability for ChatGPT to support structured input and/or output, which now opens up a wide variety of applications! simpleaichat streamlines the workflow to allow you to just pass an `input_schema` and/or an `output_schema`.\n",
    "\n",
    "You can construct a schema using a [pydantic](https://docs.pydantic.dev/latest/) BaseModel.\n"
   ]
  },
  {
   "cell_type": "code",
   "execution_count": 8,
   "metadata": {},
   "outputs": [
    {
     "data": {
      "text/html": [
       "<pre style=\"white-space:pre;overflow-x:auto;line-height:normal;font-family:Menlo,'DejaVu Sans Mono',consolas,'Courier New',monospace\"><span style=\"color: #c0c0c0; text-decoration-color: #c0c0c0; font-weight: bold\">iPhone response:</span>\n",
       "<span style=\"font-weight: bold\">{</span>\n",
       "    <span style=\"color: #008000; text-decoration-color: #008000\">'description'</span>: <span style=\"color: #008000; text-decoration-color: #008000\">'The first iPhone was announced by Apple Inc.'</span>,\n",
       "    <span style=\"color: #008000; text-decoration-color: #008000\">'city'</span>: <span style=\"color: #008000; text-decoration-color: #008000\">'San Francisco'</span>,\n",
       "    <span style=\"color: #008000; text-decoration-color: #008000\">'year'</span>: <span style=\"color: #008080; text-decoration-color: #008080; font-weight: bold\">2007</span>,\n",
       "    <span style=\"color: #008000; text-decoration-color: #008000\">'month'</span>: <span style=\"color: #008000; text-decoration-color: #008000\">'January'</span>\n",
       "<span style=\"font-weight: bold\">}</span>\n",
       "</pre>\n"
      ],
      "text/plain": [
       "\u001b[1;37miPhone response:\u001b[0m\n",
       "\u001b[1m{\u001b[0m\n",
       "    \u001b[32m'description'\u001b[0m: \u001b[32m'The first iPhone was announced by Apple Inc.'\u001b[0m,\n",
       "    \u001b[32m'city'\u001b[0m: \u001b[32m'San Francisco'\u001b[0m,\n",
       "    \u001b[32m'year'\u001b[0m: \u001b[1;36m2007\u001b[0m,\n",
       "    \u001b[32m'month'\u001b[0m: \u001b[32m'January'\u001b[0m\n",
       "\u001b[1m}\u001b[0m\n"
      ]
     },
     "metadata": {},
     "output_type": "display_data"
    },
    {
     "data": {
      "text/html": [
       "<pre style=\"white-space:pre;overflow-x:auto;line-height:normal;font-family:Menlo,'DejaVu Sans Mono',consolas,'Courier New',monospace\"><span style=\"color: #c0c0c0; text-decoration-color: #c0c0c0; font-weight: bold\">iPhone AIChat object:</span>\n",
       "<span style=\"color: #800080; text-decoration-color: #800080; font-weight: bold\">AIChat</span><span style=\"font-weight: bold\">(</span>\n",
       "    <span style=\"color: #808000; text-decoration-color: #808000\">client</span>=<span style=\"font-weight: bold\">&lt;</span><span style=\"color: #ff00ff; text-decoration-color: #ff00ff; font-weight: bold\">httpx.Client</span><span style=\"color: #000000; text-decoration-color: #000000\"> object at </span><span style=\"color: #008080; text-decoration-color: #008080; font-weight: bold\">0x7f5024d57550</span><span style=\"font-weight: bold\">&gt;</span>,\n",
       "    <span style=\"color: #808000; text-decoration-color: #808000\">default_session</span>=<span style=\"color: #800080; text-decoration-color: #800080; font-weight: bold\">ChatGPTSession</span><span style=\"font-weight: bold\">(</span>\n",
       "        <span style=\"color: #808000; text-decoration-color: #808000\">id</span>=<span style=\"color: #800080; text-decoration-color: #800080; font-weight: bold\">UUID</span><span style=\"font-weight: bold\">(</span><span style=\"color: #008000; text-decoration-color: #008000\">'65ce31a3-1930-494d-a2bb-9c98cfbb28f9'</span><span style=\"font-weight: bold\">)</span>,\n",
       "        <span style=\"color: #808000; text-decoration-color: #808000\">created_at</span>=<span style=\"color: #800080; text-decoration-color: #800080; font-weight: bold\">datetime</span><span style=\"color: #800080; text-decoration-color: #800080; font-weight: bold\">.datetime</span><span style=\"font-weight: bold\">(</span><span style=\"color: #008080; text-decoration-color: #008080; font-weight: bold\">2023</span>, <span style=\"color: #008080; text-decoration-color: #008080; font-weight: bold\">6</span>, <span style=\"color: #008080; text-decoration-color: #008080; font-weight: bold\">20</span>, <span style=\"color: #008080; text-decoration-color: #008080; font-weight: bold\">7</span>, <span style=\"color: #008080; text-decoration-color: #008080; font-weight: bold\">47</span>, <span style=\"color: #008080; text-decoration-color: #008080; font-weight: bold\">13</span>, <span style=\"color: #008080; text-decoration-color: #008080; font-weight: bold\">635161</span>, <span style=\"color: #808000; text-decoration-color: #808000\">tzinfo</span>=<span style=\"color: #800080; text-decoration-color: #800080\">datetime</span>.timezone.utc<span style=\"font-weight: bold\">)</span>,\n",
       "        <span style=\"color: #808000; text-decoration-color: #808000\">auth</span>=<span style=\"font-weight: bold\">{</span><span style=\"color: #008000; text-decoration-color: #008000\">'api_key'</span>: <span style=\"color: #800080; text-decoration-color: #800080; font-weight: bold\">SecretStr</span><span style=\"font-weight: bold\">(</span><span style=\"color: #008000; text-decoration-color: #008000\">'**********'</span><span style=\"font-weight: bold\">)}</span>,\n",
       "        <span style=\"color: #808000; text-decoration-color: #808000\">api_url</span>=<span style=\"color: #008000; text-decoration-color: #008000\">'https://api.openai.com/v1/chat/completions'</span>,\n",
       "        <span style=\"color: #808000; text-decoration-color: #808000\">model</span>=<span style=\"color: #008000; text-decoration-color: #008000\">'gpt-3.5-turbo-0613'</span>,\n",
       "        <span style=\"color: #808000; text-decoration-color: #808000\">system</span>=<span style=\"color: #008000; text-decoration-color: #008000\">'You are a helpful assistant.'</span>,\n",
       "        <span style=\"color: #808000; text-decoration-color: #808000\">params</span>=<span style=\"font-weight: bold\">{</span><span style=\"color: #008000; text-decoration-color: #008000\">'temperature'</span>: <span style=\"color: #008080; text-decoration-color: #008080; font-weight: bold\">0.0</span><span style=\"font-weight: bold\">}</span>,\n",
       "        <span style=\"color: #808000; text-decoration-color: #808000\">messages</span>=<span style=\"font-weight: bold\">[]</span>,\n",
       "        <span style=\"color: #808000; text-decoration-color: #808000\">input_fields</span>=<span style=\"font-weight: bold\">{</span><span style=\"color: #008000; text-decoration-color: #008000\">'name'</span>, <span style=\"color: #008000; text-decoration-color: #008000\">'content'</span>, <span style=\"color: #008000; text-decoration-color: #008000\">'role'</span><span style=\"font-weight: bold\">}</span>,\n",
       "        <span style=\"color: #808000; text-decoration-color: #808000\">recent_messages</span>=<span style=\"color: #800080; text-decoration-color: #800080; font-style: italic\">None</span>,\n",
       "        <span style=\"color: #808000; text-decoration-color: #808000\">save_messages</span>=<span style=\"color: #ff0000; text-decoration-color: #ff0000; font-style: italic\">False</span>,\n",
       "        <span style=\"color: #808000; text-decoration-color: #808000\">total_prompt_length</span>=<span style=\"color: #008080; text-decoration-color: #008080; font-weight: bold\">94</span>,\n",
       "        <span style=\"color: #808000; text-decoration-color: #808000\">total_completion_length</span>=<span style=\"color: #008080; text-decoration-color: #008080; font-weight: bold\">39</span>,\n",
       "        <span style=\"color: #808000; text-decoration-color: #808000\">total_length</span>=<span style=\"color: #008080; text-decoration-color: #008080; font-weight: bold\">133</span>,\n",
       "        <span style=\"color: #808000; text-decoration-color: #808000\">title</span>=<span style=\"color: #800080; text-decoration-color: #800080; font-style: italic\">None</span>\n",
       "    <span style=\"font-weight: bold\">)</span>,\n",
       "    <span style=\"color: #808000; text-decoration-color: #808000\">sessions</span>=<span style=\"font-weight: bold\">{</span>\n",
       "        <span style=\"color: #800080; text-decoration-color: #800080; font-weight: bold\">UUID</span><span style=\"font-weight: bold\">(</span><span style=\"color: #008000; text-decoration-color: #008000\">'65ce31a3-1930-494d-a2bb-9c98cfbb28f9'</span><span style=\"font-weight: bold\">)</span>: <span style=\"color: #800080; text-decoration-color: #800080; font-weight: bold\">ChatGPTSession</span><span style=\"font-weight: bold\">(</span>\n",
       "            <span style=\"color: #808000; text-decoration-color: #808000\">id</span>=<span style=\"color: #800080; text-decoration-color: #800080; font-weight: bold\">UUID</span><span style=\"font-weight: bold\">(</span><span style=\"color: #008000; text-decoration-color: #008000\">'65ce31a3-1930-494d-a2bb-9c98cfbb28f9'</span><span style=\"font-weight: bold\">)</span>,\n",
       "            <span style=\"color: #808000; text-decoration-color: #808000\">created_at</span>=<span style=\"color: #800080; text-decoration-color: #800080; font-weight: bold\">datetime</span><span style=\"color: #800080; text-decoration-color: #800080; font-weight: bold\">.datetime</span><span style=\"font-weight: bold\">(</span><span style=\"color: #008080; text-decoration-color: #008080; font-weight: bold\">2023</span>, <span style=\"color: #008080; text-decoration-color: #008080; font-weight: bold\">6</span>, <span style=\"color: #008080; text-decoration-color: #008080; font-weight: bold\">20</span>, <span style=\"color: #008080; text-decoration-color: #008080; font-weight: bold\">7</span>, <span style=\"color: #008080; text-decoration-color: #008080; font-weight: bold\">47</span>, <span style=\"color: #008080; text-decoration-color: #008080; font-weight: bold\">13</span>, <span style=\"color: #008080; text-decoration-color: #008080; font-weight: bold\">635161</span>, <span style=\"color: #808000; text-decoration-color: #808000\">tzinfo</span>=<span style=\"color: #800080; text-decoration-color: #800080\">datetime</span>.timezone.utc<span style=\"font-weight: bold\">)</span>,\n",
       "            <span style=\"color: #808000; text-decoration-color: #808000\">auth</span>=<span style=\"font-weight: bold\">{</span><span style=\"color: #008000; text-decoration-color: #008000\">'api_key'</span>: <span style=\"color: #800080; text-decoration-color: #800080; font-weight: bold\">SecretStr</span><span style=\"font-weight: bold\">(</span><span style=\"color: #008000; text-decoration-color: #008000\">'**********'</span><span style=\"font-weight: bold\">)}</span>,\n",
       "            <span style=\"color: #808000; text-decoration-color: #808000\">api_url</span>=<span style=\"color: #008000; text-decoration-color: #008000\">'https://api.openai.com/v1/chat/completions'</span>,\n",
       "            <span style=\"color: #808000; text-decoration-color: #808000\">model</span>=<span style=\"color: #008000; text-decoration-color: #008000\">'gpt-3.5-turbo-0613'</span>,\n",
       "            <span style=\"color: #808000; text-decoration-color: #808000\">system</span>=<span style=\"color: #008000; text-decoration-color: #008000\">'You are a helpful assistant.'</span>,\n",
       "            <span style=\"color: #808000; text-decoration-color: #808000\">params</span>=<span style=\"font-weight: bold\">{</span><span style=\"color: #008000; text-decoration-color: #008000\">'temperature'</span>: <span style=\"color: #008080; text-decoration-color: #008080; font-weight: bold\">0.0</span><span style=\"font-weight: bold\">}</span>,\n",
       "            <span style=\"color: #808000; text-decoration-color: #808000\">messages</span>=<span style=\"font-weight: bold\">[]</span>,\n",
       "            <span style=\"color: #808000; text-decoration-color: #808000\">input_fields</span>=<span style=\"font-weight: bold\">{</span><span style=\"color: #008000; text-decoration-color: #008000\">'name'</span>, <span style=\"color: #008000; text-decoration-color: #008000\">'content'</span>, <span style=\"color: #008000; text-decoration-color: #008000\">'role'</span><span style=\"font-weight: bold\">}</span>,\n",
       "            <span style=\"color: #808000; text-decoration-color: #808000\">recent_messages</span>=<span style=\"color: #800080; text-decoration-color: #800080; font-style: italic\">None</span>,\n",
       "            <span style=\"color: #808000; text-decoration-color: #808000\">save_messages</span>=<span style=\"color: #ff0000; text-decoration-color: #ff0000; font-style: italic\">False</span>,\n",
       "            <span style=\"color: #808000; text-decoration-color: #808000\">total_prompt_length</span>=<span style=\"color: #008080; text-decoration-color: #008080; font-weight: bold\">94</span>,\n",
       "            <span style=\"color: #808000; text-decoration-color: #808000\">total_completion_length</span>=<span style=\"color: #008080; text-decoration-color: #008080; font-weight: bold\">39</span>,\n",
       "            <span style=\"color: #808000; text-decoration-color: #808000\">total_length</span>=<span style=\"color: #008080; text-decoration-color: #008080; font-weight: bold\">133</span>,\n",
       "            <span style=\"color: #808000; text-decoration-color: #808000\">title</span>=<span style=\"color: #800080; text-decoration-color: #800080; font-style: italic\">None</span>\n",
       "        <span style=\"font-weight: bold\">)</span>\n",
       "    <span style=\"font-weight: bold\">}</span>\n",
       "<span style=\"font-weight: bold\">)</span>\n",
       "</pre>\n"
      ],
      "text/plain": [
       "\u001b[1;37miPhone AIChat object:\u001b[0m\n",
       "\u001b[1;35mAIChat\u001b[0m\u001b[1m(\u001b[0m\n",
       "    \u001b[33mclient\u001b[0m=\u001b[1m<\u001b[0m\u001b[1;95mhttpx.Client\u001b[0m\u001b[39m object at \u001b[0m\u001b[1;36m0x7f5024d57550\u001b[0m\u001b[1m>\u001b[0m,\n",
       "    \u001b[33mdefault_session\u001b[0m=\u001b[1;35mChatGPTSession\u001b[0m\u001b[1m(\u001b[0m\n",
       "        \u001b[33mid\u001b[0m=\u001b[1;35mUUID\u001b[0m\u001b[1m(\u001b[0m\u001b[32m'65ce31a3-1930-494d-a2bb-9c98cfbb28f9'\u001b[0m\u001b[1m)\u001b[0m,\n",
       "        \u001b[33mcreated_at\u001b[0m=\u001b[1;35mdatetime\u001b[0m\u001b[1;35m.datetime\u001b[0m\u001b[1m(\u001b[0m\u001b[1;36m2023\u001b[0m, \u001b[1;36m6\u001b[0m, \u001b[1;36m20\u001b[0m, \u001b[1;36m7\u001b[0m, \u001b[1;36m47\u001b[0m, \u001b[1;36m13\u001b[0m, \u001b[1;36m635161\u001b[0m, \u001b[33mtzinfo\u001b[0m=\u001b[35mdatetime\u001b[0m.timezone.utc\u001b[1m)\u001b[0m,\n",
       "        \u001b[33mauth\u001b[0m=\u001b[1m{\u001b[0m\u001b[32m'api_key'\u001b[0m: \u001b[1;35mSecretStr\u001b[0m\u001b[1m(\u001b[0m\u001b[32m'**********'\u001b[0m\u001b[1m)\u001b[0m\u001b[1m}\u001b[0m,\n",
       "        \u001b[33mapi_url\u001b[0m=\u001b[32m'https://api.openai.com/v1/chat/completions'\u001b[0m,\n",
       "        \u001b[33mmodel\u001b[0m=\u001b[32m'gpt-3.5-turbo-0613'\u001b[0m,\n",
       "        \u001b[33msystem\u001b[0m=\u001b[32m'You are a helpful assistant.'\u001b[0m,\n",
       "        \u001b[33mparams\u001b[0m=\u001b[1m{\u001b[0m\u001b[32m'temperature'\u001b[0m: \u001b[1;36m0.0\u001b[0m\u001b[1m}\u001b[0m,\n",
       "        \u001b[33mmessages\u001b[0m=\u001b[1m[\u001b[0m\u001b[1m]\u001b[0m,\n",
       "        \u001b[33minput_fields\u001b[0m=\u001b[1m{\u001b[0m\u001b[32m'name'\u001b[0m, \u001b[32m'content'\u001b[0m, \u001b[32m'role'\u001b[0m\u001b[1m}\u001b[0m,\n",
       "        \u001b[33mrecent_messages\u001b[0m=\u001b[3;35mNone\u001b[0m,\n",
       "        \u001b[33msave_messages\u001b[0m=\u001b[3;91mFalse\u001b[0m,\n",
       "        \u001b[33mtotal_prompt_length\u001b[0m=\u001b[1;36m94\u001b[0m,\n",
       "        \u001b[33mtotal_completion_length\u001b[0m=\u001b[1;36m39\u001b[0m,\n",
       "        \u001b[33mtotal_length\u001b[0m=\u001b[1;36m133\u001b[0m,\n",
       "        \u001b[33mtitle\u001b[0m=\u001b[3;35mNone\u001b[0m\n",
       "    \u001b[1m)\u001b[0m,\n",
       "    \u001b[33msessions\u001b[0m=\u001b[1m{\u001b[0m\n",
       "        \u001b[1;35mUUID\u001b[0m\u001b[1m(\u001b[0m\u001b[32m'65ce31a3-1930-494d-a2bb-9c98cfbb28f9'\u001b[0m\u001b[1m)\u001b[0m: \u001b[1;35mChatGPTSession\u001b[0m\u001b[1m(\u001b[0m\n",
       "            \u001b[33mid\u001b[0m=\u001b[1;35mUUID\u001b[0m\u001b[1m(\u001b[0m\u001b[32m'65ce31a3-1930-494d-a2bb-9c98cfbb28f9'\u001b[0m\u001b[1m)\u001b[0m,\n",
       "            \u001b[33mcreated_at\u001b[0m=\u001b[1;35mdatetime\u001b[0m\u001b[1;35m.datetime\u001b[0m\u001b[1m(\u001b[0m\u001b[1;36m2023\u001b[0m, \u001b[1;36m6\u001b[0m, \u001b[1;36m20\u001b[0m, \u001b[1;36m7\u001b[0m, \u001b[1;36m47\u001b[0m, \u001b[1;36m13\u001b[0m, \u001b[1;36m635161\u001b[0m, \u001b[33mtzinfo\u001b[0m=\u001b[35mdatetime\u001b[0m.timezone.utc\u001b[1m)\u001b[0m,\n",
       "            \u001b[33mauth\u001b[0m=\u001b[1m{\u001b[0m\u001b[32m'api_key'\u001b[0m: \u001b[1;35mSecretStr\u001b[0m\u001b[1m(\u001b[0m\u001b[32m'**********'\u001b[0m\u001b[1m)\u001b[0m\u001b[1m}\u001b[0m,\n",
       "            \u001b[33mapi_url\u001b[0m=\u001b[32m'https://api.openai.com/v1/chat/completions'\u001b[0m,\n",
       "            \u001b[33mmodel\u001b[0m=\u001b[32m'gpt-3.5-turbo-0613'\u001b[0m,\n",
       "            \u001b[33msystem\u001b[0m=\u001b[32m'You are a helpful assistant.'\u001b[0m,\n",
       "            \u001b[33mparams\u001b[0m=\u001b[1m{\u001b[0m\u001b[32m'temperature'\u001b[0m: \u001b[1;36m0.0\u001b[0m\u001b[1m}\u001b[0m,\n",
       "            \u001b[33mmessages\u001b[0m=\u001b[1m[\u001b[0m\u001b[1m]\u001b[0m,\n",
       "            \u001b[33minput_fields\u001b[0m=\u001b[1m{\u001b[0m\u001b[32m'name'\u001b[0m, \u001b[32m'content'\u001b[0m, \u001b[32m'role'\u001b[0m\u001b[1m}\u001b[0m,\n",
       "            \u001b[33mrecent_messages\u001b[0m=\u001b[3;35mNone\u001b[0m,\n",
       "            \u001b[33msave_messages\u001b[0m=\u001b[3;91mFalse\u001b[0m,\n",
       "            \u001b[33mtotal_prompt_length\u001b[0m=\u001b[1;36m94\u001b[0m,\n",
       "            \u001b[33mtotal_completion_length\u001b[0m=\u001b[1;36m39\u001b[0m,\n",
       "            \u001b[33mtotal_length\u001b[0m=\u001b[1;36m133\u001b[0m,\n",
       "            \u001b[33mtitle\u001b[0m=\u001b[3;35mNone\u001b[0m\n",
       "        \u001b[1m)\u001b[0m\n",
       "    \u001b[1m}\u001b[0m\n",
       "\u001b[1m)\u001b[0m\n"
      ]
     },
     "metadata": {},
     "output_type": "display_data"
    }
   ],
   "source": [
    "from pydantic import BaseModel, Field\n",
    "\n",
    "ai = AIChat(\n",
    "    console=False,\n",
    "    save_messages=False,  # with schema I/O, messages are never saved\n",
    "    model=\"gpt-3.5-turbo-0613\",\n",
    "    params={\"temperature\": 0.0},\n",
    ")\n",
    "\n",
    "class get_event_metadata(BaseModel):\n",
    "    \"\"\"Event information\"\"\"\n",
    "\n",
    "    description: str = Field(description=\"Description of event\")\n",
    "    city: str = Field(description=\"City where event occured\")\n",
    "    year: int = Field(description=\"Year when event occured\")\n",
    "    month: str = Field(description=\"Month when event occured\")\n",
    "\n",
    "# returns a dict, with keys ordered as in the schema\n",
    "response = ai(\"First iPhone announcement\", output_schema=get_event_metadata)\n",
    "console_print(response, title=\"iPhone response:\")\n",
    "console_print(ai, title=f\"iPhone AIChat object:\")#, title_color=\"bold green\")\n"
   ]
  },
  {
   "attachments": {},
   "cell_type": "markdown",
   "metadata": {},
   "source": [
    "See the [TTRPG Generator Notebook](examples/notebooks/schema_ttrpg.ipynb) for a more elaborate demonstration of schema capabilities.\n"
   ]
  },
  {
   "attachments": {},
   "cell_type": "markdown",
   "metadata": {},
   "source": [
    "### Tools\n",
    "\n",
    "One of the most recent aspects of interacting with ChatGPT is the ability for the model to use \"tools.\" As popularized by [LangChain](https://github.com/hwchase17/langchain), tools allow the model to decide when to use custom functions, which can extend beyond just the chat AI itself, for example retrieving recent information from the internet not present in the chat AI's training data. This workflow is analogous to ChatGPT Plugins.\n",
    "\n",
    "Parsing the model output to invoke tools typically requires a number of shennanigans, but simpleaichat uses [a neat trick](https://github.com/minimaxir/simpleaichat/blob/main/PROMPTS.md#tools) to make it fast and reliable! Additionally, the specified tools return a `context` for ChatGPT to draw from for its final response, and tools you specify can return a dictionary which you can also populate with arbitrary metadata for debugging and postprocessing. Each generation returns a dictionary with the `response` and the `tool` function used, which can be used to set up workflows akin to [LangChain](https://github.com/hwchase17/langchain)-style Agents, e.g. recursively feed input to the model until it determines it does not need to use any more tools.\n",
    "\n",
    "You will need to specify functions with docstrings which provide hints for the AI to select them:\n"
   ]
  },
  {
   "cell_type": "code",
   "execution_count": 5,
   "metadata": {},
   "outputs": [],
   "source": [
    "from simpleaichat.utils import wikipedia_search, wikipedia_search_lookup\n",
    "\n",
    "# This uses the Wikipedia Search API.\n",
    "# Results from it are nondeterministic, your mileage will vary.\n",
    "def search(query: str) -> Dict[str, Union[str, List[str]]]:\n",
    "    \"\"\"Search the internet.\"\"\"\n",
    "    wiki_matches: List[str] = wikipedia_search(query, n=3)\n",
    "    return {\"context\": \", \".join(wiki_matches), \"titles\": wiki_matches}\n",
    "\n",
    "def lookup(query: str) -> str:\n",
    "    \"\"\"Lookup more information about a topic.\"\"\"\n",
    "    page = wikipedia_search_lookup(query, sentences=3)\n",
    "    return page\n"
   ]
  },
  {
   "cell_type": "code",
   "execution_count": 6,
   "metadata": {},
   "outputs": [
    {
     "data": {
      "text/html": [
       "<pre style=\"white-space:pre;overflow-x:auto;line-height:normal;font-family:Menlo,'DejaVu Sans Mono',consolas,'Courier New',monospace\"><span style=\"color: #c0c0c0; text-decoration-color: #c0c0c0; font-weight: bold\">Response: </span><span style=\"color: #c0c0c0; text-decoration-color: #c0c0c0; font-weight: bold\">\"San Francisco tourist attractions\"</span>\n",
       "<span style=\"font-weight: bold\">{</span>\n",
       "    <span style=\"color: #008000; text-decoration-color: #008000\">'context'</span>: <span style=\"color: #008000; text-decoration-color: #008000\">\"Fisherman's Wharf, San Francisco, Tourist attractions in the United States, Lombard Street (San </span>\n",
       "<span style=\"color: #008000; text-decoration-color: #008000\">Francisco)\"</span>,\n",
       "    <span style=\"color: #008000; text-decoration-color: #008000\">'titles'</span>: <span style=\"font-weight: bold\">[</span>\n",
       "        <span style=\"color: #008000; text-decoration-color: #008000\">\"Fisherman's Wharf, San Francisco\"</span>,\n",
       "        <span style=\"color: #008000; text-decoration-color: #008000\">'Tourist attractions in the United States'</span>,\n",
       "        <span style=\"color: #008000; text-decoration-color: #008000\">'Lombard Street (San Francisco)'</span>\n",
       "    <span style=\"font-weight: bold\">]</span>,\n",
       "    <span style=\"color: #008000; text-decoration-color: #008000\">'tool'</span>: <span style=\"color: #008000; text-decoration-color: #008000\">'search'</span>,\n",
       "    <span style=\"color: #008000; text-decoration-color: #008000\">'response'</span>: <span style=\"color: #008000; text-decoration-color: #008000\">\"There are many popular tourist attractions in San Francisco, including Fisherman's Wharf and </span>\n",
       "<span style=\"color: #008000; text-decoration-color: #008000\">Lombard Street. Fisherman's Wharf is a bustling waterfront area known for its seafood restaurants, souvenir shops, </span>\n",
       "<span style=\"color: #008000; text-decoration-color: #008000\">and sea lion sightings. Lombard Street, on the other hand, is a famous winding street with eight hairpin turns that</span>\n",
       "<span style=\"color: #008000; text-decoration-color: #008000\">offers stunning views of the city. Both of these attractions are must-sees for anyone visiting San Francisco.\"</span>\n",
       "<span style=\"font-weight: bold\">}</span>\n",
       "</pre>\n"
      ],
      "text/plain": [
       "\u001b[1;37mResponse: \u001b[0m\u001b[1;37m\"San Francisco tourist attractions\"\u001b[0m\n",
       "\u001b[1m{\u001b[0m\n",
       "    \u001b[32m'context'\u001b[0m: \u001b[32m\"Fisherman's Wharf, San Francisco, Tourist attractions in the United States, Lombard Street \u001b[0m\u001b[32m(\u001b[0m\u001b[32mSan \u001b[0m\n",
       "\u001b[32mFrancisco\u001b[0m\u001b[32m)\u001b[0m\u001b[32m\"\u001b[0m,\n",
       "    \u001b[32m'titles'\u001b[0m: \u001b[1m[\u001b[0m\n",
       "        \u001b[32m\"Fisherman's Wharf, San Francisco\"\u001b[0m,\n",
       "        \u001b[32m'Tourist attractions in the United States'\u001b[0m,\n",
       "        \u001b[32m'Lombard Street \u001b[0m\u001b[32m(\u001b[0m\u001b[32mSan Francisco\u001b[0m\u001b[32m)\u001b[0m\u001b[32m'\u001b[0m\n",
       "    \u001b[1m]\u001b[0m,\n",
       "    \u001b[32m'tool'\u001b[0m: \u001b[32m'search'\u001b[0m,\n",
       "    \u001b[32m'response'\u001b[0m: \u001b[32m\"There are many popular tourist attractions in San Francisco, including Fisherman's Wharf and \u001b[0m\n",
       "\u001b[32mLombard Street. Fisherman's Wharf is a bustling waterfront area known for its seafood restaurants, souvenir shops, \u001b[0m\n",
       "\u001b[32mand sea lion sightings. Lombard Street, on the other hand, is a famous winding street with eight hairpin turns that\u001b[0m\n",
       "\u001b[32moffers stunning views of the city. Both of these attractions are must-sees for anyone visiting San Francisco.\"\u001b[0m\n",
       "\u001b[1m}\u001b[0m\n"
      ]
     },
     "metadata": {},
     "output_type": "display_data"
    }
   ],
   "source": [
    "params = {\"temperature\": 0.0, \"max_tokens\": 100}\n",
    "ai = AIChat(params=params, console=False)\n",
    "\n",
    "prompt = \"San Francisco tourist attractions\"\n",
    "response = ai(prompt, tools=[search, lookup])\n",
    "console_print(response, title=f\"Response: \\\"{prompt}\\\"\")\n",
    "# console_print(ai.default_session, title=f\"AIChat Session: \\\"{prompt}\\\"\")\n",
    "# print_ai(ai)"
   ]
  },
  {
   "cell_type": "code",
   "execution_count": 11,
   "metadata": {},
   "outputs": [
    {
     "data": {
      "text/html": [
       "<pre style=\"white-space:pre;overflow-x:auto;line-height:normal;font-family:Menlo,'DejaVu Sans Mono',consolas,'Courier New',monospace\"><span style=\"color: #c0c0c0; text-decoration-color: #c0c0c0; font-weight: bold\">ChatGPTSession:</span>\n",
       "<span style=\"color: #800080; text-decoration-color: #800080; font-weight: bold\">ChatGPTSession</span><span style=\"font-weight: bold\">(</span>\n",
       "    <span style=\"color: #808000; text-decoration-color: #808000\">id</span>=<span style=\"color: #800080; text-decoration-color: #800080; font-weight: bold\">UUID</span><span style=\"font-weight: bold\">(</span><span style=\"color: #008000; text-decoration-color: #008000\">'185bef0d-c869-4f80-a0bc-1bb0ed4749bc'</span><span style=\"font-weight: bold\">)</span>,\n",
       "    <span style=\"color: #808000; text-decoration-color: #808000\">created_at</span>=<span style=\"color: #800080; text-decoration-color: #800080; font-weight: bold\">datetime</span><span style=\"color: #800080; text-decoration-color: #800080; font-weight: bold\">.datetime</span><span style=\"font-weight: bold\">(</span><span style=\"color: #008080; text-decoration-color: #008080; font-weight: bold\">2023</span>, <span style=\"color: #008080; text-decoration-color: #008080; font-weight: bold\">6</span>, <span style=\"color: #008080; text-decoration-color: #008080; font-weight: bold\">20</span>, <span style=\"color: #008080; text-decoration-color: #008080; font-weight: bold\">10</span>, <span style=\"color: #008080; text-decoration-color: #008080; font-weight: bold\">15</span>, <span style=\"color: #008080; text-decoration-color: #008080; font-weight: bold\">25</span>, <span style=\"color: #008080; text-decoration-color: #008080; font-weight: bold\">872122</span>, <span style=\"color: #808000; text-decoration-color: #808000\">tzinfo</span>=<span style=\"color: #800080; text-decoration-color: #800080\">datetime</span>.timezone.utc<span style=\"font-weight: bold\">)</span>,\n",
       "    <span style=\"color: #808000; text-decoration-color: #808000\">auth</span>=<span style=\"font-weight: bold\">{</span><span style=\"color: #008000; text-decoration-color: #008000\">'api_key'</span>: <span style=\"color: #800080; text-decoration-color: #800080; font-weight: bold\">SecretStr</span><span style=\"font-weight: bold\">(</span><span style=\"color: #008000; text-decoration-color: #008000\">'**********'</span><span style=\"font-weight: bold\">)}</span>,\n",
       "    <span style=\"color: #808000; text-decoration-color: #808000\">api_url</span>=<span style=\"color: #008000; text-decoration-color: #008000\">'https://api.openai.com/v1/chat/completions'</span>,\n",
       "    <span style=\"color: #808000; text-decoration-color: #808000\">model</span>=<span style=\"color: #008000; text-decoration-color: #008000\">'gpt-3.5-turbo'</span>,\n",
       "    <span style=\"color: #808000; text-decoration-color: #808000\">system</span>=<span style=\"color: #008000; text-decoration-color: #008000\">'You are a helpful assistant.'</span>,\n",
       "    <span style=\"color: #808000; text-decoration-color: #808000\">params</span>=<span style=\"font-weight: bold\">{</span><span style=\"color: #008000; text-decoration-color: #008000\">'temperature'</span>: <span style=\"color: #008080; text-decoration-color: #008080; font-weight: bold\">0.0</span>, <span style=\"color: #008000; text-decoration-color: #008000\">'max_tokens'</span>: <span style=\"color: #008080; text-decoration-color: #008080; font-weight: bold\">100</span><span style=\"font-weight: bold\">}</span>,\n",
       "    <span style=\"color: #808000; text-decoration-color: #808000\">messages</span>=<span style=\"font-weight: bold\">[</span>\n",
       "        <span style=\"color: #800080; text-decoration-color: #800080; font-weight: bold\">ChatMessage</span><span style=\"font-weight: bold\">(</span>\n",
       "            <span style=\"color: #808000; text-decoration-color: #808000\">role</span>=<span style=\"color: #008000; text-decoration-color: #008000\">'user'</span>,\n",
       "            <span style=\"color: #808000; text-decoration-color: #808000\">content</span>=<span style=\"color: #008000; text-decoration-color: #008000\">'San Francisco tourist attractions'</span>,\n",
       "            <span style=\"color: #808000; text-decoration-color: #808000\">name</span>=<span style=\"color: #800080; text-decoration-color: #800080; font-style: italic\">None</span>,\n",
       "            <span style=\"color: #808000; text-decoration-color: #808000\">function_call</span>=<span style=\"color: #800080; text-decoration-color: #800080; font-style: italic\">None</span>,\n",
       "            <span style=\"color: #808000; text-decoration-color: #808000\">received_at</span>=<span style=\"color: #800080; text-decoration-color: #800080; font-weight: bold\">datetime</span><span style=\"color: #800080; text-decoration-color: #800080; font-weight: bold\">.datetime</span><span style=\"font-weight: bold\">(</span><span style=\"color: #008080; text-decoration-color: #008080; font-weight: bold\">2023</span>, <span style=\"color: #008080; text-decoration-color: #008080; font-weight: bold\">6</span>, <span style=\"color: #008080; text-decoration-color: #008080; font-weight: bold\">20</span>, <span style=\"color: #008080; text-decoration-color: #008080; font-weight: bold\">10</span>, <span style=\"color: #008080; text-decoration-color: #008080; font-weight: bold\">15</span>, <span style=\"color: #008080; text-decoration-color: #008080; font-weight: bold\">30</span>, <span style=\"color: #008080; text-decoration-color: #008080; font-weight: bold\">732758</span>, <span style=\"color: #808000; text-decoration-color: #808000\">tzinfo</span>=<span style=\"color: #800080; text-decoration-color: #800080\">datetime</span>.timezone.utc<span style=\"font-weight: bold\">)</span>,\n",
       "            <span style=\"color: #808000; text-decoration-color: #808000\">finish_reason</span>=<span style=\"color: #800080; text-decoration-color: #800080; font-style: italic\">None</span>,\n",
       "            <span style=\"color: #808000; text-decoration-color: #808000\">prompt_length</span>=<span style=\"color: #800080; text-decoration-color: #800080; font-style: italic\">None</span>,\n",
       "            <span style=\"color: #808000; text-decoration-color: #808000\">completion_length</span>=<span style=\"color: #800080; text-decoration-color: #800080; font-style: italic\">None</span>,\n",
       "            <span style=\"color: #808000; text-decoration-color: #808000\">total_length</span>=<span style=\"color: #800080; text-decoration-color: #800080; font-style: italic\">None</span>\n",
       "        <span style=\"font-weight: bold\">)</span>,\n",
       "        <span style=\"color: #800080; text-decoration-color: #800080; font-weight: bold\">ChatMessage</span><span style=\"font-weight: bold\">(</span>\n",
       "            <span style=\"color: #808000; text-decoration-color: #808000\">role</span>=<span style=\"color: #008000; text-decoration-color: #008000\">'assistant'</span>,\n",
       "            <span style=\"color: #808000; text-decoration-color: #808000\">content</span>=<span style=\"color: #008000; text-decoration-color: #008000\">\"There are many popular tourist attractions in San Francisco, including Fisherman's Wharf and </span>\n",
       "<span style=\"color: #008000; text-decoration-color: #008000\">Lombard Street. Fisherman's Wharf is a bustling waterfront area known for its seafood restaurants, souvenir shops, </span>\n",
       "<span style=\"color: #008000; text-decoration-color: #008000\">and sea lion sightings. Lombard Street, on the other hand, is a famous winding street with eight hairpin turns that</span>\n",
       "<span style=\"color: #008000; text-decoration-color: #008000\">offers stunning views of the city. Both of these attractions are must-sees for anyone visiting San Francisco.\"</span>,\n",
       "            <span style=\"color: #808000; text-decoration-color: #808000\">name</span>=<span style=\"color: #800080; text-decoration-color: #800080; font-style: italic\">None</span>,\n",
       "            <span style=\"color: #808000; text-decoration-color: #808000\">function_call</span>=<span style=\"color: #800080; text-decoration-color: #800080; font-style: italic\">None</span>,\n",
       "            <span style=\"color: #808000; text-decoration-color: #808000\">received_at</span>=<span style=\"color: #800080; text-decoration-color: #800080; font-weight: bold\">datetime</span><span style=\"color: #800080; text-decoration-color: #800080; font-weight: bold\">.datetime</span><span style=\"font-weight: bold\">(</span><span style=\"color: #008080; text-decoration-color: #008080; font-weight: bold\">2023</span>, <span style=\"color: #008080; text-decoration-color: #008080; font-weight: bold\">6</span>, <span style=\"color: #008080; text-decoration-color: #008080; font-weight: bold\">20</span>, <span style=\"color: #008080; text-decoration-color: #008080; font-weight: bold\">10</span>, <span style=\"color: #008080; text-decoration-color: #008080; font-weight: bold\">15</span>, <span style=\"color: #008080; text-decoration-color: #008080; font-weight: bold\">30</span>, <span style=\"color: #008080; text-decoration-color: #008080; font-weight: bold\">732766</span>, <span style=\"color: #808000; text-decoration-color: #808000\">tzinfo</span>=<span style=\"color: #800080; text-decoration-color: #800080\">datetime</span>.timezone.utc<span style=\"font-weight: bold\">)</span>,\n",
       "            <span style=\"color: #808000; text-decoration-color: #808000\">finish_reason</span>=<span style=\"color: #800080; text-decoration-color: #800080; font-style: italic\">None</span>,\n",
       "            <span style=\"color: #808000; text-decoration-color: #808000\">prompt_length</span>=<span style=\"color: #800080; text-decoration-color: #800080; font-style: italic\">None</span>,\n",
       "            <span style=\"color: #808000; text-decoration-color: #808000\">completion_length</span>=<span style=\"color: #800080; text-decoration-color: #800080; font-style: italic\">None</span>,\n",
       "            <span style=\"color: #808000; text-decoration-color: #808000\">total_length</span>=<span style=\"color: #800080; text-decoration-color: #800080; font-style: italic\">None</span>\n",
       "        <span style=\"font-weight: bold\">)</span>\n",
       "    <span style=\"font-weight: bold\">]</span>,\n",
       "    <span style=\"color: #808000; text-decoration-color: #808000\">input_fields</span>=<span style=\"font-weight: bold\">{</span><span style=\"color: #008000; text-decoration-color: #008000\">'role'</span>, <span style=\"color: #008000; text-decoration-color: #008000\">'name'</span>, <span style=\"color: #008000; text-decoration-color: #008000\">'content'</span><span style=\"font-weight: bold\">}</span>,\n",
       "    <span style=\"color: #808000; text-decoration-color: #808000\">recent_messages</span>=<span style=\"color: #800080; text-decoration-color: #800080; font-style: italic\">None</span>,\n",
       "    <span style=\"color: #808000; text-decoration-color: #808000\">save_messages</span>=<span style=\"color: #00ff00; text-decoration-color: #00ff00; font-style: italic\">True</span>,\n",
       "    <span style=\"color: #808000; text-decoration-color: #808000\">total_prompt_length</span>=<span style=\"color: #008080; text-decoration-color: #008080; font-weight: bold\">133</span>,\n",
       "    <span style=\"color: #808000; text-decoration-color: #808000\">total_completion_length</span>=<span style=\"color: #008080; text-decoration-color: #008080; font-weight: bold\">87</span>,\n",
       "    <span style=\"color: #808000; text-decoration-color: #808000\">total_length</span>=<span style=\"color: #008080; text-decoration-color: #008080; font-weight: bold\">220</span>,\n",
       "    <span style=\"color: #808000; text-decoration-color: #808000\">title</span>=<span style=\"color: #800080; text-decoration-color: #800080; font-style: italic\">None</span>\n",
       "<span style=\"font-weight: bold\">)</span>\n",
       "</pre>\n"
      ],
      "text/plain": [
       "\u001b[1;37mChatGPTSession:\u001b[0m\n",
       "\u001b[1;35mChatGPTSession\u001b[0m\u001b[1m(\u001b[0m\n",
       "    \u001b[33mid\u001b[0m=\u001b[1;35mUUID\u001b[0m\u001b[1m(\u001b[0m\u001b[32m'185bef0d-c869-4f80-a0bc-1bb0ed4749bc'\u001b[0m\u001b[1m)\u001b[0m,\n",
       "    \u001b[33mcreated_at\u001b[0m=\u001b[1;35mdatetime\u001b[0m\u001b[1;35m.datetime\u001b[0m\u001b[1m(\u001b[0m\u001b[1;36m2023\u001b[0m, \u001b[1;36m6\u001b[0m, \u001b[1;36m20\u001b[0m, \u001b[1;36m10\u001b[0m, \u001b[1;36m15\u001b[0m, \u001b[1;36m25\u001b[0m, \u001b[1;36m872122\u001b[0m, \u001b[33mtzinfo\u001b[0m=\u001b[35mdatetime\u001b[0m.timezone.utc\u001b[1m)\u001b[0m,\n",
       "    \u001b[33mauth\u001b[0m=\u001b[1m{\u001b[0m\u001b[32m'api_key'\u001b[0m: \u001b[1;35mSecretStr\u001b[0m\u001b[1m(\u001b[0m\u001b[32m'**********'\u001b[0m\u001b[1m)\u001b[0m\u001b[1m}\u001b[0m,\n",
       "    \u001b[33mapi_url\u001b[0m=\u001b[32m'https://api.openai.com/v1/chat/completions'\u001b[0m,\n",
       "    \u001b[33mmodel\u001b[0m=\u001b[32m'gpt-3.5-turbo'\u001b[0m,\n",
       "    \u001b[33msystem\u001b[0m=\u001b[32m'You are a helpful assistant.'\u001b[0m,\n",
       "    \u001b[33mparams\u001b[0m=\u001b[1m{\u001b[0m\u001b[32m'temperature'\u001b[0m: \u001b[1;36m0.0\u001b[0m, \u001b[32m'max_tokens'\u001b[0m: \u001b[1;36m100\u001b[0m\u001b[1m}\u001b[0m,\n",
       "    \u001b[33mmessages\u001b[0m=\u001b[1m[\u001b[0m\n",
       "        \u001b[1;35mChatMessage\u001b[0m\u001b[1m(\u001b[0m\n",
       "            \u001b[33mrole\u001b[0m=\u001b[32m'user'\u001b[0m,\n",
       "            \u001b[33mcontent\u001b[0m=\u001b[32m'San Francisco tourist attractions'\u001b[0m,\n",
       "            \u001b[33mname\u001b[0m=\u001b[3;35mNone\u001b[0m,\n",
       "            \u001b[33mfunction_call\u001b[0m=\u001b[3;35mNone\u001b[0m,\n",
       "            \u001b[33mreceived_at\u001b[0m=\u001b[1;35mdatetime\u001b[0m\u001b[1;35m.datetime\u001b[0m\u001b[1m(\u001b[0m\u001b[1;36m2023\u001b[0m, \u001b[1;36m6\u001b[0m, \u001b[1;36m20\u001b[0m, \u001b[1;36m10\u001b[0m, \u001b[1;36m15\u001b[0m, \u001b[1;36m30\u001b[0m, \u001b[1;36m732758\u001b[0m, \u001b[33mtzinfo\u001b[0m=\u001b[35mdatetime\u001b[0m.timezone.utc\u001b[1m)\u001b[0m,\n",
       "            \u001b[33mfinish_reason\u001b[0m=\u001b[3;35mNone\u001b[0m,\n",
       "            \u001b[33mprompt_length\u001b[0m=\u001b[3;35mNone\u001b[0m,\n",
       "            \u001b[33mcompletion_length\u001b[0m=\u001b[3;35mNone\u001b[0m,\n",
       "            \u001b[33mtotal_length\u001b[0m=\u001b[3;35mNone\u001b[0m\n",
       "        \u001b[1m)\u001b[0m,\n",
       "        \u001b[1;35mChatMessage\u001b[0m\u001b[1m(\u001b[0m\n",
       "            \u001b[33mrole\u001b[0m=\u001b[32m'assistant'\u001b[0m,\n",
       "            \u001b[33mcontent\u001b[0m=\u001b[32m\"There\u001b[0m\u001b[32m are many popular tourist attractions in San Francisco, including Fisherman's Wharf and \u001b[0m\n",
       "\u001b[32mLombard Street. Fisherman's Wharf is a bustling waterfront area known for its seafood restaurants, souvenir shops, \u001b[0m\n",
       "\u001b[32mand sea lion sightings. Lombard Street, on the other hand, is a famous winding street with eight hairpin turns that\u001b[0m\n",
       "\u001b[32moffers stunning views of the city. Both of these attractions are must-sees for anyone visiting San Francisco.\"\u001b[0m,\n",
       "            \u001b[33mname\u001b[0m=\u001b[3;35mNone\u001b[0m,\n",
       "            \u001b[33mfunction_call\u001b[0m=\u001b[3;35mNone\u001b[0m,\n",
       "            \u001b[33mreceived_at\u001b[0m=\u001b[1;35mdatetime\u001b[0m\u001b[1;35m.datetime\u001b[0m\u001b[1m(\u001b[0m\u001b[1;36m2023\u001b[0m, \u001b[1;36m6\u001b[0m, \u001b[1;36m20\u001b[0m, \u001b[1;36m10\u001b[0m, \u001b[1;36m15\u001b[0m, \u001b[1;36m30\u001b[0m, \u001b[1;36m732766\u001b[0m, \u001b[33mtzinfo\u001b[0m=\u001b[35mdatetime\u001b[0m.timezone.utc\u001b[1m)\u001b[0m,\n",
       "            \u001b[33mfinish_reason\u001b[0m=\u001b[3;35mNone\u001b[0m,\n",
       "            \u001b[33mprompt_length\u001b[0m=\u001b[3;35mNone\u001b[0m,\n",
       "            \u001b[33mcompletion_length\u001b[0m=\u001b[3;35mNone\u001b[0m,\n",
       "            \u001b[33mtotal_length\u001b[0m=\u001b[3;35mNone\u001b[0m\n",
       "        \u001b[1m)\u001b[0m\n",
       "    \u001b[1m]\u001b[0m,\n",
       "    \u001b[33minput_fields\u001b[0m=\u001b[1m{\u001b[0m\u001b[32m'role'\u001b[0m, \u001b[32m'name'\u001b[0m, \u001b[32m'content'\u001b[0m\u001b[1m}\u001b[0m,\n",
       "    \u001b[33mrecent_messages\u001b[0m=\u001b[3;35mNone\u001b[0m,\n",
       "    \u001b[33msave_messages\u001b[0m=\u001b[3;92mTrue\u001b[0m,\n",
       "    \u001b[33mtotal_prompt_length\u001b[0m=\u001b[1;36m133\u001b[0m,\n",
       "    \u001b[33mtotal_completion_length\u001b[0m=\u001b[1;36m87\u001b[0m,\n",
       "    \u001b[33mtotal_length\u001b[0m=\u001b[1;36m220\u001b[0m,\n",
       "    \u001b[33mtitle\u001b[0m=\u001b[3;35mNone\u001b[0m\n",
       "\u001b[1m)\u001b[0m\n"
      ]
     },
     "metadata": {},
     "output_type": "display_data"
    }
   ],
   "source": [
    "console_print(ai.default_session)"
   ]
  },
  {
   "cell_type": "code",
   "execution_count": 114,
   "metadata": {},
   "outputs": [
    {
     "data": {
      "text/html": [
       "<pre style=\"white-space:pre;overflow-x:auto;line-height:normal;font-family:Menlo,'DejaVu Sans Mono',consolas,'Courier New',monospace\"><span style=\"color: #c0c0c0; text-decoration-color: #c0c0c0; font-weight: bold\">Response: </span><span style=\"color: #c0c0c0; text-decoration-color: #c0c0c0; font-weight: bold\">\"Lombard Street?\"</span>\n",
       "<span style=\"font-weight: bold\">{</span>\n",
       "    <span style=\"color: #008000; text-decoration-color: #008000\">'context'</span>: <span style=\"color: #008000; text-decoration-color: #008000\">'Lombard Street is an east–west street in San Francisco, California that is famous for a steep, </span>\n",
       "<span style=\"color: #008000; text-decoration-color: #008000\">one-block section with eight hairpin turns. Stretching from The Presidio east to The Embarcadero (with a gap on </span>\n",
       "<span style=\"color: #008000; text-decoration-color: #008000\">Telegraph Hill), most of the street\\'s western segment is a major thoroughfare designated as part of U.S. Route </span>\n",
       "<span style=\"color: #008000; text-decoration-color: #008000\">101. The famous one-block section, claimed to be \"the crookedest street in the world\", is located along the eastern</span>\n",
       "<span style=\"color: #008000; text-decoration-color: #008000\">segment in the Russian Hill neighborhood.'</span>,\n",
       "    <span style=\"color: #008000; text-decoration-color: #008000\">'tool'</span>: <span style=\"color: #008000; text-decoration-color: #008000\">'lookup'</span>,\n",
       "    <span style=\"color: #008000; text-decoration-color: #008000\">'response'</span>: <span style=\"color: #008000; text-decoration-color: #008000\">'Lombard Street is a famous street in San Francisco, California known for its steep, one-block </span>\n",
       "<span style=\"color: #008000; text-decoration-color: #008000\">section with eight hairpin turns. It stretches from The Presidio to The Embarcadero, with a gap on Telegraph Hill. </span>\n",
       "<span style=\"color: #008000; text-decoration-color: #008000\">The western segment of the street is a major thoroughfare designated as part of U.S. Route 101, while the famous </span>\n",
       "<span style=\"color: #008000; text-decoration-color: #008000\">one-block section, claimed to be \"the crookedest street in the world\", is located along the eastern segment in the </span>\n",
       "<span style=\"color: #008000; text-decoration-color: #008000\">Russian Hill'</span>\n",
       "<span style=\"font-weight: bold\">}</span>\n",
       "</pre>\n"
      ],
      "text/plain": [
       "\u001b[1;37mResponse: \u001b[0m\u001b[1;37m\"Lombard Street?\"\u001b[0m\n",
       "\u001b[1m{\u001b[0m\n",
       "    \u001b[32m'context'\u001b[0m: \u001b[32m'Lombard Street is an east–west street in San Francisco, California that is famous for a steep, \u001b[0m\n",
       "\u001b[32mone-block section with eight hairpin turns. Stretching from The Presidio east to The Embarcadero \u001b[0m\u001b[32m(\u001b[0m\u001b[32mwith a gap on \u001b[0m\n",
       "\u001b[32mTelegraph Hill\u001b[0m\u001b[32m)\u001b[0m\u001b[32m, most of the street\\'s western segment is a major thoroughfare designated as part of U.S. Route \u001b[0m\n",
       "\u001b[32m101. The famous one-block section, claimed to be \"the crookedest street in the world\", is located along the eastern\u001b[0m\n",
       "\u001b[32msegment in the Russian Hill neighborhood.'\u001b[0m,\n",
       "    \u001b[32m'tool'\u001b[0m: \u001b[32m'lookup'\u001b[0m,\n",
       "    \u001b[32m'response'\u001b[0m: \u001b[32m'Lombard Street is a famous street in San Francisco, California known for its steep, one-block \u001b[0m\n",
       "\u001b[32msection with eight hairpin turns. It stretches from The Presidio to The Embarcadero, with a gap on Telegraph Hill. \u001b[0m\n",
       "\u001b[32mThe western segment of the street is a major thoroughfare designated as part of U.S. Route 101, while the famous \u001b[0m\n",
       "\u001b[32mone-block section, claimed to be \"the crookedest street in the world\", is located along the eastern segment in the \u001b[0m\n",
       "\u001b[32mRussian Hill'\u001b[0m\n",
       "\u001b[1m}\u001b[0m\n"
      ]
     },
     "metadata": {},
     "output_type": "display_data"
    }
   ],
   "source": [
    "prompt=\"Lombard Street?\"\n",
    "response = ai(prompt, tools=[search, lookup])\n",
    "console_print(response, title=f\"Response: \\\"{prompt}\\\"\")\n",
    "# console_print(ai.default_session, title=f\"AIChat Session: \\\"{prompt}\\\"\")"
   ]
  },
  {
   "cell_type": "code",
   "execution_count": 115,
   "metadata": {},
   "outputs": [
    {
     "data": {
      "text/html": [
       "<pre style=\"white-space:pre;overflow-x:auto;line-height:normal;font-family:Menlo,'DejaVu Sans Mono',consolas,'Courier New',monospace\"><span style=\"color: #c0c0c0; text-decoration-color: #c0c0c0; font-weight: bold\">Response: </span><span style=\"color: #c0c0c0; text-decoration-color: #c0c0c0; font-weight: bold\">\"Thanks for your help!\"</span>\n",
       "<span style=\"font-weight: bold\">{</span>\n",
       "    <span style=\"color: #008000; text-decoration-color: #008000\">'response'</span>: <span style=\"color: #008000; text-decoration-color: #008000\">\"You're welcome! If you have any more questions or need further assistance, feel free to ask.\"</span>,\n",
       "    <span style=\"color: #008000; text-decoration-color: #008000\">'tool'</span>: <span style=\"color: #800080; text-decoration-color: #800080; font-style: italic\">None</span>\n",
       "<span style=\"font-weight: bold\">}</span>\n",
       "</pre>\n"
      ],
      "text/plain": [
       "\u001b[1;37mResponse: \u001b[0m\u001b[1;37m\"Thanks for your help!\"\u001b[0m\n",
       "\u001b[1m{\u001b[0m\n",
       "    \u001b[32m'response'\u001b[0m: \u001b[32m\"You're welcome! If you have any more questions or need further assistance, feel free to ask.\"\u001b[0m,\n",
       "    \u001b[32m'tool'\u001b[0m: \u001b[3;35mNone\u001b[0m\n",
       "\u001b[1m}\u001b[0m\n"
      ]
     },
     "metadata": {},
     "output_type": "display_data"
    }
   ],
   "source": [
    "prompt = \"Thanks for your help!\"\n",
    "response = ai(prompt, tools=[search, lookup])\n",
    "console_print(response, title=f\"Response: \\\"{prompt}\\\"\")"
   ]
  },
  {
   "cell_type": "code",
   "execution_count": 1,
   "metadata": {},
   "outputs": [
    {
     "ename": "NameError",
     "evalue": "name 'console_print' is not defined",
     "output_type": "error",
     "traceback": [
      "\u001b[0;31m---------------------------------------------------------------------------\u001b[0m",
      "\u001b[0;31mNameError\u001b[0m                                 Traceback (most recent call last)",
      "Cell \u001b[0;32mIn[1], line 6\u001b[0m\n\u001b[1;32m      1\u001b[0m prompts \u001b[39m=\u001b[39m [\n\u001b[1;32m      2\u001b[0m     \u001b[39m\"\u001b[39m\u001b[39mSan Francisco tourist attractions\u001b[39m\u001b[39m\"\u001b[39m,\n\u001b[1;32m      3\u001b[0m     \u001b[39m\"\u001b[39m\u001b[39mLombard Street?\u001b[39m\u001b[39m\"\u001b[39m,\n\u001b[1;32m      4\u001b[0m     \u001b[39m\"\u001b[39m\u001b[39mThanks for your help!\u001b[39m\u001b[39m\"\u001b[39m\n\u001b[1;32m      5\u001b[0m ]\n\u001b[0;32m----> 6\u001b[0m console_print(ai\u001b[39m.\u001b[39mdefault_session, title\u001b[39m=\u001b[39m\u001b[39mf\u001b[39m\u001b[39m\"\u001b[39m\u001b[39mAIChat Session: \u001b[39m\u001b[39m{\u001b[39;00mprompts\u001b[39m}\u001b[39;00m\u001b[39m\"\u001b[39m)\n\u001b[1;32m      7\u001b[0m \u001b[39m# print_ai(ai)\u001b[39;00m\n",
      "\u001b[0;31mNameError\u001b[0m: name 'console_print' is not defined"
     ]
    }
   ],
   "source": [
    "prompts = [\n",
    "    \"San Francisco tourist attractions\",\n",
    "    \"Lombard Street?\",\n",
    "    \"Thanks for your help!\"\n",
    "]\n",
    "console_print(ai.default_session, title=f\"AIChat Session: {prompts}\")\n",
    "# print_ai(ai)\n"
   ]
  },
  {
   "cell_type": "code",
   "execution_count": 29,
   "metadata": {},
   "outputs": [
    {
     "data": {
      "text/html": [
       "<pre style=\"white-space:pre;overflow-x:auto;line-height:normal;font-family:Menlo,'DejaVu Sans Mono',consolas,'Courier New',monospace\"><span style=\"color: #c0c0c0; text-decoration-color: #c0c0c0; font-weight: bold\">AIChat:</span>\n",
       "<span style=\"color: #800080; text-decoration-color: #800080; font-weight: bold\">AIChat</span><span style=\"font-weight: bold\">(</span>\n",
       "    <span style=\"color: #808000; text-decoration-color: #808000\">client</span>=<span style=\"font-weight: bold\">&lt;</span><span style=\"color: #ff00ff; text-decoration-color: #ff00ff; font-weight: bold\">httpx.Client</span><span style=\"color: #000000; text-decoration-color: #000000\"> object at </span><span style=\"color: #008080; text-decoration-color: #008080; font-weight: bold\">0x7f6ea0432470</span><span style=\"font-weight: bold\">&gt;</span>,\n",
       "    <span style=\"color: #808000; text-decoration-color: #808000\">default_session</span>=<span style=\"color: #800080; text-decoration-color: #800080; font-weight: bold\">ChatGPTSession</span><span style=\"font-weight: bold\">(</span>\n",
       "        <span style=\"color: #808000; text-decoration-color: #808000\">id</span>=<span style=\"color: #008000; text-decoration-color: #008000\">'tools'</span>,\n",
       "        <span style=\"color: #808000; text-decoration-color: #808000\">created_at</span>=<span style=\"color: #800080; text-decoration-color: #800080; font-weight: bold\">datetime</span><span style=\"color: #800080; text-decoration-color: #800080; font-weight: bold\">.datetime</span><span style=\"font-weight: bold\">(</span><span style=\"color: #008080; text-decoration-color: #008080; font-weight: bold\">2023</span>, <span style=\"color: #008080; text-decoration-color: #008080; font-weight: bold\">6</span>, <span style=\"color: #008080; text-decoration-color: #008080; font-weight: bold\">20</span>, <span style=\"color: #008080; text-decoration-color: #008080; font-weight: bold\">10</span>, <span style=\"color: #008080; text-decoration-color: #008080; font-weight: bold\">47</span>, <span style=\"color: #008080; text-decoration-color: #008080; font-weight: bold\">16</span>, <span style=\"color: #008080; text-decoration-color: #008080; font-weight: bold\">52325</span>, <span style=\"color: #808000; text-decoration-color: #808000\">tzinfo</span>=<span style=\"color: #800080; text-decoration-color: #800080\">datetime</span>.timezone.utc<span style=\"font-weight: bold\">)</span>,\n",
       "        <span style=\"color: #808000; text-decoration-color: #808000\">auth</span>=<span style=\"font-weight: bold\">{</span><span style=\"color: #008000; text-decoration-color: #008000\">'api_key'</span>: <span style=\"color: #800080; text-decoration-color: #800080; font-weight: bold\">SecretStr</span><span style=\"font-weight: bold\">(</span><span style=\"color: #008000; text-decoration-color: #008000\">'**********'</span><span style=\"font-weight: bold\">)}</span>,\n",
       "        <span style=\"color: #808000; text-decoration-color: #808000\">api_url</span>=<span style=\"color: #008000; text-decoration-color: #008000\">'https://api.openai.com/v1/chat/completions'</span>,\n",
       "        <span style=\"color: #808000; text-decoration-color: #808000\">model</span>=<span style=\"color: #008000; text-decoration-color: #008000\">'gpt-3.5-turbo'</span>,\n",
       "        <span style=\"color: #808000; text-decoration-color: #808000\">system</span>=<span style=\"color: #008000; text-decoration-color: #008000\">'You are a helpful assistant.'</span>,\n",
       "        <span style=\"color: #808000; text-decoration-color: #808000\">params</span>=<span style=\"font-weight: bold\">{</span><span style=\"color: #008000; text-decoration-color: #008000\">'temperature'</span>: <span style=\"color: #008080; text-decoration-color: #008080; font-weight: bold\">0.0</span>, <span style=\"color: #008000; text-decoration-color: #008000\">'max_tokens'</span>: <span style=\"color: #008080; text-decoration-color: #008080; font-weight: bold\">100</span><span style=\"font-weight: bold\">}</span>,\n",
       "        <span style=\"color: #808000; text-decoration-color: #808000\">messages</span>=<span style=\"font-weight: bold\">[]</span>,\n",
       "        <span style=\"color: #808000; text-decoration-color: #808000\">input_fields</span>=<span style=\"font-weight: bold\">{</span><span style=\"color: #008000; text-decoration-color: #008000\">'role'</span>, <span style=\"color: #008000; text-decoration-color: #008000\">'name'</span>, <span style=\"color: #008000; text-decoration-color: #008000\">'content'</span><span style=\"font-weight: bold\">}</span>,\n",
       "        <span style=\"color: #808000; text-decoration-color: #808000\">recent_messages</span>=<span style=\"color: #800080; text-decoration-color: #800080; font-style: italic\">None</span>,\n",
       "        <span style=\"color: #808000; text-decoration-color: #808000\">save_messages</span>=<span style=\"color: #00ff00; text-decoration-color: #00ff00; font-style: italic\">True</span>,\n",
       "        <span style=\"color: #808000; text-decoration-color: #808000\">total_prompt_length</span>=<span style=\"color: #008080; text-decoration-color: #008080; font-weight: bold\">0</span>,\n",
       "        <span style=\"color: #808000; text-decoration-color: #808000\">total_completion_length</span>=<span style=\"color: #008080; text-decoration-color: #008080; font-weight: bold\">0</span>,\n",
       "        <span style=\"color: #808000; text-decoration-color: #808000\">total_length</span>=<span style=\"color: #008080; text-decoration-color: #008080; font-weight: bold\">0</span>,\n",
       "        <span style=\"color: #808000; text-decoration-color: #808000\">title</span>=<span style=\"color: #800080; text-decoration-color: #800080; font-style: italic\">None</span>\n",
       "    <span style=\"font-weight: bold\">)</span>,\n",
       "    <span style=\"color: #808000; text-decoration-color: #808000\">sessions</span>=<span style=\"font-weight: bold\">{</span>\n",
       "        <span style=\"color: #008000; text-decoration-color: #008000\">'tools'</span>: <span style=\"color: #800080; text-decoration-color: #800080; font-weight: bold\">ChatGPTSession</span><span style=\"font-weight: bold\">(</span>\n",
       "            <span style=\"color: #808000; text-decoration-color: #808000\">id</span>=<span style=\"color: #008000; text-decoration-color: #008000\">'tools'</span>,\n",
       "            <span style=\"color: #808000; text-decoration-color: #808000\">created_at</span>=<span style=\"color: #800080; text-decoration-color: #800080; font-weight: bold\">datetime</span><span style=\"color: #800080; text-decoration-color: #800080; font-weight: bold\">.datetime</span><span style=\"font-weight: bold\">(</span><span style=\"color: #008080; text-decoration-color: #008080; font-weight: bold\">2023</span>, <span style=\"color: #008080; text-decoration-color: #008080; font-weight: bold\">6</span>, <span style=\"color: #008080; text-decoration-color: #008080; font-weight: bold\">20</span>, <span style=\"color: #008080; text-decoration-color: #008080; font-weight: bold\">10</span>, <span style=\"color: #008080; text-decoration-color: #008080; font-weight: bold\">47</span>, <span style=\"color: #008080; text-decoration-color: #008080; font-weight: bold\">16</span>, <span style=\"color: #008080; text-decoration-color: #008080; font-weight: bold\">52325</span>, <span style=\"color: #808000; text-decoration-color: #808000\">tzinfo</span>=<span style=\"color: #800080; text-decoration-color: #800080\">datetime</span>.timezone.utc<span style=\"font-weight: bold\">)</span>,\n",
       "            <span style=\"color: #808000; text-decoration-color: #808000\">auth</span>=<span style=\"font-weight: bold\">{</span><span style=\"color: #008000; text-decoration-color: #008000\">'api_key'</span>: <span style=\"color: #800080; text-decoration-color: #800080; font-weight: bold\">SecretStr</span><span style=\"font-weight: bold\">(</span><span style=\"color: #008000; text-decoration-color: #008000\">'**********'</span><span style=\"font-weight: bold\">)}</span>,\n",
       "            <span style=\"color: #808000; text-decoration-color: #808000\">api_url</span>=<span style=\"color: #008000; text-decoration-color: #008000\">'https://api.openai.com/v1/chat/completions'</span>,\n",
       "            <span style=\"color: #808000; text-decoration-color: #808000\">model</span>=<span style=\"color: #008000; text-decoration-color: #008000\">'gpt-3.5-turbo'</span>,\n",
       "            <span style=\"color: #808000; text-decoration-color: #808000\">system</span>=<span style=\"color: #008000; text-decoration-color: #008000\">'You are a helpful assistant.'</span>,\n",
       "            <span style=\"color: #808000; text-decoration-color: #808000\">params</span>=<span style=\"font-weight: bold\">{</span><span style=\"color: #008000; text-decoration-color: #008000\">'temperature'</span>: <span style=\"color: #008080; text-decoration-color: #008080; font-weight: bold\">0.0</span>, <span style=\"color: #008000; text-decoration-color: #008000\">'max_tokens'</span>: <span style=\"color: #008080; text-decoration-color: #008080; font-weight: bold\">100</span><span style=\"font-weight: bold\">}</span>,\n",
       "            <span style=\"color: #808000; text-decoration-color: #808000\">messages</span>=<span style=\"font-weight: bold\">[]</span>,\n",
       "            <span style=\"color: #808000; text-decoration-color: #808000\">input_fields</span>=<span style=\"font-weight: bold\">{</span><span style=\"color: #008000; text-decoration-color: #008000\">'role'</span>, <span style=\"color: #008000; text-decoration-color: #008000\">'name'</span>, <span style=\"color: #008000; text-decoration-color: #008000\">'content'</span><span style=\"font-weight: bold\">}</span>,\n",
       "            <span style=\"color: #808000; text-decoration-color: #808000\">recent_messages</span>=<span style=\"color: #800080; text-decoration-color: #800080; font-style: italic\">None</span>,\n",
       "            <span style=\"color: #808000; text-decoration-color: #808000\">save_messages</span>=<span style=\"color: #00ff00; text-decoration-color: #00ff00; font-style: italic\">True</span>,\n",
       "            <span style=\"color: #808000; text-decoration-color: #808000\">total_prompt_length</span>=<span style=\"color: #008080; text-decoration-color: #008080; font-weight: bold\">0</span>,\n",
       "            <span style=\"color: #808000; text-decoration-color: #808000\">total_completion_length</span>=<span style=\"color: #008080; text-decoration-color: #008080; font-weight: bold\">0</span>,\n",
       "            <span style=\"color: #808000; text-decoration-color: #808000\">total_length</span>=<span style=\"color: #008080; text-decoration-color: #008080; font-weight: bold\">0</span>,\n",
       "            <span style=\"color: #808000; text-decoration-color: #808000\">title</span>=<span style=\"color: #800080; text-decoration-color: #800080; font-style: italic\">None</span>\n",
       "        <span style=\"font-weight: bold\">)</span>\n",
       "    <span style=\"font-weight: bold\">}</span>\n",
       "<span style=\"font-weight: bold\">)</span>\n",
       "</pre>\n"
      ],
      "text/plain": [
       "\u001b[1;37mAIChat:\u001b[0m\n",
       "\u001b[1;35mAIChat\u001b[0m\u001b[1m(\u001b[0m\n",
       "    \u001b[33mclient\u001b[0m=\u001b[1m<\u001b[0m\u001b[1;95mhttpx.Client\u001b[0m\u001b[39m object at \u001b[0m\u001b[1;36m0x7f6ea0432470\u001b[0m\u001b[1m>\u001b[0m,\n",
       "    \u001b[33mdefault_session\u001b[0m=\u001b[1;35mChatGPTSession\u001b[0m\u001b[1m(\u001b[0m\n",
       "        \u001b[33mid\u001b[0m=\u001b[32m'tools'\u001b[0m,\n",
       "        \u001b[33mcreated_at\u001b[0m=\u001b[1;35mdatetime\u001b[0m\u001b[1;35m.datetime\u001b[0m\u001b[1m(\u001b[0m\u001b[1;36m2023\u001b[0m, \u001b[1;36m6\u001b[0m, \u001b[1;36m20\u001b[0m, \u001b[1;36m10\u001b[0m, \u001b[1;36m47\u001b[0m, \u001b[1;36m16\u001b[0m, \u001b[1;36m52325\u001b[0m, \u001b[33mtzinfo\u001b[0m=\u001b[35mdatetime\u001b[0m.timezone.utc\u001b[1m)\u001b[0m,\n",
       "        \u001b[33mauth\u001b[0m=\u001b[1m{\u001b[0m\u001b[32m'api_key'\u001b[0m: \u001b[1;35mSecretStr\u001b[0m\u001b[1m(\u001b[0m\u001b[32m'**********'\u001b[0m\u001b[1m)\u001b[0m\u001b[1m}\u001b[0m,\n",
       "        \u001b[33mapi_url\u001b[0m=\u001b[32m'https://api.openai.com/v1/chat/completions'\u001b[0m,\n",
       "        \u001b[33mmodel\u001b[0m=\u001b[32m'gpt-3.5-turbo'\u001b[0m,\n",
       "        \u001b[33msystem\u001b[0m=\u001b[32m'You are a helpful assistant.'\u001b[0m,\n",
       "        \u001b[33mparams\u001b[0m=\u001b[1m{\u001b[0m\u001b[32m'temperature'\u001b[0m: \u001b[1;36m0.0\u001b[0m, \u001b[32m'max_tokens'\u001b[0m: \u001b[1;36m100\u001b[0m\u001b[1m}\u001b[0m,\n",
       "        \u001b[33mmessages\u001b[0m=\u001b[1m[\u001b[0m\u001b[1m]\u001b[0m,\n",
       "        \u001b[33minput_fields\u001b[0m=\u001b[1m{\u001b[0m\u001b[32m'role'\u001b[0m, \u001b[32m'name'\u001b[0m, \u001b[32m'content'\u001b[0m\u001b[1m}\u001b[0m,\n",
       "        \u001b[33mrecent_messages\u001b[0m=\u001b[3;35mNone\u001b[0m,\n",
       "        \u001b[33msave_messages\u001b[0m=\u001b[3;92mTrue\u001b[0m,\n",
       "        \u001b[33mtotal_prompt_length\u001b[0m=\u001b[1;36m0\u001b[0m,\n",
       "        \u001b[33mtotal_completion_length\u001b[0m=\u001b[1;36m0\u001b[0m,\n",
       "        \u001b[33mtotal_length\u001b[0m=\u001b[1;36m0\u001b[0m,\n",
       "        \u001b[33mtitle\u001b[0m=\u001b[3;35mNone\u001b[0m\n",
       "    \u001b[1m)\u001b[0m,\n",
       "    \u001b[33msessions\u001b[0m=\u001b[1m{\u001b[0m\n",
       "        \u001b[32m'tools'\u001b[0m: \u001b[1;35mChatGPTSession\u001b[0m\u001b[1m(\u001b[0m\n",
       "            \u001b[33mid\u001b[0m=\u001b[32m'tools'\u001b[0m,\n",
       "            \u001b[33mcreated_at\u001b[0m=\u001b[1;35mdatetime\u001b[0m\u001b[1;35m.datetime\u001b[0m\u001b[1m(\u001b[0m\u001b[1;36m2023\u001b[0m, \u001b[1;36m6\u001b[0m, \u001b[1;36m20\u001b[0m, \u001b[1;36m10\u001b[0m, \u001b[1;36m47\u001b[0m, \u001b[1;36m16\u001b[0m, \u001b[1;36m52325\u001b[0m, \u001b[33mtzinfo\u001b[0m=\u001b[35mdatetime\u001b[0m.timezone.utc\u001b[1m)\u001b[0m,\n",
       "            \u001b[33mauth\u001b[0m=\u001b[1m{\u001b[0m\u001b[32m'api_key'\u001b[0m: \u001b[1;35mSecretStr\u001b[0m\u001b[1m(\u001b[0m\u001b[32m'**********'\u001b[0m\u001b[1m)\u001b[0m\u001b[1m}\u001b[0m,\n",
       "            \u001b[33mapi_url\u001b[0m=\u001b[32m'https://api.openai.com/v1/chat/completions'\u001b[0m,\n",
       "            \u001b[33mmodel\u001b[0m=\u001b[32m'gpt-3.5-turbo'\u001b[0m,\n",
       "            \u001b[33msystem\u001b[0m=\u001b[32m'You are a helpful assistant.'\u001b[0m,\n",
       "            \u001b[33mparams\u001b[0m=\u001b[1m{\u001b[0m\u001b[32m'temperature'\u001b[0m: \u001b[1;36m0.0\u001b[0m, \u001b[32m'max_tokens'\u001b[0m: \u001b[1;36m100\u001b[0m\u001b[1m}\u001b[0m,\n",
       "            \u001b[33mmessages\u001b[0m=\u001b[1m[\u001b[0m\u001b[1m]\u001b[0m,\n",
       "            \u001b[33minput_fields\u001b[0m=\u001b[1m{\u001b[0m\u001b[32m'role'\u001b[0m, \u001b[32m'name'\u001b[0m, \u001b[32m'content'\u001b[0m\u001b[1m}\u001b[0m,\n",
       "            \u001b[33mrecent_messages\u001b[0m=\u001b[3;35mNone\u001b[0m,\n",
       "            \u001b[33msave_messages\u001b[0m=\u001b[3;92mTrue\u001b[0m,\n",
       "            \u001b[33mtotal_prompt_length\u001b[0m=\u001b[1;36m0\u001b[0m,\n",
       "            \u001b[33mtotal_completion_length\u001b[0m=\u001b[1;36m0\u001b[0m,\n",
       "            \u001b[33mtotal_length\u001b[0m=\u001b[1;36m0\u001b[0m,\n",
       "            \u001b[33mtitle\u001b[0m=\u001b[3;35mNone\u001b[0m\n",
       "        \u001b[1m)\u001b[0m\n",
       "    \u001b[1m}\u001b[0m\n",
       "\u001b[1m)\u001b[0m\n"
      ]
     },
     "metadata": {},
     "output_type": "display_data"
    }
   ],
   "source": [
    "from simpleaichat.utils import wikipedia_search, wikipedia_search_lookup\n",
    "\n",
    "# This uses the Wikipedia Search API.\n",
    "# Results from it are nondeterministic, your mileage will vary.\n",
    "def search(query: str) -> Dict[str, Union[str, List[str]]]:\n",
    "    \"\"\"Search the internet.\"\"\"\n",
    "    wiki_matches: List[str] = wikipedia_search(query, n=3)\n",
    "    return {\"context\": \", \".join(wiki_matches), \"titles\": wiki_matches}\n",
    "\n",
    "def lookup(query: str) -> str:\n",
    "    \"\"\"Lookup more information about a topic.\"\"\"\n",
    "    page = wikipedia_search_lookup(query, sentences=3)\n",
    "    return page\n",
    "\n",
    "tools = [search, lookup]\n",
    "\n",
    "params = {\"temperature\": 0.0, \"max_tokens\": 100}\n",
    "ai = AIChat(params=params, console=False, id=\"tools\")\n",
    "\n",
    "console_print(ai)\n"
   ]
  },
  {
   "cell_type": "code",
   "execution_count": 37,
   "metadata": {},
   "outputs": [
    {
     "data": {
      "text/html": [
       "<pre style=\"white-space:pre;overflow-x:auto;line-height:normal;font-family:Menlo,'DejaVu Sans Mono',consolas,'Courier New',monospace\"><span style=\"color: #c0c0c0; text-decoration-color: #c0c0c0; font-weight: bold\">str:</span>\n",
       "\n",
       "<span style=\"font-weight: bold\">{</span><span style=\"color: #008000; text-decoration-color: #008000\">'_base_url'</span>: <span style=\"color: #800080; text-decoration-color: #800080; font-weight: bold\">URL</span><span style=\"font-weight: bold\">(</span><span style=\"color: #008000; text-decoration-color: #008000\">''</span><span style=\"font-weight: bold\">)</span>,\n",
       " <span style=\"color: #008000; text-decoration-color: #008000\">'_auth'</span>: <span style=\"color: #800080; text-decoration-color: #800080; font-style: italic\">None</span>,\n",
       " <span style=\"color: #008000; text-decoration-color: #008000\">'_params'</span>: <span style=\"color: #800080; text-decoration-color: #800080; font-weight: bold\">QueryParams</span><span style=\"font-weight: bold\">(</span><span style=\"color: #008000; text-decoration-color: #008000\">''</span><span style=\"font-weight: bold\">)</span>,\n",
       " <span style=\"color: #008000; text-decoration-color: #008000\">'_headers'</span>: <span style=\"color: #800080; text-decoration-color: #800080; font-weight: bold\">Headers</span><span style=\"font-weight: bold\">({</span><span style=\"color: #008000; text-decoration-color: #008000\">'accept'</span>: <span style=\"color: #008000; text-decoration-color: #008000\">'*/*'</span>, <span style=\"color: #008000; text-decoration-color: #008000\">'accept-encoding'</span>: <span style=\"color: #008000; text-decoration-color: #008000\">'gzip, deflate'</span>, <span style=\"color: #008000; text-decoration-color: #008000\">'connection'</span>: <span style=\"color: #008000; text-decoration-color: #008000\">'keep-alive'</span>, \n",
       "<span style=\"color: #008000; text-decoration-color: #008000\">'user-agent'</span>: <span style=\"color: #008000; text-decoration-color: #008000\">'python-httpx/0.24.1'</span><span style=\"font-weight: bold\">})</span>,\n",
       " <span style=\"color: #008000; text-decoration-color: #008000\">'_cookies'</span>: <span style=\"font-weight: bold\">&lt;</span><span style=\"color: #ff00ff; text-decoration-color: #ff00ff; font-weight: bold\">Cookies</span><span style=\"color: #000000; text-decoration-color: #000000; font-weight: bold\">[]</span><span style=\"color: #000000; text-decoration-color: #000000\">&gt;,</span>\n",
       "<span style=\"color: #000000; text-decoration-color: #000000\"> </span><span style=\"color: #008000; text-decoration-color: #008000\">'_timeout'</span><span style=\"color: #000000; text-decoration-color: #000000\">: </span><span style=\"color: #800080; text-decoration-color: #800080; font-weight: bold\">Timeout</span><span style=\"color: #000000; text-decoration-color: #000000; font-weight: bold\">(</span><span style=\"color: #808000; text-decoration-color: #808000\">timeout</span><span style=\"color: #000000; text-decoration-color: #000000\">=</span><span style=\"color: #008080; text-decoration-color: #008080; font-weight: bold\">5.0</span><span style=\"color: #000000; text-decoration-color: #000000; font-weight: bold\">)</span><span style=\"color: #000000; text-decoration-color: #000000\">,</span>\n",
       "<span style=\"color: #000000; text-decoration-color: #000000\"> </span><span style=\"color: #008000; text-decoration-color: #008000\">'follow_redirects'</span><span style=\"color: #000000; text-decoration-color: #000000\">: </span><span style=\"color: #ff0000; text-decoration-color: #ff0000; font-style: italic\">False</span><span style=\"color: #000000; text-decoration-color: #000000\">,</span>\n",
       "<span style=\"color: #000000; text-decoration-color: #000000\"> </span><span style=\"color: #008000; text-decoration-color: #008000\">'max_redirects'</span><span style=\"color: #000000; text-decoration-color: #000000\">: </span><span style=\"color: #008080; text-decoration-color: #008080; font-weight: bold\">20</span><span style=\"color: #000000; text-decoration-color: #000000\">,</span>\n",
       "<span style=\"color: #000000; text-decoration-color: #000000\"> </span><span style=\"color: #008000; text-decoration-color: #008000\">'_event_hooks'</span><span style=\"color: #000000; text-decoration-color: #000000\">: </span><span style=\"color: #000000; text-decoration-color: #000000; font-weight: bold\">{</span><span style=\"color: #008000; text-decoration-color: #008000\">'request'</span><span style=\"color: #000000; text-decoration-color: #000000\">: </span><span style=\"color: #000000; text-decoration-color: #000000; font-weight: bold\">[]</span><span style=\"color: #000000; text-decoration-color: #000000\">, </span><span style=\"color: #008000; text-decoration-color: #008000\">'response'</span><span style=\"color: #000000; text-decoration-color: #000000\">: </span><span style=\"color: #000000; text-decoration-color: #000000; font-weight: bold\">[]}</span><span style=\"color: #000000; text-decoration-color: #000000\">,</span>\n",
       "<span style=\"color: #000000; text-decoration-color: #000000\"> </span><span style=\"color: #008000; text-decoration-color: #008000\">'_trust_env'</span><span style=\"color: #000000; text-decoration-color: #000000\">: </span><span style=\"color: #00ff00; text-decoration-color: #00ff00; font-style: italic\">True</span><span style=\"color: #000000; text-decoration-color: #000000\">,</span>\n",
       "<span style=\"color: #000000; text-decoration-color: #000000\"> </span><span style=\"color: #008000; text-decoration-color: #008000\">'_default_encoding'</span><span style=\"color: #000000; text-decoration-color: #000000\">: </span><span style=\"color: #008000; text-decoration-color: #008000\">'utf-8'</span><span style=\"color: #000000; text-decoration-color: #000000\">,</span>\n",
       "<span style=\"color: #000000; text-decoration-color: #000000\"> </span><span style=\"color: #008000; text-decoration-color: #008000\">'_state'</span><span style=\"color: #000000; text-decoration-color: #000000\">: &lt;ClientState.UNOPENED: </span><span style=\"color: #008080; text-decoration-color: #008080; font-weight: bold\">1</span><span style=\"color: #000000; text-decoration-color: #000000\">&gt;,</span>\n",
       "<span style=\"color: #000000; text-decoration-color: #000000\"> </span><span style=\"color: #008000; text-decoration-color: #008000\">'_transport'</span><span style=\"color: #000000; text-decoration-color: #000000\">: &lt;httpx.HTTPTransport object at </span><span style=\"color: #008080; text-decoration-color: #008080; font-weight: bold\">0x7f6e7fcb9c60</span><span style=\"font-weight: bold\">&gt;</span>,\n",
       " <span style=\"color: #008000; text-decoration-color: #008000\">'_mounts'</span>: <span style=\"font-weight: bold\">{}}</span>\n",
       "</pre>\n"
      ],
      "text/plain": [
       "\u001b[1;37mstr:\u001b[0m\n",
       "\n",
       "\u001b[1m{\u001b[0m\u001b[32m'_base_url'\u001b[0m: \u001b[1;35mURL\u001b[0m\u001b[1m(\u001b[0m\u001b[32m''\u001b[0m\u001b[1m)\u001b[0m,\n",
       " \u001b[32m'_auth'\u001b[0m: \u001b[3;35mNone\u001b[0m,\n",
       " \u001b[32m'_params'\u001b[0m: \u001b[1;35mQueryParams\u001b[0m\u001b[1m(\u001b[0m\u001b[32m''\u001b[0m\u001b[1m)\u001b[0m,\n",
       " \u001b[32m'_headers'\u001b[0m: \u001b[1;35mHeaders\u001b[0m\u001b[1m(\u001b[0m\u001b[1m{\u001b[0m\u001b[32m'accept'\u001b[0m: \u001b[32m'*/*'\u001b[0m, \u001b[32m'accept-encoding'\u001b[0m: \u001b[32m'gzip, deflate'\u001b[0m, \u001b[32m'connection'\u001b[0m: \u001b[32m'keep-alive'\u001b[0m, \n",
       "\u001b[32m'user-agent'\u001b[0m: \u001b[32m'python-httpx/0.24.1'\u001b[0m\u001b[1m}\u001b[0m\u001b[1m)\u001b[0m,\n",
       " \u001b[32m'_cookies'\u001b[0m: \u001b[1m<\u001b[0m\u001b[1;95mCookies\u001b[0m\u001b[1;39m[\u001b[0m\u001b[1;39m]\u001b[0m\u001b[39m>,\u001b[0m\n",
       "\u001b[39m \u001b[0m\u001b[32m'_timeout'\u001b[0m\u001b[39m: \u001b[0m\u001b[1;35mTimeout\u001b[0m\u001b[1;39m(\u001b[0m\u001b[33mtimeout\u001b[0m\u001b[39m=\u001b[0m\u001b[1;36m5\u001b[0m\u001b[1;36m.0\u001b[0m\u001b[1;39m)\u001b[0m\u001b[39m,\u001b[0m\n",
       "\u001b[39m \u001b[0m\u001b[32m'follow_redirects'\u001b[0m\u001b[39m: \u001b[0m\u001b[3;91mFalse\u001b[0m\u001b[39m,\u001b[0m\n",
       "\u001b[39m \u001b[0m\u001b[32m'max_redirects'\u001b[0m\u001b[39m: \u001b[0m\u001b[1;36m20\u001b[0m\u001b[39m,\u001b[0m\n",
       "\u001b[39m \u001b[0m\u001b[32m'_event_hooks'\u001b[0m\u001b[39m: \u001b[0m\u001b[1;39m{\u001b[0m\u001b[32m'request'\u001b[0m\u001b[39m: \u001b[0m\u001b[1;39m[\u001b[0m\u001b[1;39m]\u001b[0m\u001b[39m, \u001b[0m\u001b[32m'response'\u001b[0m\u001b[39m: \u001b[0m\u001b[1;39m[\u001b[0m\u001b[1;39m]\u001b[0m\u001b[1;39m}\u001b[0m\u001b[39m,\u001b[0m\n",
       "\u001b[39m \u001b[0m\u001b[32m'_trust_env'\u001b[0m\u001b[39m: \u001b[0m\u001b[3;92mTrue\u001b[0m\u001b[39m,\u001b[0m\n",
       "\u001b[39m \u001b[0m\u001b[32m'_default_encoding'\u001b[0m\u001b[39m: \u001b[0m\u001b[32m'utf-8'\u001b[0m\u001b[39m,\u001b[0m\n",
       "\u001b[39m \u001b[0m\u001b[32m'_state'\u001b[0m\u001b[39m: <ClientState.UNOPENED: \u001b[0m\u001b[1;36m1\u001b[0m\u001b[39m>,\u001b[0m\n",
       "\u001b[39m \u001b[0m\u001b[32m'_transport'\u001b[0m\u001b[39m: <httpx.HTTPTransport object at \u001b[0m\u001b[1;36m0x7f6e7fcb9c60\u001b[0m\u001b[1m>\u001b[0m,\n",
       " \u001b[32m'_mounts'\u001b[0m: \u001b[1m{\u001b[0m\u001b[1m}\u001b[0m\u001b[1m}\u001b[0m\n"
      ]
     },
     "metadata": {},
     "output_type": "display_data"
    },
    {
     "data": {
      "text/html": [
       "<pre style=\"white-space:pre;overflow-x:auto;line-height:normal;font-family:Menlo,'DejaVu Sans Mono',consolas,'Courier New',monospace\"><span style=\"color: #c0c0c0; text-decoration-color: #c0c0c0; font-weight: bold\">ChatGPTSession:</span>\n",
       "<span style=\"color: #800080; text-decoration-color: #800080; font-weight: bold\">ChatGPTSession</span><span style=\"font-weight: bold\">(</span>\n",
       "    <span style=\"color: #808000; text-decoration-color: #808000\">id</span>=<span style=\"color: #008000; text-decoration-color: #008000\">'tools'</span>,\n",
       "    <span style=\"color: #808000; text-decoration-color: #808000\">created_at</span>=<span style=\"color: #800080; text-decoration-color: #800080; font-weight: bold\">datetime</span><span style=\"color: #800080; text-decoration-color: #800080; font-weight: bold\">.datetime</span><span style=\"font-weight: bold\">(</span><span style=\"color: #008080; text-decoration-color: #008080; font-weight: bold\">2023</span>, <span style=\"color: #008080; text-decoration-color: #008080; font-weight: bold\">6</span>, <span style=\"color: #008080; text-decoration-color: #008080; font-weight: bold\">20</span>, <span style=\"color: #008080; text-decoration-color: #008080; font-weight: bold\">10</span>, <span style=\"color: #008080; text-decoration-color: #008080; font-weight: bold\">47</span>, <span style=\"color: #008080; text-decoration-color: #008080; font-weight: bold\">16</span>, <span style=\"color: #008080; text-decoration-color: #008080; font-weight: bold\">52325</span>, <span style=\"color: #808000; text-decoration-color: #808000\">tzinfo</span>=<span style=\"color: #800080; text-decoration-color: #800080\">datetime</span>.timezone.utc<span style=\"font-weight: bold\">)</span>,\n",
       "    <span style=\"color: #808000; text-decoration-color: #808000\">auth</span>=<span style=\"font-weight: bold\">{</span><span style=\"color: #008000; text-decoration-color: #008000\">'api_key'</span>: <span style=\"color: #800080; text-decoration-color: #800080; font-weight: bold\">SecretStr</span><span style=\"font-weight: bold\">(</span><span style=\"color: #008000; text-decoration-color: #008000\">'**********'</span><span style=\"font-weight: bold\">)}</span>,\n",
       "    <span style=\"color: #808000; text-decoration-color: #808000\">api_url</span>=<span style=\"color: #008000; text-decoration-color: #008000\">'https://api.openai.com/v1/chat/completions'</span>,\n",
       "    <span style=\"color: #808000; text-decoration-color: #808000\">model</span>=<span style=\"color: #008000; text-decoration-color: #008000\">'gpt-3.5-turbo'</span>,\n",
       "    <span style=\"color: #808000; text-decoration-color: #808000\">system</span>=<span style=\"color: #008000; text-decoration-color: #008000\">'You are a helpful assistant.'</span>,\n",
       "    <span style=\"color: #808000; text-decoration-color: #808000\">params</span>=<span style=\"font-weight: bold\">{</span><span style=\"color: #008000; text-decoration-color: #008000\">'temperature'</span>: <span style=\"color: #008080; text-decoration-color: #008080; font-weight: bold\">0.0</span>, <span style=\"color: #008000; text-decoration-color: #008000\">'max_tokens'</span>: <span style=\"color: #008080; text-decoration-color: #008080; font-weight: bold\">100</span><span style=\"font-weight: bold\">}</span>,\n",
       "    <span style=\"color: #808000; text-decoration-color: #808000\">messages</span>=<span style=\"font-weight: bold\">[]</span>,\n",
       "    <span style=\"color: #808000; text-decoration-color: #808000\">input_fields</span>=<span style=\"font-weight: bold\">{</span><span style=\"color: #008000; text-decoration-color: #008000\">'role'</span>, <span style=\"color: #008000; text-decoration-color: #008000\">'name'</span>, <span style=\"color: #008000; text-decoration-color: #008000\">'content'</span><span style=\"font-weight: bold\">}</span>,\n",
       "    <span style=\"color: #808000; text-decoration-color: #808000\">recent_messages</span>=<span style=\"color: #800080; text-decoration-color: #800080; font-style: italic\">None</span>,\n",
       "    <span style=\"color: #808000; text-decoration-color: #808000\">save_messages</span>=<span style=\"color: #00ff00; text-decoration-color: #00ff00; font-style: italic\">True</span>,\n",
       "    <span style=\"color: #808000; text-decoration-color: #808000\">total_prompt_length</span>=<span style=\"color: #008080; text-decoration-color: #008080; font-weight: bold\">0</span>,\n",
       "    <span style=\"color: #808000; text-decoration-color: #808000\">total_completion_length</span>=<span style=\"color: #008080; text-decoration-color: #008080; font-weight: bold\">0</span>,\n",
       "    <span style=\"color: #808000; text-decoration-color: #808000\">total_length</span>=<span style=\"color: #008080; text-decoration-color: #008080; font-weight: bold\">0</span>,\n",
       "    <span style=\"color: #808000; text-decoration-color: #808000\">title</span>=<span style=\"color: #800080; text-decoration-color: #800080; font-style: italic\">None</span>\n",
       "<span style=\"font-weight: bold\">)</span>\n",
       "</pre>\n"
      ],
      "text/plain": [
       "\u001b[1;37mChatGPTSession:\u001b[0m\n",
       "\u001b[1;35mChatGPTSession\u001b[0m\u001b[1m(\u001b[0m\n",
       "    \u001b[33mid\u001b[0m=\u001b[32m'tools'\u001b[0m,\n",
       "    \u001b[33mcreated_at\u001b[0m=\u001b[1;35mdatetime\u001b[0m\u001b[1;35m.datetime\u001b[0m\u001b[1m(\u001b[0m\u001b[1;36m2023\u001b[0m, \u001b[1;36m6\u001b[0m, \u001b[1;36m20\u001b[0m, \u001b[1;36m10\u001b[0m, \u001b[1;36m47\u001b[0m, \u001b[1;36m16\u001b[0m, \u001b[1;36m52325\u001b[0m, \u001b[33mtzinfo\u001b[0m=\u001b[35mdatetime\u001b[0m.timezone.utc\u001b[1m)\u001b[0m,\n",
       "    \u001b[33mauth\u001b[0m=\u001b[1m{\u001b[0m\u001b[32m'api_key'\u001b[0m: \u001b[1;35mSecretStr\u001b[0m\u001b[1m(\u001b[0m\u001b[32m'**********'\u001b[0m\u001b[1m)\u001b[0m\u001b[1m}\u001b[0m,\n",
       "    \u001b[33mapi_url\u001b[0m=\u001b[32m'https://api.openai.com/v1/chat/completions'\u001b[0m,\n",
       "    \u001b[33mmodel\u001b[0m=\u001b[32m'gpt-3.5-turbo'\u001b[0m,\n",
       "    \u001b[33msystem\u001b[0m=\u001b[32m'You are a helpful assistant.'\u001b[0m,\n",
       "    \u001b[33mparams\u001b[0m=\u001b[1m{\u001b[0m\u001b[32m'temperature'\u001b[0m: \u001b[1;36m0.0\u001b[0m, \u001b[32m'max_tokens'\u001b[0m: \u001b[1;36m100\u001b[0m\u001b[1m}\u001b[0m,\n",
       "    \u001b[33mmessages\u001b[0m=\u001b[1m[\u001b[0m\u001b[1m]\u001b[0m,\n",
       "    \u001b[33minput_fields\u001b[0m=\u001b[1m{\u001b[0m\u001b[32m'role'\u001b[0m, \u001b[32m'name'\u001b[0m, \u001b[32m'content'\u001b[0m\u001b[1m}\u001b[0m,\n",
       "    \u001b[33mrecent_messages\u001b[0m=\u001b[3;35mNone\u001b[0m,\n",
       "    \u001b[33msave_messages\u001b[0m=\u001b[3;92mTrue\u001b[0m,\n",
       "    \u001b[33mtotal_prompt_length\u001b[0m=\u001b[1;36m0\u001b[0m,\n",
       "    \u001b[33mtotal_completion_length\u001b[0m=\u001b[1;36m0\u001b[0m,\n",
       "    \u001b[33mtotal_length\u001b[0m=\u001b[1;36m0\u001b[0m,\n",
       "    \u001b[33mtitle\u001b[0m=\u001b[3;35mNone\u001b[0m\n",
       "\u001b[1m)\u001b[0m\n"
      ]
     },
     "metadata": {},
     "output_type": "display_data"
    }
   ],
   "source": [
    "\n",
    "client = ai.client\n",
    "sess = ai.default_session\n",
    "console_print(pformat(client.__dict__))\n",
    "console_print(sess)"
   ]
  },
  {
   "cell_type": "code",
   "execution_count": 38,
   "metadata": {},
   "outputs": [],
   "source": [
    "# with AIChat(params=params, console=False, id=\"tools_test\").session(id=\"tools_test\") as sess:\n",
    "#     console_print(sess, title=f\"Session: {sess.id!r}\")"
   ]
  },
  {
   "cell_type": "code",
   "execution_count": 43,
   "metadata": {},
   "outputs": [
    {
     "data": {
      "text/plain": [
       "{'temperature': 0.0, 'max_tokens': 100}"
      ]
     },
     "execution_count": 43,
     "metadata": {},
     "output_type": "execute_result"
    }
   ],
   "source": [
    "sess.params"
   ]
  },
  {
   "cell_type": "code",
   "execution_count": 58,
   "metadata": {},
   "outputs": [
    {
     "name": "stdout",
     "output_type": "stream",
     "text": [
      "\n",
      "`tool_prompt_format`:\n",
      "\n",
      "From the list of tools below:\n",
      "- Reply ONLY with the number of the tool appropriate in response to the user's last message.\n",
      "- If no tool is appropriate, ONLY reply with \"0\".\n",
      "\n",
      "1: Search the internet.\n",
      "2: Lookup more information about a topic.\n",
      "\n",
      "`logit_bias`:\n",
      "\n",
      "{'15': 100, '16': 100, '17': 100}\n"
     ]
    }
   ],
   "source": [
    "from pydantic import HttpUrl\n",
    "from httpx import Client, AsyncClient\n",
    "from typing import List, Dict, Union, Set, Any\n",
    "import orjson\n",
    "\n",
    "from simpleaichat.chatgpt import ChatGPTSession\n",
    "from simpleaichat.models import ChatMessage, ChatSession\n",
    "\n",
    "tool_prompt = \"\"\"From the list of tools below:\n",
    "- Reply ONLY with the number of the tool appropriate in response to the user's last message.\n",
    "- If no tool is appropriate, ONLY reply with \\\"0\\\".\n",
    "\n",
    "{tools}\"\"\"\n",
    "\n",
    "prompts = [\n",
    "    \"San Francisco tourist attractions\",\n",
    "    \"Lombard Street?\",\n",
    "    \"Thanks for your help!\"\n",
    "]\n",
    "\n",
    "prompt: str\n",
    "sess: ChatGPTSession                # = ai.default_session\n",
    "tools: List[Any]                    # = [search, lookup]\n",
    "client: Union[Client, AsyncClient]  # = ai.client\n",
    "system: str                         # = sess.system\n",
    "save_messages: bool                 # = sess.save_messages\n",
    "params: Dict[str, Any]              # = sess.params\n",
    "\n",
    "prompt = prompts[0]\n",
    "sess = ai.default_session\n",
    "tools = [search, lookup]\n",
    "client = ai.client\n",
    "system = sess.system\n",
    "save_messages = sess.save_messages\n",
    "params = sess.params\n",
    "\n",
    "# call 1: select tool and populate context\n",
    "tools_list = \"\\n\".join(f\"{i+1}: {f.__doc__}\" for i, f in enumerate(tools))\n",
    "tool_prompt_format = tool_prompt.format(tools=tools_list)\n",
    "print(\"\\n`tool_prompt_format`:\\n\")\n",
    "print(tool_prompt_format)\n",
    "\n",
    "logit_bias_weight = 100\n",
    "logit_bias = {str(k): logit_bias_weight for k in range(15, 15 + len(tools) + 1)}\n",
    "print(f\"\\n`logit_bias`:\\n\\n{logit_bias}\")"
   ]
  },
  {
   "cell_type": "code",
   "execution_count": 59,
   "metadata": {},
   "outputs": [
    {
     "name": "stdout",
     "output_type": "stream",
     "text": [
      "\n",
      "`tool_idx_gen`:\n",
      "\n",
      "1\n",
      "\n",
      "`tool_idx`:\n",
      "\n",
      "1\n"
     ]
    }
   ],
   "source": [
    "# call 1: select tool and populate context\n",
    "\n",
    "tool_idx_gen = sess.gen(\n",
    "    prompt,\n",
    "    client=client,\n",
    "    system=tool_prompt_format,\n",
    "    save_messages=False,\n",
    "    params={\n",
    "        \"temperature\": 0.0,\n",
    "        \"max_tokens\": 1,\n",
    "        \"logit_bias\": logit_bias,\n",
    "    },\n",
    ")\n",
    "print(f\"\\n`tool_idx_gen`:\\n\\n{tool_idx_gen}\")\n",
    "\n",
    "tool_idx = int(tool_idx_gen)\n",
    "print(f\"\\n`tool_idx`:\\n\\n{tool_idx}\")"
   ]
  },
  {
   "cell_type": "code",
   "execution_count": 66,
   "metadata": {},
   "outputs": [
    {
     "data": {
      "text/html": [
       "<pre style=\"white-space:pre;overflow-x:auto;line-height:normal;font-family:Menlo,'DejaVu Sans Mono',consolas,'Courier New',monospace\"><span style=\"color: #c0c0c0; text-decoration-color: #c0c0c0; font-weight: bold\">context_dict:</span>\n",
       "\n",
       "<span style=\"font-weight: bold\">{</span><span style=\"color: #008000; text-decoration-color: #008000\">'context'</span>: <span style=\"color: #008000; text-decoration-color: #008000\">\"Fisherman's Wharf, San Francisco, Tourist attractions in the \"</span>\n",
       "            <span style=\"color: #008000; text-decoration-color: #008000\">'United States, Lombard Street (San Francisco)'</span>,\n",
       " <span style=\"color: #008000; text-decoration-color: #008000\">'titles'</span>: <span style=\"font-weight: bold\">[</span><span style=\"color: #008000; text-decoration-color: #008000\">\"Fisherman's Wharf, San Francisco\"</span>,\n",
       "            <span style=\"color: #008000; text-decoration-color: #008000\">'Tourist attractions in the United States'</span>,\n",
       "            <span style=\"color: #008000; text-decoration-color: #008000\">'Lombard Street (San Francisco)'</span><span style=\"font-weight: bold\">]</span>,\n",
       " <span style=\"color: #008000; text-decoration-color: #008000\">'tool'</span>: <span style=\"color: #008000; text-decoration-color: #008000\">'search'</span><span style=\"font-weight: bold\">}</span>\n",
       "</pre>\n"
      ],
      "text/plain": [
       "\u001b[1;37mcontext_dict:\u001b[0m\n",
       "\n",
       "\u001b[1m{\u001b[0m\u001b[32m'context'\u001b[0m: \u001b[32m\"Fisherman's Wharf, San Francisco, Tourist attractions in the \"\u001b[0m\n",
       "            \u001b[32m'United States, Lombard Street \u001b[0m\u001b[32m(\u001b[0m\u001b[32mSan Francisco\u001b[0m\u001b[32m)\u001b[0m\u001b[32m'\u001b[0m,\n",
       " \u001b[32m'titles'\u001b[0m: \u001b[1m[\u001b[0m\u001b[32m\"Fisherman's Wharf, San Francisco\"\u001b[0m,\n",
       "            \u001b[32m'Tourist attractions in the United States'\u001b[0m,\n",
       "            \u001b[32m'Lombard Street \u001b[0m\u001b[32m(\u001b[0m\u001b[32mSan Francisco\u001b[0m\u001b[32m)\u001b[0m\u001b[32m'\u001b[0m\u001b[1m]\u001b[0m,\n",
       " \u001b[32m'tool'\u001b[0m: \u001b[32m'search'\u001b[0m\u001b[1m}\u001b[0m\n"
      ]
     },
     "metadata": {},
     "output_type": "display_data"
    }
   ],
   "source": [
    "# if no tool is selected, do a standard generation instead.\n",
    "if tool_idx == 0:\n",
    "    context_dict = {\n",
    "        \"response\": sess.gen(\n",
    "            prompt,\n",
    "            client=client,\n",
    "            system=system,\n",
    "            save_messages=save_messages,\n",
    "            params=params,\n",
    "        ),\n",
    "        \"tool\": None,\n",
    "    }\n",
    "else:\n",
    "    # Get Tool: select tool\n",
    "    selected_tool = tools[tool_idx - 1]\n",
    "    # Call Tool: call tool to get context\n",
    "    context_dict = selected_tool(prompt)\n",
    "    if isinstance(context_dict, str):\n",
    "        context_dict = {\"context\": context_dict}\n",
    "\n",
    "    # Tool Name: add tool name to context\n",
    "    context_dict[\"tool\"] = selected_tool.__name__\n",
    "\n",
    "# print(f\"\\n`context_dict`:\\n\\n{pformat(context_dict)}\")\n",
    "console_print(pformat(context_dict), title=f\"context_dict:\")"
   ]
  },
  {
   "cell_type": "code",
   "execution_count": 69,
   "metadata": {},
   "outputs": [
    {
     "data": {
      "text/html": [
       "<pre style=\"white-space:pre;overflow-x:auto;line-height:normal;font-family:Menlo,'DejaVu Sans Mono',consolas,'Courier New',monospace\"><span style=\"color: #800080; text-decoration-color: #800080; font-weight: bold\">new_system:</span>\n",
       "\n",
       "You are a helpful assistant.\n",
       "\n",
       "You MUST use information from the context in your response.\n",
       "</pre>\n"
      ],
      "text/plain": [
       "\u001b[1;35mnew_system:\u001b[0m\n",
       "\n",
       "You are a helpful assistant.\n",
       "\n",
       "You MUST use information from the context in your response.\n"
      ]
     },
     "metadata": {},
     "output_type": "display_data"
    },
    {
     "data": {
      "text/html": [
       "<pre style=\"white-space:pre;overflow-x:auto;line-height:normal;font-family:Menlo,'DejaVu Sans Mono',consolas,'Courier New',monospace\"><span style=\"color: #800080; text-decoration-color: #800080; font-weight: bold\">new_prompt:</span>\n",
       "\n",
       "Context: Fisherman's Wharf, San Francisco, Tourist attractions in the United States, Lombard Street <span style=\"font-weight: bold\">(</span>San Francisco<span style=\"font-weight: bold\">)</span>\n",
       "\n",
       "User: San Francisco tourist attractions\n",
       "</pre>\n"
      ],
      "text/plain": [
       "\u001b[1;35mnew_prompt:\u001b[0m\n",
       "\n",
       "Context: Fisherman's Wharf, San Francisco, Tourist attractions in the United States, Lombard Street \u001b[1m(\u001b[0mSan Francisco\u001b[1m)\u001b[0m\n",
       "\n",
       "User: San Francisco tourist attractions\n"
      ]
     },
     "metadata": {},
     "output_type": "display_data"
    }
   ],
   "source": [
    "# call 2: generate from the context\n",
    "new_system = f\"{system or sess.system}\\n\\nYou MUST use information from the context in your response.\"\n",
    "console_print(new_system, title=f\"new_system:\", title_color=\"bold magenta\")\n",
    "\n",
    "new_prompt = f\"Context: {context_dict['context']}\\n\\nUser: {prompt}\"\n",
    "console_print(new_prompt, title=f\"new_prompt:\", title_color=\"bold magenta\")\n"
   ]
  },
  {
   "cell_type": "code",
   "execution_count": 70,
   "metadata": {},
   "outputs": [
    {
     "data": {
      "text/html": [
       "<pre style=\"white-space:pre;overflow-x:auto;line-height:normal;font-family:Menlo,'DejaVu Sans Mono',consolas,'Courier New',monospace\"><span style=\"color: #c0c0c0; text-decoration-color: #c0c0c0; font-weight: bold\">context_dict:</span>\n",
       "\n",
       "<span style=\"font-weight: bold\">{</span><span style=\"color: #008000; text-decoration-color: #008000\">'context'</span>: <span style=\"color: #008000; text-decoration-color: #008000\">\"Fisherman's Wharf, San Francisco, Tourist attractions in the \"</span>\n",
       "            <span style=\"color: #008000; text-decoration-color: #008000\">'United States, Lombard Street (San Francisco)'</span>,\n",
       " <span style=\"color: #008000; text-decoration-color: #008000\">'titles'</span>: <span style=\"font-weight: bold\">[</span><span style=\"color: #008000; text-decoration-color: #008000\">\"Fisherman's Wharf, San Francisco\"</span>,\n",
       "            <span style=\"color: #008000; text-decoration-color: #008000\">'Tourist attractions in the United States'</span>,\n",
       "            <span style=\"color: #008000; text-decoration-color: #008000\">'Lombard Street (San Francisco)'</span><span style=\"font-weight: bold\">]</span>,\n",
       " <span style=\"color: #008000; text-decoration-color: #008000\">'tool'</span>: <span style=\"color: #008000; text-decoration-color: #008000\">'search'</span>,\n",
       " <span style=\"color: #008000; text-decoration-color: #008000\">'response'</span>: <span style=\"color: #008000; text-decoration-color: #008000\">'There are many popular tourist attractions in San Francisco, '</span>\n",
       "             <span style=\"color: #008000; text-decoration-color: #008000\">\"including Fisherman's Wharf and Lombard Street. Fisherman's \"</span>\n",
       "             <span style=\"color: #008000; text-decoration-color: #008000\">'Wharf is a bustling waterfront area known for its seafood '</span>\n",
       "             <span style=\"color: #008000; text-decoration-color: #008000\">'restaurants, souvenir shops, and sea lion sightings. Lombard '</span>\n",
       "             <span style=\"color: #008000; text-decoration-color: #008000\">'Street, on the other hand, is a famous winding street with eight '</span>\n",
       "             <span style=\"color: #008000; text-decoration-color: #008000\">'hairpin turns that attract visitors from all over the world. '</span>\n",
       "             <span style=\"color: #008000; text-decoration-color: #008000\">'Both of these attractions are must-sees for anyone visiting San '</span>\n",
       "             <span style=\"color: #008000; text-decoration-color: #008000\">'Francisco.'</span><span style=\"font-weight: bold\">}</span>\n",
       "</pre>\n"
      ],
      "text/plain": [
       "\u001b[1;37mcontext_dict:\u001b[0m\n",
       "\n",
       "\u001b[1m{\u001b[0m\u001b[32m'context'\u001b[0m: \u001b[32m\"Fisherman's Wharf, San Francisco, Tourist attractions in the \"\u001b[0m\n",
       "            \u001b[32m'United States, Lombard Street \u001b[0m\u001b[32m(\u001b[0m\u001b[32mSan Francisco\u001b[0m\u001b[32m)\u001b[0m\u001b[32m'\u001b[0m,\n",
       " \u001b[32m'titles'\u001b[0m: \u001b[1m[\u001b[0m\u001b[32m\"Fisherman's Wharf, San Francisco\"\u001b[0m,\n",
       "            \u001b[32m'Tourist attractions in the United States'\u001b[0m,\n",
       "            \u001b[32m'Lombard Street \u001b[0m\u001b[32m(\u001b[0m\u001b[32mSan Francisco\u001b[0m\u001b[32m)\u001b[0m\u001b[32m'\u001b[0m\u001b[1m]\u001b[0m,\n",
       " \u001b[32m'tool'\u001b[0m: \u001b[32m'search'\u001b[0m,\n",
       " \u001b[32m'response'\u001b[0m: \u001b[32m'There are many popular tourist attractions in San Francisco, '\u001b[0m\n",
       "             \u001b[32m\"including Fisherman's Wharf and Lombard Street. Fisherman's \"\u001b[0m\n",
       "             \u001b[32m'Wharf is a bustling waterfront area known for its seafood '\u001b[0m\n",
       "             \u001b[32m'restaurants, souvenir shops, and sea lion sightings. Lombard '\u001b[0m\n",
       "             \u001b[32m'Street, on the other hand, is a famous winding street with eight '\u001b[0m\n",
       "             \u001b[32m'hairpin turns that attract visitors from all over the world. '\u001b[0m\n",
       "             \u001b[32m'Both of these attractions are must-sees for anyone visiting San '\u001b[0m\n",
       "             \u001b[32m'Francisco.'\u001b[0m\u001b[1m}\u001b[0m\n"
      ]
     },
     "metadata": {},
     "output_type": "display_data"
    }
   ],
   "source": [
    "\n",
    "context_dict[\"response\"] = sess.gen(\n",
    "    new_prompt,\n",
    "    client=client,\n",
    "    system=new_system,\n",
    "    save_messages=False,\n",
    "    params=params,\n",
    ")\n",
    "console_print(pformat(context_dict), title=f\"context_dict:\")\n"
   ]
  },
  {
   "cell_type": "code",
   "execution_count": 71,
   "metadata": {},
   "outputs": [
    {
     "data": {
      "text/html": [
       "<pre style=\"white-space:pre;overflow-x:auto;line-height:normal;font-family:Menlo,'DejaVu Sans Mono',consolas,'Courier New',monospace\"><span style=\"color: #c0c0c0; text-decoration-color: #c0c0c0; font-weight: bold\">Session: </span><span style=\"color: #c0c0c0; text-decoration-color: #c0c0c0; font-weight: bold\">'tools'</span>\n",
       "<span style=\"color: #800080; text-decoration-color: #800080; font-weight: bold\">ChatGPTSession</span><span style=\"font-weight: bold\">(</span>\n",
       "    <span style=\"color: #808000; text-decoration-color: #808000\">id</span>=<span style=\"color: #008000; text-decoration-color: #008000\">'tools'</span>,\n",
       "    <span style=\"color: #808000; text-decoration-color: #808000\">created_at</span>=<span style=\"color: #800080; text-decoration-color: #800080; font-weight: bold\">datetime</span><span style=\"color: #800080; text-decoration-color: #800080; font-weight: bold\">.datetime</span><span style=\"font-weight: bold\">(</span><span style=\"color: #008080; text-decoration-color: #008080; font-weight: bold\">2023</span>, <span style=\"color: #008080; text-decoration-color: #008080; font-weight: bold\">6</span>, <span style=\"color: #008080; text-decoration-color: #008080; font-weight: bold\">20</span>, <span style=\"color: #008080; text-decoration-color: #008080; font-weight: bold\">10</span>, <span style=\"color: #008080; text-decoration-color: #008080; font-weight: bold\">47</span>, <span style=\"color: #008080; text-decoration-color: #008080; font-weight: bold\">16</span>, <span style=\"color: #008080; text-decoration-color: #008080; font-weight: bold\">52325</span>, <span style=\"color: #808000; text-decoration-color: #808000\">tzinfo</span>=<span style=\"color: #800080; text-decoration-color: #800080\">datetime</span>.timezone.utc<span style=\"font-weight: bold\">)</span>,\n",
       "    <span style=\"color: #808000; text-decoration-color: #808000\">auth</span>=<span style=\"font-weight: bold\">{</span><span style=\"color: #008000; text-decoration-color: #008000\">'api_key'</span>: <span style=\"color: #800080; text-decoration-color: #800080; font-weight: bold\">SecretStr</span><span style=\"font-weight: bold\">(</span><span style=\"color: #008000; text-decoration-color: #008000\">'**********'</span><span style=\"font-weight: bold\">)}</span>,\n",
       "    <span style=\"color: #808000; text-decoration-color: #808000\">api_url</span>=<span style=\"color: #008000; text-decoration-color: #008000\">'https://api.openai.com/v1/chat/completions'</span>,\n",
       "    <span style=\"color: #808000; text-decoration-color: #808000\">model</span>=<span style=\"color: #008000; text-decoration-color: #008000\">'gpt-3.5-turbo'</span>,\n",
       "    <span style=\"color: #808000; text-decoration-color: #808000\">system</span>=<span style=\"color: #008000; text-decoration-color: #008000\">'You are a helpful assistant.'</span>,\n",
       "    <span style=\"color: #808000; text-decoration-color: #808000\">params</span>=<span style=\"font-weight: bold\">{</span><span style=\"color: #008000; text-decoration-color: #008000\">'temperature'</span>: <span style=\"color: #008080; text-decoration-color: #008080; font-weight: bold\">0.0</span>, <span style=\"color: #008000; text-decoration-color: #008000\">'max_tokens'</span>: <span style=\"color: #008080; text-decoration-color: #008080; font-weight: bold\">100</span><span style=\"font-weight: bold\">}</span>,\n",
       "    <span style=\"color: #808000; text-decoration-color: #808000\">messages</span>=<span style=\"font-weight: bold\">[</span>\n",
       "        <span style=\"color: #800080; text-decoration-color: #800080; font-weight: bold\">ChatMessage</span><span style=\"font-weight: bold\">(</span>\n",
       "            <span style=\"color: #808000; text-decoration-color: #808000\">role</span>=<span style=\"color: #008000; text-decoration-color: #008000\">'user'</span>,\n",
       "            <span style=\"color: #808000; text-decoration-color: #808000\">content</span>=<span style=\"color: #008000; text-decoration-color: #008000\">'San Francisco tourist attractions'</span>,\n",
       "            <span style=\"color: #808000; text-decoration-color: #808000\">name</span>=<span style=\"color: #800080; text-decoration-color: #800080; font-style: italic\">None</span>,\n",
       "            <span style=\"color: #808000; text-decoration-color: #808000\">function_call</span>=<span style=\"color: #800080; text-decoration-color: #800080; font-style: italic\">None</span>,\n",
       "            <span style=\"color: #808000; text-decoration-color: #808000\">received_at</span>=<span style=\"color: #800080; text-decoration-color: #800080; font-weight: bold\">datetime</span><span style=\"color: #800080; text-decoration-color: #800080; font-weight: bold\">.datetime</span><span style=\"font-weight: bold\">(</span><span style=\"color: #008080; text-decoration-color: #008080; font-weight: bold\">2023</span>, <span style=\"color: #008080; text-decoration-color: #008080; font-weight: bold\">6</span>, <span style=\"color: #008080; text-decoration-color: #008080; font-weight: bold\">20</span>, <span style=\"color: #008080; text-decoration-color: #008080; font-weight: bold\">11</span>, <span style=\"color: #008080; text-decoration-color: #008080; font-weight: bold\">23</span>, <span style=\"color: #008080; text-decoration-color: #008080; font-weight: bold\">55</span>, <span style=\"color: #008080; text-decoration-color: #008080; font-weight: bold\">867633</span>, <span style=\"color: #808000; text-decoration-color: #808000\">tzinfo</span>=<span style=\"color: #800080; text-decoration-color: #800080\">datetime</span>.timezone.utc<span style=\"font-weight: bold\">)</span>,\n",
       "            <span style=\"color: #808000; text-decoration-color: #808000\">finish_reason</span>=<span style=\"color: #800080; text-decoration-color: #800080; font-style: italic\">None</span>,\n",
       "            <span style=\"color: #808000; text-decoration-color: #808000\">prompt_length</span>=<span style=\"color: #800080; text-decoration-color: #800080; font-style: italic\">None</span>,\n",
       "            <span style=\"color: #808000; text-decoration-color: #808000\">completion_length</span>=<span style=\"color: #800080; text-decoration-color: #800080; font-style: italic\">None</span>,\n",
       "            <span style=\"color: #808000; text-decoration-color: #808000\">total_length</span>=<span style=\"color: #800080; text-decoration-color: #800080; font-style: italic\">None</span>\n",
       "        <span style=\"font-weight: bold\">)</span>,\n",
       "        <span style=\"color: #800080; text-decoration-color: #800080; font-weight: bold\">ChatMessage</span><span style=\"font-weight: bold\">(</span>\n",
       "            <span style=\"color: #808000; text-decoration-color: #808000\">role</span>=<span style=\"color: #008000; text-decoration-color: #008000\">'assistant'</span>,\n",
       "            <span style=\"color: #808000; text-decoration-color: #808000\">content</span>=<span style=\"color: #008000; text-decoration-color: #008000\">\"There are many popular tourist attractions in San Francisco, including Fisherman's Wharf and </span>\n",
       "<span style=\"color: #008000; text-decoration-color: #008000\">Lombard Street. Fisherman's Wharf is a bustling waterfront area known for its seafood restaurants, souvenir shops, </span>\n",
       "<span style=\"color: #008000; text-decoration-color: #008000\">and sea lion sightings. Lombard Street, on the other hand, is a famous winding street with eight hairpin turns that</span>\n",
       "<span style=\"color: #008000; text-decoration-color: #008000\">attract visitors from all over the world. Both of these attractions are must-sees for anyone visiting San </span>\n",
       "<span style=\"color: #008000; text-decoration-color: #008000\">Francisco.\"</span>,\n",
       "            <span style=\"color: #808000; text-decoration-color: #808000\">name</span>=<span style=\"color: #800080; text-decoration-color: #800080; font-style: italic\">None</span>,\n",
       "            <span style=\"color: #808000; text-decoration-color: #808000\">function_call</span>=<span style=\"color: #800080; text-decoration-color: #800080; font-style: italic\">None</span>,\n",
       "            <span style=\"color: #808000; text-decoration-color: #808000\">received_at</span>=<span style=\"color: #800080; text-decoration-color: #800080; font-weight: bold\">datetime</span><span style=\"color: #800080; text-decoration-color: #800080; font-weight: bold\">.datetime</span><span style=\"font-weight: bold\">(</span><span style=\"color: #008080; text-decoration-color: #008080; font-weight: bold\">2023</span>, <span style=\"color: #008080; text-decoration-color: #008080; font-weight: bold\">6</span>, <span style=\"color: #008080; text-decoration-color: #008080; font-weight: bold\">20</span>, <span style=\"color: #008080; text-decoration-color: #008080; font-weight: bold\">11</span>, <span style=\"color: #008080; text-decoration-color: #008080; font-weight: bold\">23</span>, <span style=\"color: #008080; text-decoration-color: #008080; font-weight: bold\">55</span>, <span style=\"color: #008080; text-decoration-color: #008080; font-weight: bold\">867793</span>, <span style=\"color: #808000; text-decoration-color: #808000\">tzinfo</span>=<span style=\"color: #800080; text-decoration-color: #800080\">datetime</span>.timezone.utc<span style=\"font-weight: bold\">)</span>,\n",
       "            <span style=\"color: #808000; text-decoration-color: #808000\">finish_reason</span>=<span style=\"color: #800080; text-decoration-color: #800080; font-style: italic\">None</span>,\n",
       "            <span style=\"color: #808000; text-decoration-color: #808000\">prompt_length</span>=<span style=\"color: #800080; text-decoration-color: #800080; font-style: italic\">None</span>,\n",
       "            <span style=\"color: #808000; text-decoration-color: #808000\">completion_length</span>=<span style=\"color: #800080; text-decoration-color: #800080; font-style: italic\">None</span>,\n",
       "            <span style=\"color: #808000; text-decoration-color: #808000\">total_length</span>=<span style=\"color: #800080; text-decoration-color: #800080; font-style: italic\">None</span>\n",
       "        <span style=\"font-weight: bold\">)</span>\n",
       "    <span style=\"font-weight: bold\">]</span>,\n",
       "    <span style=\"color: #808000; text-decoration-color: #808000\">input_fields</span>=<span style=\"font-weight: bold\">{</span><span style=\"color: #008000; text-decoration-color: #008000\">'role'</span>, <span style=\"color: #008000; text-decoration-color: #008000\">'name'</span>, <span style=\"color: #008000; text-decoration-color: #008000\">'content'</span><span style=\"font-weight: bold\">}</span>,\n",
       "    <span style=\"color: #808000; text-decoration-color: #808000\">recent_messages</span>=<span style=\"color: #800080; text-decoration-color: #800080; font-style: italic\">None</span>,\n",
       "    <span style=\"color: #808000; text-decoration-color: #808000\">save_messages</span>=<span style=\"color: #00ff00; text-decoration-color: #00ff00; font-style: italic\">True</span>,\n",
       "    <span style=\"color: #808000; text-decoration-color: #808000\">total_prompt_length</span>=<span style=\"color: #008080; text-decoration-color: #008080; font-weight: bold\">133</span>,\n",
       "    <span style=\"color: #808000; text-decoration-color: #808000\">total_completion_length</span>=<span style=\"color: #008080; text-decoration-color: #008080; font-weight: bold\">88</span>,\n",
       "    <span style=\"color: #808000; text-decoration-color: #808000\">total_length</span>=<span style=\"color: #008080; text-decoration-color: #008080; font-weight: bold\">221</span>,\n",
       "    <span style=\"color: #808000; text-decoration-color: #808000\">title</span>=<span style=\"color: #800080; text-decoration-color: #800080; font-style: italic\">None</span>\n",
       "<span style=\"font-weight: bold\">)</span>\n",
       "</pre>\n"
      ],
      "text/plain": [
       "\u001b[1;37mSession: \u001b[0m\u001b[1;37m'tools'\u001b[0m\n",
       "\u001b[1;35mChatGPTSession\u001b[0m\u001b[1m(\u001b[0m\n",
       "    \u001b[33mid\u001b[0m=\u001b[32m'tools'\u001b[0m,\n",
       "    \u001b[33mcreated_at\u001b[0m=\u001b[1;35mdatetime\u001b[0m\u001b[1;35m.datetime\u001b[0m\u001b[1m(\u001b[0m\u001b[1;36m2023\u001b[0m, \u001b[1;36m6\u001b[0m, \u001b[1;36m20\u001b[0m, \u001b[1;36m10\u001b[0m, \u001b[1;36m47\u001b[0m, \u001b[1;36m16\u001b[0m, \u001b[1;36m52325\u001b[0m, \u001b[33mtzinfo\u001b[0m=\u001b[35mdatetime\u001b[0m.timezone.utc\u001b[1m)\u001b[0m,\n",
       "    \u001b[33mauth\u001b[0m=\u001b[1m{\u001b[0m\u001b[32m'api_key'\u001b[0m: \u001b[1;35mSecretStr\u001b[0m\u001b[1m(\u001b[0m\u001b[32m'**********'\u001b[0m\u001b[1m)\u001b[0m\u001b[1m}\u001b[0m,\n",
       "    \u001b[33mapi_url\u001b[0m=\u001b[32m'https://api.openai.com/v1/chat/completions'\u001b[0m,\n",
       "    \u001b[33mmodel\u001b[0m=\u001b[32m'gpt-3.5-turbo'\u001b[0m,\n",
       "    \u001b[33msystem\u001b[0m=\u001b[32m'You are a helpful assistant.'\u001b[0m,\n",
       "    \u001b[33mparams\u001b[0m=\u001b[1m{\u001b[0m\u001b[32m'temperature'\u001b[0m: \u001b[1;36m0.0\u001b[0m, \u001b[32m'max_tokens'\u001b[0m: \u001b[1;36m100\u001b[0m\u001b[1m}\u001b[0m,\n",
       "    \u001b[33mmessages\u001b[0m=\u001b[1m[\u001b[0m\n",
       "        \u001b[1;35mChatMessage\u001b[0m\u001b[1m(\u001b[0m\n",
       "            \u001b[33mrole\u001b[0m=\u001b[32m'user'\u001b[0m,\n",
       "            \u001b[33mcontent\u001b[0m=\u001b[32m'San Francisco tourist attractions'\u001b[0m,\n",
       "            \u001b[33mname\u001b[0m=\u001b[3;35mNone\u001b[0m,\n",
       "            \u001b[33mfunction_call\u001b[0m=\u001b[3;35mNone\u001b[0m,\n",
       "            \u001b[33mreceived_at\u001b[0m=\u001b[1;35mdatetime\u001b[0m\u001b[1;35m.datetime\u001b[0m\u001b[1m(\u001b[0m\u001b[1;36m2023\u001b[0m, \u001b[1;36m6\u001b[0m, \u001b[1;36m20\u001b[0m, \u001b[1;36m11\u001b[0m, \u001b[1;36m23\u001b[0m, \u001b[1;36m55\u001b[0m, \u001b[1;36m867633\u001b[0m, \u001b[33mtzinfo\u001b[0m=\u001b[35mdatetime\u001b[0m.timezone.utc\u001b[1m)\u001b[0m,\n",
       "            \u001b[33mfinish_reason\u001b[0m=\u001b[3;35mNone\u001b[0m,\n",
       "            \u001b[33mprompt_length\u001b[0m=\u001b[3;35mNone\u001b[0m,\n",
       "            \u001b[33mcompletion_length\u001b[0m=\u001b[3;35mNone\u001b[0m,\n",
       "            \u001b[33mtotal_length\u001b[0m=\u001b[3;35mNone\u001b[0m\n",
       "        \u001b[1m)\u001b[0m,\n",
       "        \u001b[1;35mChatMessage\u001b[0m\u001b[1m(\u001b[0m\n",
       "            \u001b[33mrole\u001b[0m=\u001b[32m'assistant'\u001b[0m,\n",
       "            \u001b[33mcontent\u001b[0m=\u001b[32m\"There\u001b[0m\u001b[32m are many popular tourist attractions in San Francisco, including Fisherman's Wharf and \u001b[0m\n",
       "\u001b[32mLombard Street. Fisherman's Wharf is a bustling waterfront area known for its seafood restaurants, souvenir shops, \u001b[0m\n",
       "\u001b[32mand sea lion sightings. Lombard Street, on the other hand, is a famous winding street with eight hairpin turns that\u001b[0m\n",
       "\u001b[32mattract visitors from all over the world. Both of these attractions are must-sees for anyone visiting San \u001b[0m\n",
       "\u001b[32mFrancisco.\"\u001b[0m,\n",
       "            \u001b[33mname\u001b[0m=\u001b[3;35mNone\u001b[0m,\n",
       "            \u001b[33mfunction_call\u001b[0m=\u001b[3;35mNone\u001b[0m,\n",
       "            \u001b[33mreceived_at\u001b[0m=\u001b[1;35mdatetime\u001b[0m\u001b[1;35m.datetime\u001b[0m\u001b[1m(\u001b[0m\u001b[1;36m2023\u001b[0m, \u001b[1;36m6\u001b[0m, \u001b[1;36m20\u001b[0m, \u001b[1;36m11\u001b[0m, \u001b[1;36m23\u001b[0m, \u001b[1;36m55\u001b[0m, \u001b[1;36m867793\u001b[0m, \u001b[33mtzinfo\u001b[0m=\u001b[35mdatetime\u001b[0m.timezone.utc\u001b[1m)\u001b[0m,\n",
       "            \u001b[33mfinish_reason\u001b[0m=\u001b[3;35mNone\u001b[0m,\n",
       "            \u001b[33mprompt_length\u001b[0m=\u001b[3;35mNone\u001b[0m,\n",
       "            \u001b[33mcompletion_length\u001b[0m=\u001b[3;35mNone\u001b[0m,\n",
       "            \u001b[33mtotal_length\u001b[0m=\u001b[3;35mNone\u001b[0m\n",
       "        \u001b[1m)\u001b[0m\n",
       "    \u001b[1m]\u001b[0m,\n",
       "    \u001b[33minput_fields\u001b[0m=\u001b[1m{\u001b[0m\u001b[32m'role'\u001b[0m, \u001b[32m'name'\u001b[0m, \u001b[32m'content'\u001b[0m\u001b[1m}\u001b[0m,\n",
       "    \u001b[33mrecent_messages\u001b[0m=\u001b[3;35mNone\u001b[0m,\n",
       "    \u001b[33msave_messages\u001b[0m=\u001b[3;92mTrue\u001b[0m,\n",
       "    \u001b[33mtotal_prompt_length\u001b[0m=\u001b[1;36m133\u001b[0m,\n",
       "    \u001b[33mtotal_completion_length\u001b[0m=\u001b[1;36m88\u001b[0m,\n",
       "    \u001b[33mtotal_length\u001b[0m=\u001b[1;36m221\u001b[0m,\n",
       "    \u001b[33mtitle\u001b[0m=\u001b[3;35mNone\u001b[0m\n",
       "\u001b[1m)\u001b[0m\n"
      ]
     },
     "metadata": {},
     "output_type": "display_data"
    }
   ],
   "source": [
    "\n",
    "# manually append the nonmodified user message + normal AI response\n",
    "user_message = ChatMessage(role=\"user\", content=prompt)\n",
    "assistant_message = ChatMessage(role=\"assistant\", content=context_dict[\"response\"])\n",
    "sess.add_messages(user_message, assistant_message, save_messages)\n",
    "console_print(sess, title=f\"Session: {sess.id!r}\")"
   ]
  },
  {
   "cell_type": "code",
   "execution_count": null,
   "metadata": {},
   "outputs": [],
   "source": [
    "\n",
    "def gen_with_tools(\n",
    "    chat_gpt_session: ChatGPTSession,\n",
    "    prompt: str,\n",
    "    tools: List[Any],\n",
    "    client: Union[Client, AsyncClient],\n",
    "    system: str = None,\n",
    "    save_messages: bool = None,\n",
    "    params: Dict[str, Any] = None,\n",
    ") -> Dict[str, Any]:\n",
    "    # call 1: select tool and populate context\n",
    "    tools_list = \"\\n\".join(f\"{i+1}: {f.__doc__}\" for i, f in enumerate(tools))\n",
    "    tool_prompt_format = TOOL_PROMPT.format(tools=tools_list)\n",
    "\n",
    "    logit_bias_weight = 100\n",
    "    logit_bias = {str(k): logit_bias_weight for k in range(15, 15 + len(tools) + 1)}\n",
    "\n",
    "    tool_idx = int(\n",
    "        chat_gpt_session.gen(\n",
    "            prompt,\n",
    "            client=client,\n",
    "            system=tool_prompt_format,\n",
    "            save_messages=False,\n",
    "            params={\n",
    "                \"temperature\": 0.0,\n",
    "                \"max_tokens\": 1,\n",
    "                \"logit_bias\": logit_bias,\n",
    "            },\n",
    "        )\n",
    "    )\n",
    "\n",
    "    # if no tool is selected, do a standard generation instead.\n",
    "    if tool_idx == 0:\n",
    "        return {\n",
    "            \"response\": chat_gpt_session.gen(\n",
    "                prompt,\n",
    "                client=client,\n",
    "                system=system,\n",
    "                save_messages=save_messages,\n",
    "                params=params,\n",
    "            ),\n",
    "            \"tool\": None,\n",
    "        }\n",
    "    selected_tool = tools[tool_idx - 1]\n",
    "    context_dict = selected_tool(prompt)\n",
    "    if isinstance(context_dict, str):\n",
    "        context_dict = {\"context\": context_dict}\n",
    "\n",
    "    context_dict[\"tool\"] = selected_tool.__name__\n",
    "\n",
    "    # call 2: generate from the context\n",
    "    new_system = f\"{system or chat_gpt_session.system}\\n\\nYou MUST use information from the context in your response.\"\n",
    "    new_prompt = f\"Context: {context_dict['context']}\\n\\nUser: {prompt}\"\n",
    "\n",
    "    context_dict[\"response\"] = chat_gpt_session.gen(\n",
    "        new_prompt,\n",
    "        client=client,\n",
    "        system=new_system,\n",
    "        save_messages=False,\n",
    "        params=params,\n",
    "    )\n",
    "\n",
    "    # manually append the nonmodified user message + normal AI response\n",
    "    user_message = ChatMessage(role=\"user\", content=prompt)\n",
    "    assistant_message = ChatMessage(role=\"assistant\", content=context_dict[\"response\"])\n",
    "    chat_gpt_session.add_messages(user_message, assistant_message, save_messages)\n",
    "\n",
    "    return context_dict"
   ]
  }
 ],
 "metadata": {
  "kernelspec": {
   "display_name": "venv",
   "language": "python",
   "name": "python3"
  },
  "language_info": {
   "codemirror_mode": {
    "name": "ipython",
    "version": 3
   },
   "file_extension": ".py",
   "mimetype": "text/x-python",
   "name": "python",
   "nbconvert_exporter": "python",
   "pygments_lexer": "ipython3",
   "version": "3.10.6"
  },
  "orig_nbformat": 4
 },
 "nbformat": 4,
 "nbformat_minor": 2
}
